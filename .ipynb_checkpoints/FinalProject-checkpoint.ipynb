{
 "cells": [
  {
   "cell_type": "markdown",
   "metadata": {},
   "source": [
    "# COGS 108 - Final Project "
   ]
  },
  {
   "cell_type": "markdown",
   "metadata": {},
   "source": [
    "# Overview"
   ]
  },
  {
   "cell_type": "markdown",
   "metadata": {},
   "source": [
    "TBD"
   ]
  },
  {
   "cell_type": "markdown",
   "metadata": {},
   "source": [
    "# Names\n",
    "\n",
    "- Ankur Gupta\n",
    "- Aditya Sampath\n",
    "- Pedro Talancon\n",
    "- Koodrut Panesar"
   ]
  },
  {
   "cell_type": "markdown",
   "metadata": {},
   "source": [
    "# Group Members IDs\n",
    "\n",
    "- A13877512\n",
    "- A13441492\n",
    "- A14400378\n",
    "- A13561263"
   ]
  },
  {
   "cell_type": "markdown",
   "metadata": {},
   "source": [
    "# Research Question"
   ]
  },
  {
   "cell_type": "markdown",
   "metadata": {},
   "source": [
    "Income or Density of Liquor Stores"
   ]
  },
  {
   "cell_type": "markdown",
   "metadata": {},
   "source": [
    "## Background and Prior Work"
   ]
  },
  {
   "cell_type": "markdown",
   "metadata": {},
   "source": [
    "*Fill in your background and prior work here* \n",
    "\n",
    "References (include links):\n",
    "- 1)\n",
    "- 2)"
   ]
  },
  {
   "cell_type": "markdown",
   "metadata": {},
   "source": [
    "# Hypothesis\n"
   ]
  },
  {
   "cell_type": "markdown",
   "metadata": {},
   "source": [
    "*Fill in your hypotheses here*"
   ]
  },
  {
   "cell_type": "markdown",
   "metadata": {},
   "source": [
    "# Dataset(s)"
   ]
  },
  {
   "cell_type": "markdown",
   "metadata": {},
   "source": [
    "*Fill in your dataset information here*\n",
    "\n",
    "(Copy this information for each dataset)\n",
    "- Dataset Name:\n",
    "- Link to the dataset:\n",
    "- Number of observations:\n",
    "\n",
    "1-2 sentences describing each dataset. \n",
    "\n",
    "If you plan to use multiple datasets, add 1-2 sentences about how you plan to combine these datasets."
   ]
  },
  {
   "cell_type": "markdown",
   "metadata": {},
   "source": [
    "# Setup"
   ]
  },
  {
   "cell_type": "code",
   "execution_count": 1,
   "metadata": {},
   "outputs": [],
   "source": [
    "import pandas as pd\n",
    "import numpy as np"
   ]
  },
  {
   "cell_type": "markdown",
   "metadata": {},
   "source": [
    "# Data Cleaning"
   ]
  },
  {
   "cell_type": "markdown",
   "metadata": {},
   "source": [
    "Import:\n",
    "1. A file with he last 180 days of San Diego public crime data\n",
    "2. A csv file that contains a mapping of zip codes to population\n",
    "3. A csv file that contains a mapping of zip codes to average adjusted gross income\n",
    "\n",
    "into pandas dataframes"
   ]
  },
  {
   "cell_type": "code",
   "execution_count": 2,
   "metadata": {},
   "outputs": [],
   "source": [
    "crime_df = pd.read_csv('SDPublicCrimeData112019.txt')\n",
    "zip_df = pd.read_csv('zip_pop.csv')\n",
    "income_df = pd.read_csv('zip_income.csv')\n",
    "liquor_stores_df = pd.read_csv('ABC_Licenses.csv')"
   ]
  },
  {
   "cell_type": "code",
   "execution_count": null,
   "metadata": {},
   "outputs": [],
   "source": []
  },
  {
   "cell_type": "code",
   "execution_count": 3,
   "metadata": {},
   "outputs": [],
   "source": [
    "liquor_stores_df = liquor_stores_df[['Status', 'DBA_Name', 'Site_ZIP']]\n",
    "liquor_stores_df.columns = ['Status', 'Name', 'zip']\n",
    "liquor_stores_df = liquor_stores_df[liquor_stores_df['Status'] == 'ACTIVE']"
   ]
  },
  {
   "cell_type": "code",
   "execution_count": 4,
   "metadata": {},
   "outputs": [],
   "source": [
    "for zip_code in liquor_stores_df['zip']:\n",
    "    if len(zip_code) != 5 and len(zip_code) != 10:\n",
    "        print(zip_code)"
   ]
  },
  {
   "cell_type": "code",
   "execution_count": 5,
   "metadata": {},
   "outputs": [],
   "source": [
    "liquor_stores_df['zip'] = liquor_stores_df['zip'].str[:5]\n",
    "liquor_stores_df['zip'] = liquor_stores_df['zip'].astype(float)"
   ]
  },
  {
   "cell_type": "markdown",
   "metadata": {},
   "source": [
    "Isolate for only columns that we need to determine median household income and rename columns to more explanatory names"
   ]
  },
  {
   "cell_type": "code",
   "execution_count": 6,
   "metadata": {},
   "outputs": [],
   "source": [
    "income_df = income_df[['GEO.id2', 'HC03_EST_VC02', 'HC03_MOE_VC02']]\n",
    "income_df.columns = ['zip', 'median_income', 'median_income_moe']"
   ]
  },
  {
   "cell_type": "markdown",
   "metadata": {},
   "source": [
    "Remove all rows that lack income data as well as three rows that have income data that isn't formatted as an int (eg. 25000+) "
   ]
  },
  {
   "cell_type": "code",
   "execution_count": 7,
   "metadata": {},
   "outputs": [],
   "source": [
    "income_df = income_df.drop(income_df[income_df['median_income_moe'] == '**'].index)\n",
    "income_df = income_df.drop(income_df[income_df['median_income_moe'] == '***'].index)\n",
    "income_df = income_df.drop(income_df.index[0])"
   ]
  },
  {
   "cell_type": "markdown",
   "metadata": {},
   "source": [
    "Convert all columns to be floats from strings"
   ]
  },
  {
   "cell_type": "code",
   "execution_count": 8,
   "metadata": {},
   "outputs": [],
   "source": [
    "income_df['zip'] = income_df['zip'].astype(float)\n",
    "income_df['median_income'] = income_df['median_income'].astype(float)\n",
    "income_df['median_income_moe'] = income_df['median_income_moe'].astype(float)"
   ]
  },
  {
   "cell_type": "markdown",
   "metadata": {},
   "source": [
    "Checking the values of the crimes, and making sure DUI doesn't have different spellings"
   ]
  },
  {
   "cell_type": "code",
   "execution_count": 9,
   "metadata": {},
   "outputs": [
    {
     "data": {
      "text/plain": [
       "array(['MOTOR VEHICLE THEFT', 'BURGLARY', 'THEFT/LARCENY', 'ASSAULT',\n",
       "       'ROBBERY', 'VANDALISM', 'DRUGS/ALCOHOL VIOLATIONS', 'WEAPONS',\n",
       "       'DUI', 'FRAUD', 'VEHICLE BREAK-IN/THEFT', 'SEX CRIMES', 'ARSON',\n",
       "       'HOMICIDE'], dtype=object)"
      ]
     },
     "execution_count": 9,
     "metadata": {},
     "output_type": "execute_result"
    }
   ],
   "source": [
    "crime_df.CM_LEGEND.unique()"
   ]
  },
  {
   "cell_type": "markdown",
   "metadata": {},
   "source": [
    "Now we know that there aren't different variations of the DUI spelling, so we can make a dataframe of just DUIs. "
   ]
  },
  {
   "cell_type": "code",
   "execution_count": 10,
   "metadata": {},
   "outputs": [],
   "source": [
    "crime_df = crime_df[crime_df['CM_LEGEND']=='DUI']"
   ]
  },
  {
   "cell_type": "markdown",
   "metadata": {},
   "source": [
    "Next, we check to see all Zip Codes that DUIs were filed under"
   ]
  },
  {
   "cell_type": "code",
   "execution_count": 11,
   "metadata": {
    "scrolled": false
   },
   "outputs": [
    {
     "data": {
      "text/plain": [
       "array([91911., 92024., 91910., 91913., 91915., 92064., 92114., 92009.,\n",
       "       92109., 92118., 92075., 92083., 92008., 91941., 92027., 92084.,\n",
       "       92025., 92111., 92103., 92078., 91932., 92010., 92069., 92123.,\n",
       "       91942., 91950., 92110., 92065., 92102., 91914., 92126., 92081.,\n",
       "       92011., 92056., 91901.,    nan, 92117., 92120., 92054., 92105.,\n",
       "       92113., 20650., 92154., 92057., 92029., 92116., 92101., 92058.,\n",
       "       92026., 92130., 92173., 92139., 92124., 92107., 92121., 92104.,\n",
       "       92106., 92115., 92108., 92128., 92071., 92131., 92037., 92129.,\n",
       "       92122., 92100., 92182., 92021., 92007., 92127., 92020., 92014.,\n",
       "       92140., 92019., 91978., 91951., 91945., 92155., 92040., 91977.,\n",
       "       91902., 92003., 92119., 92028., 90284., 92145.])"
      ]
     },
     "execution_count": 11,
     "metadata": {},
     "output_type": "execute_result"
    }
   ],
   "source": [
    "crime_df[\"ZipCode\"].unique()"
   ]
  },
  {
   "cell_type": "code",
   "execution_count": 12,
   "metadata": {},
   "outputs": [],
   "source": [
    "assert(sum(np.isnan(crime_df[\"ZipCode\"].unique())) == 1)"
   ]
  },
  {
   "cell_type": "markdown",
   "metadata": {},
   "source": [
    "Lets drop the entries that have NaN values in the ZipCode region. "
   ]
  },
  {
   "cell_type": "code",
   "execution_count": 13,
   "metadata": {},
   "outputs": [],
   "source": [
    "crime_df = crime_df.dropna(subset=['ZipCode'])"
   ]
  },
  {
   "cell_type": "code",
   "execution_count": 14,
   "metadata": {},
   "outputs": [],
   "source": [
    "assert(sum(np.isnan(crime_df[\"ZipCode\"].unique())) == 0)"
   ]
  },
  {
   "cell_type": "code",
   "execution_count": 15,
   "metadata": {},
   "outputs": [
    {
     "data": {
      "text/html": [
       "<div>\n",
       "<style scoped>\n",
       "    .dataframe tbody tr th:only-of-type {\n",
       "        vertical-align: middle;\n",
       "    }\n",
       "\n",
       "    .dataframe tbody tr th {\n",
       "        vertical-align: top;\n",
       "    }\n",
       "\n",
       "    .dataframe thead th {\n",
       "        text-align: right;\n",
       "    }\n",
       "</style>\n",
       "<table border=\"1\" class=\"dataframe\">\n",
       "  <thead>\n",
       "    <tr style=\"text-align: right;\">\n",
       "      <th></th>\n",
       "      <th>CM_LEGEND</th>\n",
       "      <th>agency</th>\n",
       "      <th>Charge_Description_Orig</th>\n",
       "      <th>activityDate</th>\n",
       "      <th>BLOCK_ADDRESS</th>\n",
       "      <th>ZipCode</th>\n",
       "      <th>community</th>\n",
       "    </tr>\n",
       "  </thead>\n",
       "  <tbody>\n",
       "    <tr>\n",
       "      <th>27</th>\n",
       "      <td>DUI</td>\n",
       "      <td>CHULA VISTA</td>\n",
       "      <td>DUI ALC/0.08 PERCENT (M)</td>\n",
       "      <td>7/27/2019 2:56:25</td>\n",
       "      <td>400 E  BLOCK PALOMAR STREET</td>\n",
       "      <td>91911.0</td>\n",
       "      <td>CHULA VISTA</td>\n",
       "    </tr>\n",
       "    <tr>\n",
       "      <th>41</th>\n",
       "      <td>DUI</td>\n",
       "      <td>SHERIFF</td>\n",
       "      <td>DUI ALCOHOL (M)</td>\n",
       "      <td>10/3/2019 23:37:00</td>\n",
       "      <td>GLASGOW AVENUE &amp; LIVERPOOL DRIVE</td>\n",
       "      <td>92024.0</td>\n",
       "      <td>ENCINITAS</td>\n",
       "    </tr>\n",
       "    <tr>\n",
       "      <th>68</th>\n",
       "      <td>DUI</td>\n",
       "      <td>CHULA VISTA</td>\n",
       "      <td>DUI ALC/0.08 PERCENT (M)</td>\n",
       "      <td>8/12/2019 1:06:00</td>\n",
       "      <td>300  BLOCK 04TH AVENUE</td>\n",
       "      <td>91910.0</td>\n",
       "      <td>CHULA VISTA</td>\n",
       "    </tr>\n",
       "    <tr>\n",
       "      <th>86</th>\n",
       "      <td>DUI</td>\n",
       "      <td>CHULA VISTA</td>\n",
       "      <td>DUI ALCOHOL (M)</td>\n",
       "      <td>8/15/2019 12:43:00</td>\n",
       "      <td>600  BLOCK BROADWAY</td>\n",
       "      <td>91910.0</td>\n",
       "      <td>CHULA VISTA</td>\n",
       "    </tr>\n",
       "    <tr>\n",
       "      <th>102</th>\n",
       "      <td>DUI</td>\n",
       "      <td>CHULA VISTA</td>\n",
       "      <td>DUI ALC/0.08 PERCENT (M)</td>\n",
       "      <td>8/3/2019 5:05:06</td>\n",
       "      <td>SANTA VENETIAST &amp; WINDCHIME AVENUE</td>\n",
       "      <td>91913.0</td>\n",
       "      <td>NaN</td>\n",
       "    </tr>\n",
       "    <tr>\n",
       "      <th>103</th>\n",
       "      <td>DUI</td>\n",
       "      <td>CHULA VISTA</td>\n",
       "      <td>DUI ALCOHOL (M)</td>\n",
       "      <td>8/4/2019 8:15:00</td>\n",
       "      <td>LA MEDIA ROAD &amp; E PALOMAR STREET</td>\n",
       "      <td>91915.0</td>\n",
       "      <td>CHULA VISTA</td>\n",
       "    </tr>\n",
       "    <tr>\n",
       "      <th>120</th>\n",
       "      <td>DUI</td>\n",
       "      <td>SHERIFF</td>\n",
       "      <td>DUI ALCOHOL (M)</td>\n",
       "      <td>7/29/2019 20:07:00</td>\n",
       "      <td>13500  BLOCK KENTFIELD DRIVE</td>\n",
       "      <td>92064.0</td>\n",
       "      <td>POWAY</td>\n",
       "    </tr>\n",
       "    <tr>\n",
       "      <th>155</th>\n",
       "      <td>DUI</td>\n",
       "      <td>CHULA VISTA</td>\n",
       "      <td>DUI ALCOHOL (M)</td>\n",
       "      <td>9/7/2019 1:06:00</td>\n",
       "      <td>0  BLOCK J STREET ( 200 BLOCK )</td>\n",
       "      <td>91910.0</td>\n",
       "      <td>NaN</td>\n",
       "    </tr>\n",
       "    <tr>\n",
       "      <th>156</th>\n",
       "      <td>DUI</td>\n",
       "      <td>CHULA VISTA</td>\n",
       "      <td>DUI ALC/0.08 PERCENT (M)</td>\n",
       "      <td>9/8/2019 0:56:00</td>\n",
       "      <td>PASEO ENTRADA &amp; PASEO LADERA</td>\n",
       "      <td>91910.0</td>\n",
       "      <td>CHULA VISTA</td>\n",
       "    </tr>\n",
       "    <tr>\n",
       "      <th>157</th>\n",
       "      <td>DUI</td>\n",
       "      <td>CHULA VISTA</td>\n",
       "      <td>DUI ALC/0.08 PERCENT (M)</td>\n",
       "      <td>9/7/2019 22:55:00</td>\n",
       "      <td>BONITA ROAD &amp; PLAZA BONITA ROAD</td>\n",
       "      <td>91910.0</td>\n",
       "      <td>CHULA VISTA</td>\n",
       "    </tr>\n",
       "  </tbody>\n",
       "</table>\n",
       "</div>"
      ],
      "text/plain": [
       "    CM_LEGEND       agency   Charge_Description_Orig        activityDate  \\\n",
       "27        DUI  CHULA VISTA  DUI ALC/0.08 PERCENT (M)   7/27/2019 2:56:25   \n",
       "41        DUI      SHERIFF           DUI ALCOHOL (M)  10/3/2019 23:37:00   \n",
       "68        DUI  CHULA VISTA  DUI ALC/0.08 PERCENT (M)   8/12/2019 1:06:00   \n",
       "86        DUI  CHULA VISTA           DUI ALCOHOL (M)  8/15/2019 12:43:00   \n",
       "102       DUI  CHULA VISTA  DUI ALC/0.08 PERCENT (M)    8/3/2019 5:05:06   \n",
       "103       DUI  CHULA VISTA           DUI ALCOHOL (M)    8/4/2019 8:15:00   \n",
       "120       DUI      SHERIFF           DUI ALCOHOL (M)  7/29/2019 20:07:00   \n",
       "155       DUI  CHULA VISTA           DUI ALCOHOL (M)    9/7/2019 1:06:00   \n",
       "156       DUI  CHULA VISTA  DUI ALC/0.08 PERCENT (M)    9/8/2019 0:56:00   \n",
       "157       DUI  CHULA VISTA  DUI ALC/0.08 PERCENT (M)   9/7/2019 22:55:00   \n",
       "\n",
       "                          BLOCK_ADDRESS  ZipCode    community  \n",
       "27          400 E  BLOCK PALOMAR STREET  91911.0  CHULA VISTA  \n",
       "41     GLASGOW AVENUE & LIVERPOOL DRIVE  92024.0    ENCINITAS  \n",
       "68               300  BLOCK 04TH AVENUE  91910.0  CHULA VISTA  \n",
       "86                  600  BLOCK BROADWAY  91910.0  CHULA VISTA  \n",
       "102  SANTA VENETIAST & WINDCHIME AVENUE  91913.0          NaN  \n",
       "103    LA MEDIA ROAD & E PALOMAR STREET  91915.0  CHULA VISTA  \n",
       "120        13500  BLOCK KENTFIELD DRIVE  92064.0        POWAY  \n",
       "155     0  BLOCK J STREET ( 200 BLOCK )  91910.0          NaN  \n",
       "156        PASEO ENTRADA & PASEO LADERA  91910.0  CHULA VISTA  \n",
       "157     BONITA ROAD & PLAZA BONITA ROAD  91910.0  CHULA VISTA  "
      ]
     },
     "execution_count": 15,
     "metadata": {},
     "output_type": "execute_result"
    }
   ],
   "source": [
    "crime_df.head(10)"
   ]
  },
  {
   "cell_type": "markdown",
   "metadata": {},
   "source": [
    "Now, Lets apply safe harbor and drop some columns"
   ]
  },
  {
   "cell_type": "code",
   "execution_count": 16,
   "metadata": {},
   "outputs": [],
   "source": [
    "crime_df = crime_df.drop(['activityDate', 'BLOCK_ADDRESS', 'community'], axis = 1)"
   ]
  },
  {
   "cell_type": "markdown",
   "metadata": {},
   "source": [
    "Next, we drop the agency column due to that being irrelevant for our analysis"
   ]
  },
  {
   "cell_type": "code",
   "execution_count": 17,
   "metadata": {},
   "outputs": [],
   "source": [
    "crime_df = crime_df.drop(['agency'], axis = 1)"
   ]
  },
  {
   "cell_type": "markdown",
   "metadata": {},
   "source": [
    "After dropping unnecessary columns, rename the remaining columns to more friendly names."
   ]
  },
  {
   "cell_type": "code",
   "execution_count": 18,
   "metadata": {},
   "outputs": [],
   "source": [
    "crime_df.columns = ['crime', 'charge_description', 'zip']"
   ]
  },
  {
   "cell_type": "markdown",
   "metadata": {},
   "source": [
    "Now lets analyze the zipcodes and see if we need to clean the data\n"
   ]
  },
  {
   "cell_type": "code",
   "execution_count": 19,
   "metadata": {},
   "outputs": [
    {
     "name": "stdout",
     "output_type": "stream",
     "text": [
      "85\n",
      "[91911. 92024. 91910. 91913. 91915. 92064. 92114. 92009. 92109. 92118.\n",
      " 92075. 92083. 92008. 91941. 92027. 92084. 92025. 92111. 92103. 92078.\n",
      " 91932. 92010. 92069. 92123. 91942. 91950. 92110. 92065. 92102. 91914.\n",
      " 92126. 92081. 92011. 92056. 91901. 92117. 92120. 92054. 92105. 92113.\n",
      " 20650. 92154. 92057. 92029. 92116. 92101. 92058. 92026. 92130. 92173.\n",
      " 92139. 92124. 92107. 92121. 92104. 92106. 92115. 92108. 92128. 92071.\n",
      " 92131. 92037. 92129. 92122. 92100. 92182. 92021. 92007. 92127. 92020.\n",
      " 92014. 92140. 92019. 91978. 91951. 91945. 92155. 92040. 91977. 91902.\n",
      " 92003. 92119. 92028. 90284. 92145.]\n",
      "      crime charge_description      zip\n",
      "1968    DUI    DUI ALCOHOL (M)  20650.0\n",
      "2108    DUI    DUI ALCOHOL (M)  20650.0\n",
      "10001   DUI    DUI ALCOHOL (M)  20650.0\n"
     ]
    }
   ],
   "source": [
    "print(len(crime_df[\"zip\"].unique()))\n",
    "print(crime_df[\"zip\"].unique())\n",
    "print(crime_df[crime_df[\"zip\"] == 20650])"
   ]
  },
  {
   "cell_type": "markdown",
   "metadata": {},
   "source": [
    "All of the zipcodes seem to be San Diego zipcodes except for 20650, so we will drop those entries"
   ]
  },
  {
   "cell_type": "code",
   "execution_count": 20,
   "metadata": {},
   "outputs": [],
   "source": [
    "crime_df = crime_df.drop(crime_df[crime_df[\"zip\"] == 20650].index)"
   ]
  },
  {
   "cell_type": "code",
   "execution_count": 21,
   "metadata": {},
   "outputs": [],
   "source": [
    "assert(len(crime_df[crime_df[\"zip\"] == 20650]) == 0)"
   ]
  },
  {
   "cell_type": "markdown",
   "metadata": {},
   "source": [
    "Now that we have San Diego zip codes, merge the zipcode-population dataframe with the crime dataframe on the zip code column so that we can have a list of population per zip code and crime data in one dataframe. We do a left merge because we only want to merge on zip codes that exist in the crime dataframe"
   ]
  },
  {
   "cell_type": "code",
   "execution_count": 22,
   "metadata": {},
   "outputs": [],
   "source": [
    "result = pd.merge(crime_df, zip_df, on='zip', how='left')"
   ]
  },
  {
   "cell_type": "markdown",
   "metadata": {},
   "source": [
    "Check if any zip codes don't have an associated population count and determine why."
   ]
  },
  {
   "cell_type": "code",
   "execution_count": 23,
   "metadata": {
    "scrolled": true
   },
   "outputs": [
    {
     "data": {
      "text/html": [
       "<div>\n",
       "<style scoped>\n",
       "    .dataframe tbody tr th:only-of-type {\n",
       "        vertical-align: middle;\n",
       "    }\n",
       "\n",
       "    .dataframe tbody tr th {\n",
       "        vertical-align: top;\n",
       "    }\n",
       "\n",
       "    .dataframe thead th {\n",
       "        text-align: right;\n",
       "    }\n",
       "</style>\n",
       "<table border=\"1\" class=\"dataframe\">\n",
       "  <thead>\n",
       "    <tr style=\"text-align: right;\">\n",
       "      <th></th>\n",
       "      <th>crime</th>\n",
       "      <th>charge_description</th>\n",
       "      <th>zip</th>\n",
       "      <th>population</th>\n",
       "    </tr>\n",
       "  </thead>\n",
       "  <tbody>\n",
       "    <tr>\n",
       "      <th>469</th>\n",
       "      <td>DUI</td>\n",
       "      <td>DUI ALC/0.08 PERCENT (M)</td>\n",
       "      <td>92100.0</td>\n",
       "      <td>NaN</td>\n",
       "    </tr>\n",
       "    <tr>\n",
       "      <th>515</th>\n",
       "      <td>DUI</td>\n",
       "      <td>DUI ALC/0.08 PERCENT (M)</td>\n",
       "      <td>92182.0</td>\n",
       "      <td>NaN</td>\n",
       "    </tr>\n",
       "    <tr>\n",
       "      <th>830</th>\n",
       "      <td>DUI</td>\n",
       "      <td>DUI ALCOHOL (M)</td>\n",
       "      <td>91951.0</td>\n",
       "      <td>NaN</td>\n",
       "    </tr>\n",
       "    <tr>\n",
       "      <th>1561</th>\n",
       "      <td>DUI</td>\n",
       "      <td>DUI ALCOHOL (M)</td>\n",
       "      <td>90284.0</td>\n",
       "      <td>NaN</td>\n",
       "    </tr>\n",
       "  </tbody>\n",
       "</table>\n",
       "</div>"
      ],
      "text/plain": [
       "     crime        charge_description      zip  population\n",
       "469    DUI  DUI ALC/0.08 PERCENT (M)  92100.0         NaN\n",
       "515    DUI  DUI ALC/0.08 PERCENT (M)  92182.0         NaN\n",
       "830    DUI           DUI ALCOHOL (M)  91951.0         NaN\n",
       "1561   DUI           DUI ALCOHOL (M)  90284.0         NaN"
      ]
     },
     "execution_count": 23,
     "metadata": {},
     "output_type": "execute_result"
    }
   ],
   "source": [
    "result[result['population'].isnull() == True]"
   ]
  },
  {
   "cell_type": "markdown",
   "metadata": {},
   "source": [
    "These zipcodes weren't listed in the 2010 Census. After examining the zip codes without a population count, we determined that two zip codes (92100 and 90284) aren't real zip codes, so we'll drop those. The zip code 92182 is the zip code for SDSU, which has a population of 0, so we'll drop that zip code. The zip code 91951 is a PO zip code that also has a population of 0, so we'll drop that zip code as well."
   ]
  },
  {
   "cell_type": "code",
   "execution_count": 24,
   "metadata": {},
   "outputs": [],
   "source": [
    "result = result.drop(result[result[\"zip\"] == 92100].index)\n",
    "result = result.drop(result[result[\"zip\"] == 92182].index)\n",
    "result = result.drop(result[result[\"zip\"] == 91951].index)\n",
    "result = result.drop(result[result[\"zip\"] == 90284].index)"
   ]
  },
  {
   "cell_type": "code",
   "execution_count": 25,
   "metadata": {},
   "outputs": [],
   "source": [
    "assert(len(result[result[\"zip\"] == 92100]) == 0)\n",
    "assert(len(result[result[\"zip\"] == 92182]) == 0)\n",
    "assert(len(result[result[\"zip\"] == 91951]) == 0)\n",
    "assert(len(result[result[\"zip\"] == 90284]) == 0)"
   ]
  },
  {
   "cell_type": "markdown",
   "metadata": {},
   "source": [
    "Merge the crime/population dataframe with the income dataframe on the zip code column so that we can have income per zip code, a list of population per zip code and crime data in one dataframe. We do a left merge because we only want to merge on zip codes that exist in the crime/population dataframe"
   ]
  },
  {
   "cell_type": "code",
   "execution_count": 26,
   "metadata": {},
   "outputs": [],
   "source": [
    "result = pd.merge(result, income_df, on='zip', how='left')"
   ]
  },
  {
   "cell_type": "markdown",
   "metadata": {},
   "source": [
    "Check if any zip codes don't have an associated income and determine why."
   ]
  },
  {
   "cell_type": "code",
   "execution_count": 27,
   "metadata": {},
   "outputs": [
    {
     "data": {
      "text/html": [
       "<div>\n",
       "<style scoped>\n",
       "    .dataframe tbody tr th:only-of-type {\n",
       "        vertical-align: middle;\n",
       "    }\n",
       "\n",
       "    .dataframe tbody tr th {\n",
       "        vertical-align: top;\n",
       "    }\n",
       "\n",
       "    .dataframe thead th {\n",
       "        text-align: right;\n",
       "    }\n",
       "</style>\n",
       "<table border=\"1\" class=\"dataframe\">\n",
       "  <thead>\n",
       "    <tr style=\"text-align: right;\">\n",
       "      <th></th>\n",
       "      <th>crime</th>\n",
       "      <th>charge_description</th>\n",
       "      <th>zip</th>\n",
       "      <th>population</th>\n",
       "      <th>median_income</th>\n",
       "      <th>median_income_moe</th>\n",
       "    </tr>\n",
       "  </thead>\n",
       "  <tbody>\n",
       "    <tr>\n",
       "      <th>699</th>\n",
       "      <td>DUI</td>\n",
       "      <td>DUI ALCOHOL (M)</td>\n",
       "      <td>92140.0</td>\n",
       "      <td>3435.0</td>\n",
       "      <td>NaN</td>\n",
       "      <td>NaN</td>\n",
       "    </tr>\n",
       "    <tr>\n",
       "      <th>1016</th>\n",
       "      <td>DUI</td>\n",
       "      <td>DUI ALCOHOL</td>\n",
       "      <td>92155.0</td>\n",
       "      <td>550.0</td>\n",
       "      <td>NaN</td>\n",
       "      <td>NaN</td>\n",
       "    </tr>\n",
       "    <tr>\n",
       "      <th>1993</th>\n",
       "      <td>DUI</td>\n",
       "      <td>USE WATERCRAFT WHILE UNDER INFLUENCE OF ALCOHO...</td>\n",
       "      <td>92155.0</td>\n",
       "      <td>550.0</td>\n",
       "      <td>NaN</td>\n",
       "      <td>NaN</td>\n",
       "    </tr>\n",
       "  </tbody>\n",
       "</table>\n",
       "</div>"
      ],
      "text/plain": [
       "     crime                                 charge_description      zip  \\\n",
       "699    DUI                                    DUI ALCOHOL (M)  92140.0   \n",
       "1016   DUI                                        DUI ALCOHOL  92155.0   \n",
       "1993   DUI  USE WATERCRAFT WHILE UNDER INFLUENCE OF ALCOHO...  92155.0   \n",
       "\n",
       "      population  median_income  median_income_moe  \n",
       "699       3435.0            NaN                NaN  \n",
       "1016       550.0            NaN                NaN  \n",
       "1993       550.0            NaN                NaN  "
      ]
     },
     "execution_count": 27,
     "metadata": {},
     "output_type": "execute_result"
    }
   ],
   "source": [
    "result[result['median_income'].isnull() == True]"
   ]
  },
  {
   "cell_type": "markdown",
   "metadata": {},
   "source": [
    "After examining the zip codes without a associated income, we determined that the two zip codes (92140 and 92155) are military bases, which is why they lack average income. As a result, we'll drop the three rows of DUI incidents in those zip codes."
   ]
  },
  {
   "cell_type": "code",
   "execution_count": 28,
   "metadata": {},
   "outputs": [],
   "source": [
    "result = result.drop(result[result[\"zip\"] == 92140].index)\n",
    "result = result.drop(result[result[\"zip\"] == 92155].index)"
   ]
  },
  {
   "cell_type": "code",
   "execution_count": 29,
   "metadata": {},
   "outputs": [],
   "source": [
    "assert(len(result[result[\"zip\"] == 92140]) == 0)\n",
    "assert(len(result[result[\"zip\"] == 92155]) == 0)"
   ]
  },
  {
   "cell_type": "code",
   "execution_count": 33,
   "metadata": {
    "scrolled": true
   },
   "outputs": [
    {
     "name": "stdout",
     "output_type": "stream",
     "text": [
      "92145.0\n",
      "92145.0\n"
     ]
    },
    {
     "data": {
      "text/html": [
       "<div>\n",
       "<style scoped>\n",
       "    .dataframe tbody tr th:only-of-type {\n",
       "        vertical-align: middle;\n",
       "    }\n",
       "\n",
       "    .dataframe tbody tr th {\n",
       "        vertical-align: top;\n",
       "    }\n",
       "\n",
       "    .dataframe thead th {\n",
       "        text-align: right;\n",
       "    }\n",
       "</style>\n",
       "<table border=\"1\" class=\"dataframe\">\n",
       "  <thead>\n",
       "    <tr style=\"text-align: right;\">\n",
       "      <th></th>\n",
       "      <th>crime</th>\n",
       "      <th>charge_description</th>\n",
       "      <th>zip</th>\n",
       "      <th>population</th>\n",
       "      <th>median_income</th>\n",
       "      <th>median_income_moe</th>\n",
       "    </tr>\n",
       "  </thead>\n",
       "  <tbody>\n",
       "    <tr>\n",
       "      <th>1568</th>\n",
       "      <td>DUI</td>\n",
       "      <td>DUI ALC/0.08 PERCENT (M)</td>\n",
       "      <td>92145.0</td>\n",
       "      <td>1449.0</td>\n",
       "      <td>141691.0</td>\n",
       "      <td>124639.0</td>\n",
       "    </tr>\n",
       "    <tr>\n",
       "      <th>1952</th>\n",
       "      <td>DUI</td>\n",
       "      <td>DUI ALC/0.08 PERCENT (M)</td>\n",
       "      <td>92145.0</td>\n",
       "      <td>1449.0</td>\n",
       "      <td>141691.0</td>\n",
       "      <td>124639.0</td>\n",
       "    </tr>\n",
       "  </tbody>\n",
       "</table>\n",
       "</div>"
      ],
      "text/plain": [
       "     crime        charge_description      zip  population  median_income  \\\n",
       "1568   DUI  DUI ALC/0.08 PERCENT (M)  92145.0      1449.0       141691.0   \n",
       "1952   DUI  DUI ALC/0.08 PERCENT (M)  92145.0      1449.0       141691.0   \n",
       "\n",
       "      median_income_moe  \n",
       "1568           124639.0  \n",
       "1952           124639.0  "
      ]
     },
     "execution_count": 33,
     "metadata": {},
     "output_type": "execute_result"
    }
   ],
   "source": [
    "unique_crime_zips = result['zip']\n",
    "liquor_zips = set(liquor_stores_df['zip'])\n",
    "\n",
    "for crime_zip in unique_crime_zips:\n",
    "    if crime_zip not in liquor_zips:\n",
    "        print(crime_zip)\n",
    "        \n",
    "result[result['zip'] == 92145.0]"
   ]
  },
  {
   "cell_type": "markdown",
   "metadata": {},
   "source": [
    "# Data Analysis & Results"
   ]
  },
  {
   "cell_type": "markdown",
   "metadata": {},
   "source": [
    "Include cells that describe the steps in your data analysis."
   ]
  },
  {
   "cell_type": "code",
   "execution_count": null,
   "metadata": {},
   "outputs": [],
   "source": [
    "## YOUR CODE HERE\n",
    "## FEEL FREE TO ADD MULTIPLE CELLS PER SECTION"
   ]
  },
  {
   "cell_type": "markdown",
   "metadata": {},
   "source": [
    "# Ethics & Privacy"
   ]
  },
  {
   "cell_type": "markdown",
   "metadata": {},
   "source": [
    "*Fill in your ethics & privacy discussion here*"
   ]
  },
  {
   "cell_type": "markdown",
   "metadata": {},
   "source": [
    "# Conclusion & Discussion"
   ]
  },
  {
   "cell_type": "markdown",
   "metadata": {},
   "source": [
    "*Fill in your discussion information here*"
   ]
  }
 ],
 "metadata": {
  "kernelspec": {
   "display_name": "Python 3",
   "language": "python",
   "name": "python3"
  },
  "language_info": {
   "codemirror_mode": {
    "name": "ipython",
    "version": 3
   },
   "file_extension": ".py",
   "mimetype": "text/x-python",
   "name": "python",
   "nbconvert_exporter": "python",
   "pygments_lexer": "ipython3",
   "version": "3.7.3"
  }
 },
 "nbformat": 4,
 "nbformat_minor": 2
}
