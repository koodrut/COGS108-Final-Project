{
 "cells": [
  {
   "cell_type": "markdown",
   "metadata": {},
   "source": [
    "# COGS 108 - Final Project "
   ]
  },
  {
   "cell_type": "markdown",
   "metadata": {},
   "source": [
    "# Overview"
   ]
  },
  {
   "cell_type": "markdown",
   "metadata": {},
   "source": [
    "TBD"
   ]
  },
  {
   "cell_type": "markdown",
   "metadata": {},
   "source": [
    "# Names\n",
    "\n",
    "- Ankur Gupta\n",
    "- Aditya Sampath\n",
    "- Pedro Talancon\n",
    "- Koodrut Panesar"
   ]
  },
  {
   "cell_type": "markdown",
   "metadata": {},
   "source": [
    "# Group Members IDs\n",
    "\n",
    "- A13877512\n",
    "- A13441492\n",
    "- A14400378\n",
    "- A13561263"
   ]
  },
  {
   "cell_type": "markdown",
   "metadata": {},
   "source": [
    "# Research Question"
   ]
  },
  {
   "cell_type": "markdown",
   "metadata": {},
   "source": [
    "Income or Density of Liquor Stores"
   ]
  },
  {
   "cell_type": "markdown",
   "metadata": {},
   "source": [
    "## Background and Prior Work"
   ]
  },
  {
   "cell_type": "markdown",
   "metadata": {},
   "source": [
    "*Fill in your background and prior work here* \n",
    "\n",
    "References (include links):\n",
    "- 1)\n",
    "- 2)"
   ]
  },
  {
   "cell_type": "markdown",
   "metadata": {},
   "source": [
    "# Hypothesis\n"
   ]
  },
  {
   "cell_type": "markdown",
   "metadata": {},
   "source": [
    "*Fill in your hypotheses here*"
   ]
  },
  {
   "cell_type": "markdown",
   "metadata": {},
   "source": [
    "# Dataset(s)"
   ]
  },
  {
   "cell_type": "markdown",
   "metadata": {},
   "source": [
    "*Fill in your dataset information here*\n",
    "\n",
    "(Copy this information for each dataset)\n",
    "- Dataset Name:\n",
    "- Link to the dataset:\n",
    "- Number of observations:\n",
    "\n",
    "1-2 sentences describing each dataset. \n",
    "\n",
    "If you plan to use multiple datasets, add 1-2 sentences about how you plan to combine these datasets."
   ]
  },
  {
   "cell_type": "markdown",
   "metadata": {},
   "source": [
    "# Setup"
   ]
  },
  {
   "cell_type": "code",
   "execution_count": 1,
   "metadata": {},
   "outputs": [],
   "source": [
    "# Imports \n",
    "%matplotlib inline\n",
    "\n",
    "import pandas as pd\n",
    "import numpy as np\n",
    "import matplotlib.pyplot as plt\n",
    "\n",
    "import patsy\n",
    "import statsmodels.api as sm\n",
    "import scipy.stats as stats\n",
    "from scipy.stats import ttest_ind, chisquare, normaltest\n",
    "\n"
   ]
  },
  {
   "cell_type": "markdown",
   "metadata": {},
   "source": [
    "# Data Cleaning"
   ]
  },
  {
   "cell_type": "markdown",
   "metadata": {},
   "source": [
    "Import:\n",
    "1. A file with he last 180 days of San Diego public crime data\n",
    "2. A csv file that contains a mapping of zip codes to population\n",
    "3. A csv file that contains a mapping of zip codes to average adjusted gross income\n",
    "\n",
    "into pandas dataframes"
   ]
  },
  {
   "cell_type": "code",
   "execution_count": 2,
   "metadata": {},
   "outputs": [],
   "source": [
    "crime_df = pd.read_csv('SDPublicCrimeData112019.txt')\n",
    "zip_df = pd.read_csv('zip_pop.csv')\n",
    "income_df = pd.read_csv('zip_income.csv')\n",
    "liquor_stores_df = pd.read_csv('ABC_Licenses.csv')"
   ]
  },
  {
   "cell_type": "markdown",
   "metadata": {},
   "source": [
    "Only keep necessary columns from the list of liquor stores (Name, license status, and liquor store zip code). Then only keep liquor stores with active licenses. Lastly, rename the columns to be more explanatory/friendly names."
   ]
  },
  {
   "cell_type": "code",
   "execution_count": 3,
   "metadata": {},
   "outputs": [],
   "source": [
    "liquor_stores_df = liquor_stores_df[['Status', 'DBA_Name', 'Site_ZIP']]\n",
    "liquor_stores_df = liquor_stores_df[liquor_stores_df['Status'] == 'ACTIVE']\n",
    "liquor_stores_df.columns = ['Status', 'Name', 'zip']"
   ]
  },
  {
   "cell_type": "markdown",
   "metadata": {},
   "source": [
    "Ensure that all zip codes are valid and are either in the standard 5 digit format or also contain the 4 additional digits used by the USPS."
   ]
  },
  {
   "cell_type": "code",
   "execution_count": 4,
   "metadata": {},
   "outputs": [],
   "source": [
    "for zip_code in liquor_stores_df['zip']:\n",
    "    if len(zip_code) != 5 and len(zip_code) != 10:\n",
    "        print(zip_code)"
   ]
  },
  {
   "cell_type": "markdown",
   "metadata": {},
   "source": [
    "We found no invalid zipcodes. Now, remove the last 4 digits of the zip code where they exist, keeping only the standard 5 digit zip code. Convert the zip code column to floats."
   ]
  },
  {
   "cell_type": "code",
   "execution_count": 5,
   "metadata": {},
   "outputs": [],
   "source": [
    "liquor_stores_df['zip'] = liquor_stores_df['zip'].str[:5]\n",
    "liquor_stores_df['zip'] = liquor_stores_df['zip'].astype(float)"
   ]
  },
  {
   "cell_type": "markdown",
   "metadata": {},
   "source": [
    "Isolate for only columns that we need to determine median household income and rename columns to more explanatory names"
   ]
  },
  {
   "cell_type": "code",
   "execution_count": 6,
   "metadata": {},
   "outputs": [],
   "source": [
    "income_df = income_df[['GEO.id2', 'HC03_EST_VC02', 'HC03_MOE_VC02']]\n",
    "income_df.columns = ['zip', 'median_income', 'median_income_moe']"
   ]
  },
  {
   "cell_type": "markdown",
   "metadata": {},
   "source": [
    "Remove all rows that lack income data as well as three rows that have income data that isn't formatted as an int (eg. 25000+) "
   ]
  },
  {
   "cell_type": "code",
   "execution_count": 7,
   "metadata": {},
   "outputs": [],
   "source": [
    "income_df = income_df.drop(income_df[income_df['median_income_moe'] == '**'].index)\n",
    "income_df = income_df.drop(income_df[income_df['median_income_moe'] == '***'].index)\n",
    "income_df = income_df.drop(income_df.index[0])"
   ]
  },
  {
   "cell_type": "markdown",
   "metadata": {},
   "source": [
    "Convert all columns to be floats from strings"
   ]
  },
  {
   "cell_type": "code",
   "execution_count": 8,
   "metadata": {},
   "outputs": [],
   "source": [
    "income_df['zip'] = income_df['zip'].astype(float)\n",
    "income_df['median_income'] = income_df['median_income'].astype(float)\n",
    "income_df['median_income_moe'] = income_df['median_income_moe'].astype(float)"
   ]
  },
  {
   "cell_type": "markdown",
   "metadata": {},
   "source": [
    "Checking the values of the crimes, and making sure DUI doesn't have different spellings"
   ]
  },
  {
   "cell_type": "code",
   "execution_count": 9,
   "metadata": {},
   "outputs": [
    {
     "data": {
      "text/plain": [
       "array(['MOTOR VEHICLE THEFT', 'BURGLARY', 'THEFT/LARCENY', 'ASSAULT',\n",
       "       'ROBBERY', 'VANDALISM', 'DRUGS/ALCOHOL VIOLATIONS', 'WEAPONS',\n",
       "       'DUI', 'FRAUD', 'VEHICLE BREAK-IN/THEFT', 'SEX CRIMES', 'ARSON',\n",
       "       'HOMICIDE'], dtype=object)"
      ]
     },
     "execution_count": 9,
     "metadata": {},
     "output_type": "execute_result"
    }
   ],
   "source": [
    "crime_df.CM_LEGEND.unique()"
   ]
  },
  {
   "cell_type": "markdown",
   "metadata": {},
   "source": [
    "Now we know that there aren't different variations of the DUI spelling, so we can make a dataframe of just DUIs. "
   ]
  },
  {
   "cell_type": "code",
   "execution_count": 10,
   "metadata": {},
   "outputs": [],
   "source": [
    "crime_df = crime_df[crime_df['CM_LEGEND']=='DUI']"
   ]
  },
  {
   "cell_type": "markdown",
   "metadata": {},
   "source": [
    "Next, we check to see all Zip Codes that DUIs were filed under"
   ]
  },
  {
   "cell_type": "code",
   "execution_count": 11,
   "metadata": {
    "scrolled": false
   },
   "outputs": [
    {
     "data": {
      "text/plain": [
       "array([91911., 92024., 91910., 91913., 91915., 92064., 92114., 92009.,\n",
       "       92109., 92118., 92075., 92083., 92008., 91941., 92027., 92084.,\n",
       "       92025., 92111., 92103., 92078., 91932., 92010., 92069., 92123.,\n",
       "       91942., 91950., 92110., 92065., 92102., 91914., 92126., 92081.,\n",
       "       92011., 92056., 91901.,    nan, 92117., 92120., 92054., 92105.,\n",
       "       92113., 20650., 92154., 92057., 92029., 92116., 92101., 92058.,\n",
       "       92026., 92130., 92173., 92139., 92124., 92107., 92121., 92104.,\n",
       "       92106., 92115., 92108., 92128., 92071., 92131., 92037., 92129.,\n",
       "       92122., 92100., 92182., 92021., 92007., 92127., 92020., 92014.,\n",
       "       92140., 92019., 91978., 91951., 91945., 92155., 92040., 91977.,\n",
       "       91902., 92003., 92119., 92028., 90284., 92145.])"
      ]
     },
     "execution_count": 11,
     "metadata": {},
     "output_type": "execute_result"
    }
   ],
   "source": [
    "crime_df[\"ZipCode\"].unique()"
   ]
  },
  {
   "cell_type": "code",
   "execution_count": 12,
   "metadata": {},
   "outputs": [],
   "source": [
    "assert(sum(np.isnan(crime_df[\"ZipCode\"].unique())) == 1)"
   ]
  },
  {
   "cell_type": "markdown",
   "metadata": {},
   "source": [
    "Lets drop the entries that have NaN values in the ZipCode region. "
   ]
  },
  {
   "cell_type": "code",
   "execution_count": 13,
   "metadata": {},
   "outputs": [],
   "source": [
    "crime_df = crime_df.dropna(subset=['ZipCode'])"
   ]
  },
  {
   "cell_type": "code",
   "execution_count": 14,
   "metadata": {},
   "outputs": [],
   "source": [
    "assert(sum(np.isnan(crime_df[\"ZipCode\"].unique())) == 0)"
   ]
  },
  {
   "cell_type": "code",
   "execution_count": 15,
   "metadata": {},
   "outputs": [
    {
     "data": {
      "text/html": [
       "<div>\n",
       "<style scoped>\n",
       "    .dataframe tbody tr th:only-of-type {\n",
       "        vertical-align: middle;\n",
       "    }\n",
       "\n",
       "    .dataframe tbody tr th {\n",
       "        vertical-align: top;\n",
       "    }\n",
       "\n",
       "    .dataframe thead th {\n",
       "        text-align: right;\n",
       "    }\n",
       "</style>\n",
       "<table border=\"1\" class=\"dataframe\">\n",
       "  <thead>\n",
       "    <tr style=\"text-align: right;\">\n",
       "      <th></th>\n",
       "      <th>CM_LEGEND</th>\n",
       "      <th>agency</th>\n",
       "      <th>Charge_Description_Orig</th>\n",
       "      <th>activityDate</th>\n",
       "      <th>BLOCK_ADDRESS</th>\n",
       "      <th>ZipCode</th>\n",
       "      <th>community</th>\n",
       "    </tr>\n",
       "  </thead>\n",
       "  <tbody>\n",
       "    <tr>\n",
       "      <td>27</td>\n",
       "      <td>DUI</td>\n",
       "      <td>CHULA VISTA</td>\n",
       "      <td>DUI ALC/0.08 PERCENT (M)</td>\n",
       "      <td>7/27/2019 2:56:25</td>\n",
       "      <td>400 E  BLOCK PALOMAR STREET</td>\n",
       "      <td>91911.0</td>\n",
       "      <td>CHULA VISTA</td>\n",
       "    </tr>\n",
       "    <tr>\n",
       "      <td>41</td>\n",
       "      <td>DUI</td>\n",
       "      <td>SHERIFF</td>\n",
       "      <td>DUI ALCOHOL (M)</td>\n",
       "      <td>10/3/2019 23:37:00</td>\n",
       "      <td>GLASGOW AVENUE &amp; LIVERPOOL DRIVE</td>\n",
       "      <td>92024.0</td>\n",
       "      <td>ENCINITAS</td>\n",
       "    </tr>\n",
       "    <tr>\n",
       "      <td>68</td>\n",
       "      <td>DUI</td>\n",
       "      <td>CHULA VISTA</td>\n",
       "      <td>DUI ALC/0.08 PERCENT (M)</td>\n",
       "      <td>8/12/2019 1:06:00</td>\n",
       "      <td>300  BLOCK 04TH AVENUE</td>\n",
       "      <td>91910.0</td>\n",
       "      <td>CHULA VISTA</td>\n",
       "    </tr>\n",
       "    <tr>\n",
       "      <td>86</td>\n",
       "      <td>DUI</td>\n",
       "      <td>CHULA VISTA</td>\n",
       "      <td>DUI ALCOHOL (M)</td>\n",
       "      <td>8/15/2019 12:43:00</td>\n",
       "      <td>600  BLOCK BROADWAY</td>\n",
       "      <td>91910.0</td>\n",
       "      <td>CHULA VISTA</td>\n",
       "    </tr>\n",
       "    <tr>\n",
       "      <td>102</td>\n",
       "      <td>DUI</td>\n",
       "      <td>CHULA VISTA</td>\n",
       "      <td>DUI ALC/0.08 PERCENT (M)</td>\n",
       "      <td>8/3/2019 5:05:06</td>\n",
       "      <td>SANTA VENETIAST &amp; WINDCHIME AVENUE</td>\n",
       "      <td>91913.0</td>\n",
       "      <td>NaN</td>\n",
       "    </tr>\n",
       "    <tr>\n",
       "      <td>103</td>\n",
       "      <td>DUI</td>\n",
       "      <td>CHULA VISTA</td>\n",
       "      <td>DUI ALCOHOL (M)</td>\n",
       "      <td>8/4/2019 8:15:00</td>\n",
       "      <td>LA MEDIA ROAD &amp; E PALOMAR STREET</td>\n",
       "      <td>91915.0</td>\n",
       "      <td>CHULA VISTA</td>\n",
       "    </tr>\n",
       "    <tr>\n",
       "      <td>120</td>\n",
       "      <td>DUI</td>\n",
       "      <td>SHERIFF</td>\n",
       "      <td>DUI ALCOHOL (M)</td>\n",
       "      <td>7/29/2019 20:07:00</td>\n",
       "      <td>13500  BLOCK KENTFIELD DRIVE</td>\n",
       "      <td>92064.0</td>\n",
       "      <td>POWAY</td>\n",
       "    </tr>\n",
       "    <tr>\n",
       "      <td>155</td>\n",
       "      <td>DUI</td>\n",
       "      <td>CHULA VISTA</td>\n",
       "      <td>DUI ALCOHOL (M)</td>\n",
       "      <td>9/7/2019 1:06:00</td>\n",
       "      <td>0  BLOCK J STREET ( 200 BLOCK )</td>\n",
       "      <td>91910.0</td>\n",
       "      <td>NaN</td>\n",
       "    </tr>\n",
       "    <tr>\n",
       "      <td>156</td>\n",
       "      <td>DUI</td>\n",
       "      <td>CHULA VISTA</td>\n",
       "      <td>DUI ALC/0.08 PERCENT (M)</td>\n",
       "      <td>9/8/2019 0:56:00</td>\n",
       "      <td>PASEO ENTRADA &amp; PASEO LADERA</td>\n",
       "      <td>91910.0</td>\n",
       "      <td>CHULA VISTA</td>\n",
       "    </tr>\n",
       "    <tr>\n",
       "      <td>157</td>\n",
       "      <td>DUI</td>\n",
       "      <td>CHULA VISTA</td>\n",
       "      <td>DUI ALC/0.08 PERCENT (M)</td>\n",
       "      <td>9/7/2019 22:55:00</td>\n",
       "      <td>BONITA ROAD &amp; PLAZA BONITA ROAD</td>\n",
       "      <td>91910.0</td>\n",
       "      <td>CHULA VISTA</td>\n",
       "    </tr>\n",
       "  </tbody>\n",
       "</table>\n",
       "</div>"
      ],
      "text/plain": [
       "    CM_LEGEND       agency   Charge_Description_Orig        activityDate  \\\n",
       "27        DUI  CHULA VISTA  DUI ALC/0.08 PERCENT (M)   7/27/2019 2:56:25   \n",
       "41        DUI      SHERIFF           DUI ALCOHOL (M)  10/3/2019 23:37:00   \n",
       "68        DUI  CHULA VISTA  DUI ALC/0.08 PERCENT (M)   8/12/2019 1:06:00   \n",
       "86        DUI  CHULA VISTA           DUI ALCOHOL (M)  8/15/2019 12:43:00   \n",
       "102       DUI  CHULA VISTA  DUI ALC/0.08 PERCENT (M)    8/3/2019 5:05:06   \n",
       "103       DUI  CHULA VISTA           DUI ALCOHOL (M)    8/4/2019 8:15:00   \n",
       "120       DUI      SHERIFF           DUI ALCOHOL (M)  7/29/2019 20:07:00   \n",
       "155       DUI  CHULA VISTA           DUI ALCOHOL (M)    9/7/2019 1:06:00   \n",
       "156       DUI  CHULA VISTA  DUI ALC/0.08 PERCENT (M)    9/8/2019 0:56:00   \n",
       "157       DUI  CHULA VISTA  DUI ALC/0.08 PERCENT (M)   9/7/2019 22:55:00   \n",
       "\n",
       "                          BLOCK_ADDRESS  ZipCode    community  \n",
       "27          400 E  BLOCK PALOMAR STREET  91911.0  CHULA VISTA  \n",
       "41     GLASGOW AVENUE & LIVERPOOL DRIVE  92024.0    ENCINITAS  \n",
       "68               300  BLOCK 04TH AVENUE  91910.0  CHULA VISTA  \n",
       "86                  600  BLOCK BROADWAY  91910.0  CHULA VISTA  \n",
       "102  SANTA VENETIAST & WINDCHIME AVENUE  91913.0          NaN  \n",
       "103    LA MEDIA ROAD & E PALOMAR STREET  91915.0  CHULA VISTA  \n",
       "120        13500  BLOCK KENTFIELD DRIVE  92064.0        POWAY  \n",
       "155     0  BLOCK J STREET ( 200 BLOCK )  91910.0          NaN  \n",
       "156        PASEO ENTRADA & PASEO LADERA  91910.0  CHULA VISTA  \n",
       "157     BONITA ROAD & PLAZA BONITA ROAD  91910.0  CHULA VISTA  "
      ]
     },
     "execution_count": 15,
     "metadata": {},
     "output_type": "execute_result"
    }
   ],
   "source": [
    "crime_df.head(10)"
   ]
  },
  {
   "cell_type": "markdown",
   "metadata": {},
   "source": [
    "Now, Lets apply safe harbor and drop some columns"
   ]
  },
  {
   "cell_type": "code",
   "execution_count": 16,
   "metadata": {},
   "outputs": [],
   "source": [
    "crime_df = crime_df.drop(['activityDate', 'BLOCK_ADDRESS', 'community'], axis = 1)"
   ]
  },
  {
   "cell_type": "markdown",
   "metadata": {},
   "source": [
    "Next, we drop the agency column due to that being irrelevant for our analysis"
   ]
  },
  {
   "cell_type": "code",
   "execution_count": 17,
   "metadata": {},
   "outputs": [],
   "source": [
    "crime_df = crime_df.drop(['agency'], axis = 1)"
   ]
  },
  {
   "cell_type": "markdown",
   "metadata": {},
   "source": [
    "After dropping unnecessary columns, rename the remaining columns to more friendly names."
   ]
  },
  {
   "cell_type": "code",
   "execution_count": 18,
   "metadata": {},
   "outputs": [],
   "source": [
    "crime_df.columns = ['crime', 'charge_description', 'zip']"
   ]
  },
  {
   "cell_type": "markdown",
   "metadata": {},
   "source": [
    "Now lets analyze the zipcodes and see if we need to clean the data\n"
   ]
  },
  {
   "cell_type": "code",
   "execution_count": 19,
   "metadata": {},
   "outputs": [
    {
     "name": "stdout",
     "output_type": "stream",
     "text": [
      "85\n",
      "[91911. 92024. 91910. 91913. 91915. 92064. 92114. 92009. 92109. 92118.\n",
      " 92075. 92083. 92008. 91941. 92027. 92084. 92025. 92111. 92103. 92078.\n",
      " 91932. 92010. 92069. 92123. 91942. 91950. 92110. 92065. 92102. 91914.\n",
      " 92126. 92081. 92011. 92056. 91901. 92117. 92120. 92054. 92105. 92113.\n",
      " 20650. 92154. 92057. 92029. 92116. 92101. 92058. 92026. 92130. 92173.\n",
      " 92139. 92124. 92107. 92121. 92104. 92106. 92115. 92108. 92128. 92071.\n",
      " 92131. 92037. 92129. 92122. 92100. 92182. 92021. 92007. 92127. 92020.\n",
      " 92014. 92140. 92019. 91978. 91951. 91945. 92155. 92040. 91977. 91902.\n",
      " 92003. 92119. 92028. 90284. 92145.]\n",
      "      crime charge_description      zip\n",
      "1968    DUI    DUI ALCOHOL (M)  20650.0\n",
      "2108    DUI    DUI ALCOHOL (M)  20650.0\n",
      "10001   DUI    DUI ALCOHOL (M)  20650.0\n"
     ]
    }
   ],
   "source": [
    "print(len(crime_df[\"zip\"].unique()))\n",
    "print(crime_df[\"zip\"].unique())\n",
    "print(crime_df[crime_df[\"zip\"] == 20650])"
   ]
  },
  {
   "cell_type": "markdown",
   "metadata": {},
   "source": [
    "All of the zipcodes seem to be San Diego zipcodes except for 20650, so we will drop those entries"
   ]
  },
  {
   "cell_type": "code",
   "execution_count": 20,
   "metadata": {},
   "outputs": [],
   "source": [
    "crime_df = crime_df.drop(crime_df[crime_df[\"zip\"] == 20650].index)"
   ]
  },
  {
   "cell_type": "code",
   "execution_count": 21,
   "metadata": {},
   "outputs": [],
   "source": [
    "assert(len(crime_df[crime_df[\"zip\"] == 20650]) == 0)"
   ]
  },
  {
   "cell_type": "markdown",
   "metadata": {},
   "source": [
    "Now that we have San Diego zip codes, merge the zipcode-population dataframe with the crime dataframe on the zip code column so that we can have a list of population per zip code and crime data in one dataframe. We do a left merge because we only want to merge on zip codes that exist in the crime dataframe"
   ]
  },
  {
   "cell_type": "code",
   "execution_count": 22,
   "metadata": {},
   "outputs": [],
   "source": [
    "cumulative = pd.merge(crime_df, zip_df, on='zip', how='left')"
   ]
  },
  {
   "cell_type": "markdown",
   "metadata": {},
   "source": [
    "Check if any zip codes don't have an associated population count and determine why."
   ]
  },
  {
   "cell_type": "code",
   "execution_count": 23,
   "metadata": {
    "scrolled": true
   },
   "outputs": [
    {
     "data": {
      "text/html": [
       "<div>\n",
       "<style scoped>\n",
       "    .dataframe tbody tr th:only-of-type {\n",
       "        vertical-align: middle;\n",
       "    }\n",
       "\n",
       "    .dataframe tbody tr th {\n",
       "        vertical-align: top;\n",
       "    }\n",
       "\n",
       "    .dataframe thead th {\n",
       "        text-align: right;\n",
       "    }\n",
       "</style>\n",
       "<table border=\"1\" class=\"dataframe\">\n",
       "  <thead>\n",
       "    <tr style=\"text-align: right;\">\n",
       "      <th></th>\n",
       "      <th>crime</th>\n",
       "      <th>charge_description</th>\n",
       "      <th>zip</th>\n",
       "      <th>population</th>\n",
       "    </tr>\n",
       "  </thead>\n",
       "  <tbody>\n",
       "    <tr>\n",
       "      <td>469</td>\n",
       "      <td>DUI</td>\n",
       "      <td>DUI ALC/0.08 PERCENT (M)</td>\n",
       "      <td>92100.0</td>\n",
       "      <td>NaN</td>\n",
       "    </tr>\n",
       "    <tr>\n",
       "      <td>515</td>\n",
       "      <td>DUI</td>\n",
       "      <td>DUI ALC/0.08 PERCENT (M)</td>\n",
       "      <td>92182.0</td>\n",
       "      <td>NaN</td>\n",
       "    </tr>\n",
       "    <tr>\n",
       "      <td>830</td>\n",
       "      <td>DUI</td>\n",
       "      <td>DUI ALCOHOL (M)</td>\n",
       "      <td>91951.0</td>\n",
       "      <td>NaN</td>\n",
       "    </tr>\n",
       "    <tr>\n",
       "      <td>1561</td>\n",
       "      <td>DUI</td>\n",
       "      <td>DUI ALCOHOL (M)</td>\n",
       "      <td>90284.0</td>\n",
       "      <td>NaN</td>\n",
       "    </tr>\n",
       "  </tbody>\n",
       "</table>\n",
       "</div>"
      ],
      "text/plain": [
       "     crime        charge_description      zip  population\n",
       "469    DUI  DUI ALC/0.08 PERCENT (M)  92100.0         NaN\n",
       "515    DUI  DUI ALC/0.08 PERCENT (M)  92182.0         NaN\n",
       "830    DUI           DUI ALCOHOL (M)  91951.0         NaN\n",
       "1561   DUI           DUI ALCOHOL (M)  90284.0         NaN"
      ]
     },
     "execution_count": 23,
     "metadata": {},
     "output_type": "execute_result"
    }
   ],
   "source": [
    "cumulative[cumulative['population'].isnull() == True]"
   ]
  },
  {
   "cell_type": "markdown",
   "metadata": {},
   "source": [
    "These zipcodes weren't listed in the 2010 Census. After examining the zip codes without a population count, we determined that two zip codes (92100 and 90284) aren't real zip codes, so we'll drop those. The zip code 92182 is the zip code for SDSU, which has a population of 0, so we'll drop that zip code. The zip code 91951 is a PO zip code that also has a population of 0, so we'll drop that zip code as well."
   ]
  },
  {
   "cell_type": "code",
   "execution_count": 24,
   "metadata": {},
   "outputs": [],
   "source": [
    "cumulative = cumulative.drop(cumulative[cumulative[\"zip\"] == 92100].index)\n",
    "cumulative = cumulative.drop(cumulative[cumulative[\"zip\"] == 92182].index)\n",
    "cumulative = cumulative.drop(cumulative[cumulative[\"zip\"] == 91951].index)\n",
    "cumulative = cumulative.drop(cumulative[cumulative[\"zip\"] == 90284].index)"
   ]
  },
  {
   "cell_type": "code",
   "execution_count": 25,
   "metadata": {},
   "outputs": [],
   "source": [
    "assert(len(cumulative[cumulative[\"zip\"] == 92100]) == 0)\n",
    "assert(len(cumulative[cumulative[\"zip\"] == 92182]) == 0)\n",
    "assert(len(cumulative[cumulative[\"zip\"] == 91951]) == 0)\n",
    "assert(len(cumulative[cumulative[\"zip\"] == 90284]) == 0)"
   ]
  },
  {
   "cell_type": "markdown",
   "metadata": {},
   "source": [
    "Merge the crime/population dataframe with the income dataframe on the zip code column so that we can have income per zip code, a list of population per zip code and crime data in one dataframe. We do a left merge because we only want to merge on zip codes that exist in the crime/population dataframe"
   ]
  },
  {
   "cell_type": "code",
   "execution_count": 26,
   "metadata": {},
   "outputs": [],
   "source": [
    "cumulative = pd.merge(cumulative, income_df, on='zip', how='left')"
   ]
  },
  {
   "cell_type": "markdown",
   "metadata": {},
   "source": [
    "Check if any zip codes don't have an associated income and determine why."
   ]
  },
  {
   "cell_type": "code",
   "execution_count": 27,
   "metadata": {},
   "outputs": [
    {
     "data": {
      "text/html": [
       "<div>\n",
       "<style scoped>\n",
       "    .dataframe tbody tr th:only-of-type {\n",
       "        vertical-align: middle;\n",
       "    }\n",
       "\n",
       "    .dataframe tbody tr th {\n",
       "        vertical-align: top;\n",
       "    }\n",
       "\n",
       "    .dataframe thead th {\n",
       "        text-align: right;\n",
       "    }\n",
       "</style>\n",
       "<table border=\"1\" class=\"dataframe\">\n",
       "  <thead>\n",
       "    <tr style=\"text-align: right;\">\n",
       "      <th></th>\n",
       "      <th>crime</th>\n",
       "      <th>charge_description</th>\n",
       "      <th>zip</th>\n",
       "      <th>population</th>\n",
       "      <th>median_income</th>\n",
       "      <th>median_income_moe</th>\n",
       "    </tr>\n",
       "  </thead>\n",
       "  <tbody>\n",
       "    <tr>\n",
       "      <td>699</td>\n",
       "      <td>DUI</td>\n",
       "      <td>DUI ALCOHOL (M)</td>\n",
       "      <td>92140.0</td>\n",
       "      <td>3435.0</td>\n",
       "      <td>NaN</td>\n",
       "      <td>NaN</td>\n",
       "    </tr>\n",
       "    <tr>\n",
       "      <td>1016</td>\n",
       "      <td>DUI</td>\n",
       "      <td>DUI ALCOHOL</td>\n",
       "      <td>92155.0</td>\n",
       "      <td>550.0</td>\n",
       "      <td>NaN</td>\n",
       "      <td>NaN</td>\n",
       "    </tr>\n",
       "    <tr>\n",
       "      <td>1993</td>\n",
       "      <td>DUI</td>\n",
       "      <td>USE WATERCRAFT WHILE UNDER INFLUENCE OF ALCOHO...</td>\n",
       "      <td>92155.0</td>\n",
       "      <td>550.0</td>\n",
       "      <td>NaN</td>\n",
       "      <td>NaN</td>\n",
       "    </tr>\n",
       "  </tbody>\n",
       "</table>\n",
       "</div>"
      ],
      "text/plain": [
       "     crime                                 charge_description      zip  \\\n",
       "699    DUI                                    DUI ALCOHOL (M)  92140.0   \n",
       "1016   DUI                                        DUI ALCOHOL  92155.0   \n",
       "1993   DUI  USE WATERCRAFT WHILE UNDER INFLUENCE OF ALCOHO...  92155.0   \n",
       "\n",
       "      population  median_income  median_income_moe  \n",
       "699       3435.0            NaN                NaN  \n",
       "1016       550.0            NaN                NaN  \n",
       "1993       550.0            NaN                NaN  "
      ]
     },
     "execution_count": 27,
     "metadata": {},
     "output_type": "execute_result"
    }
   ],
   "source": [
    "cumulative[cumulative['median_income'].isnull() == True]"
   ]
  },
  {
   "cell_type": "markdown",
   "metadata": {},
   "source": [
    "After examining the zip codes without a associated income, we determined that the two zip codes (92140 and 92155) are military bases, which is why they lack average income. As a result, we'll drop the three rows of DUI incidents in those zip codes."
   ]
  },
  {
   "cell_type": "code",
   "execution_count": 28,
   "metadata": {},
   "outputs": [],
   "source": [
    "cumulative = cumulative.drop(cumulative[cumulative[\"zip\"] == 92140].index)\n",
    "cumulative = cumulative.drop(cumulative[cumulative[\"zip\"] == 92155].index)"
   ]
  },
  {
   "cell_type": "code",
   "execution_count": 29,
   "metadata": {},
   "outputs": [],
   "source": [
    "assert(len(cumulative[cumulative[\"zip\"] == 92140]) == 0)\n",
    "assert(len(cumulative[cumulative[\"zip\"] == 92155]) == 0)"
   ]
  },
  {
   "cell_type": "markdown",
   "metadata": {},
   "source": [
    "After we have cleaned up the liquor store df and the cumulative df, ensure that all zip codes found in the result df have a corresponding liquor store. If not, determine why."
   ]
  },
  {
   "cell_type": "code",
   "execution_count": 30,
   "metadata": {
    "scrolled": true
   },
   "outputs": [
    {
     "name": "stdout",
     "output_type": "stream",
     "text": [
      "{92145.0}\n"
     ]
    }
   ],
   "source": [
    "unique_crime_zips = cumulative['zip']\n",
    "liquor_zips = set(liquor_stores_df['zip'])\n",
    "zips_with_no_liquor_stores = set()\n",
    "\n",
    "for crime_zip in unique_crime_zips:\n",
    "    if crime_zip not in liquor_zips:\n",
    "        zips_with_no_liquor_stores.add(crime_zip)\n",
    "\n",
    "print(zips_with_no_liquor_stores)"
   ]
  },
  {
   "cell_type": "markdown",
   "metadata": {},
   "source": [
    "The only zip code with no liquor stores was 92145. After further investigation, we determined this to be a military base that actually had no liquor stores, which further verifies our data. "
   ]
  },
  {
   "cell_type": "code",
   "execution_count": 31,
   "metadata": {
    "scrolled": true
   },
   "outputs": [
    {
     "data": {
      "text/plain": [
       "78"
      ]
     },
     "execution_count": 31,
     "metadata": {},
     "output_type": "execute_result"
    }
   ],
   "source": [
    "len(cumulative['zip'].unique())"
   ]
  },
  {
   "cell_type": "markdown",
   "metadata": {},
   "source": [
    "Create a dataframe that uses the analysis that we derive from the cumulative df"
   ]
  },
  {
   "cell_type": "code",
   "execution_count": 51,
   "metadata": {},
   "outputs": [],
   "source": [
    "result_df = pd.DataFrame(columns=['zip','median_income','liquor_store_density','DUI_rate'])"
   ]
  },
  {
   "cell_type": "markdown",
   "metadata": {},
   "source": [
    "Make sure we have each zip code once in the final dataframe."
   ]
  },
  {
   "cell_type": "code",
   "execution_count": 52,
   "metadata": {},
   "outputs": [],
   "source": [
    "all_zips = cumulative['zip'].unique()\n",
    "result_df['zip'] = all_zips"
   ]
  },
  {
   "cell_type": "markdown",
   "metadata": {},
   "source": [
    "Add the median income for each zip code to each row"
   ]
  },
  {
   "cell_type": "code",
   "execution_count": 53,
   "metadata": {},
   "outputs": [],
   "source": [
    "for zip_code in all_zips:\n",
    "    zip_income = income_df[income_df['zip'] == zip_code]['median_income'].values[0]\n",
    "    result_df.loc[result_df['zip'] == zip_code, \"median_income\"] = zip_income"
   ]
  },
  {
   "cell_type": "markdown",
   "metadata": {},
   "source": [
    "For each zip code in the final df, calculate the number of liquor stores divided by the population of that zip code. This yields liquor_store_density in each zip code."
   ]
  },
  {
   "cell_type": "code",
   "execution_count": 54,
   "metadata": {},
   "outputs": [],
   "source": [
    "for zip_code in all_zips:\n",
    "    num_stores_in_zip = liquor_stores_df[liquor_stores_df['zip'] == zip_code]['zip'].count()\n",
    "    zip_pop = cumulative[cumulative['zip'] == zip_code].iloc[0]['population']\n",
    "    density = num_stores_in_zip / zip_pop\n",
    "    result_df.loc[result_df['zip'] == zip_code, \"liquor_store_density\"] = density"
   ]
  },
  {
   "cell_type": "markdown",
   "metadata": {},
   "source": [
    "For each zip code in the final df, calculate the number of DUIs in that zip code divided by the population of that zip code. This yields DUI_rate in each zip code."
   ]
  },
  {
   "cell_type": "code",
   "execution_count": 55,
   "metadata": {},
   "outputs": [
    {
     "data": {
      "text/html": [
       "<div>\n",
       "<style scoped>\n",
       "    .dataframe tbody tr th:only-of-type {\n",
       "        vertical-align: middle;\n",
       "    }\n",
       "\n",
       "    .dataframe tbody tr th {\n",
       "        vertical-align: top;\n",
       "    }\n",
       "\n",
       "    .dataframe thead th {\n",
       "        text-align: right;\n",
       "    }\n",
       "</style>\n",
       "<table border=\"1\" class=\"dataframe\">\n",
       "  <thead>\n",
       "    <tr style=\"text-align: right;\">\n",
       "      <th></th>\n",
       "      <th>zip</th>\n",
       "      <th>median_income</th>\n",
       "      <th>liquor_store_density</th>\n",
       "      <th>DUI_rate</th>\n",
       "    </tr>\n",
       "  </thead>\n",
       "  <tbody>\n",
       "    <tr>\n",
       "      <td>0</td>\n",
       "      <td>91911.0</td>\n",
       "      <td>52274</td>\n",
       "      <td>0.00151809</td>\n",
       "      <td>0.00057832</td>\n",
       "    </tr>\n",
       "    <tr>\n",
       "      <td>1</td>\n",
       "      <td>92024.0</td>\n",
       "      <td>103417</td>\n",
       "      <td>0.00415301</td>\n",
       "      <td>0.00144541</td>\n",
       "    </tr>\n",
       "    <tr>\n",
       "      <td>2</td>\n",
       "      <td>91910.0</td>\n",
       "      <td>59371</td>\n",
       "      <td>0.00244057</td>\n",
       "      <td>0.000844305</td>\n",
       "    </tr>\n",
       "    <tr>\n",
       "      <td>3</td>\n",
       "      <td>91913.0</td>\n",
       "      <td>87440</td>\n",
       "      <td>0.000341705</td>\n",
       "      <td>0.000439335</td>\n",
       "    </tr>\n",
       "    <tr>\n",
       "      <td>4</td>\n",
       "      <td>91915.0</td>\n",
       "      <td>106452</td>\n",
       "      <td>0.00174379</td>\n",
       "      <td>0.000283872</td>\n",
       "    </tr>\n",
       "  </tbody>\n",
       "</table>\n",
       "</div>"
      ],
      "text/plain": [
       "       zip  median_income liquor_store_density     DUI_rate\n",
       "0  91911.0          52274           0.00151809   0.00057832\n",
       "1  92024.0         103417           0.00415301   0.00144541\n",
       "2  91910.0          59371           0.00244057  0.000844305\n",
       "3  91913.0          87440          0.000341705  0.000439335\n",
       "4  91915.0         106452           0.00174379  0.000283872"
      ]
     },
     "execution_count": 55,
     "metadata": {},
     "output_type": "execute_result"
    }
   ],
   "source": [
    "total_DUIs = 0\n",
    "for zip_code in all_zips:\n",
    "    num_DUIs_in_zip = cumulative[cumulative['zip'] == zip_code]['crime'].count()\n",
    "    zip_pop = cumulative[cumulative['zip'] == zip_code].iloc[0]['population']\n",
    "    \n",
    "    total_DUIs += num_DUIs_in_zip\n",
    "    DUI_rate = num_DUIs_in_zip / zip_pop\n",
    "    result_df.loc[result_df['zip'] == zip_code, \"DUI_rate\"] = DUI_rate\n",
    "result_df.head(5)"
   ]
  },
  {
   "cell_type": "markdown",
   "metadata": {},
   "source": [
    "Check that the total number of DUIs in the final df equals the rows of cumulative (since each row in cumulative was a DUI)."
   ]
  },
  {
   "cell_type": "code",
   "execution_count": 56,
   "metadata": {},
   "outputs": [],
   "source": [
    "assert(total_DUIs == cumulative.shape[0])"
   ]
  },
  {
   "cell_type": "code",
   "execution_count": 57,
   "metadata": {},
   "outputs": [],
   "source": [
    "result_df[\"liquor_store_density\"] = pd.to_numeric(result_df[\"liquor_store_density\"])\n",
    "result_df[\"DUI_rate\"] = pd.to_numeric(result_df[\"DUI_rate\"])"
   ]
  },
  {
   "cell_type": "code",
   "execution_count": 60,
   "metadata": {},
   "outputs": [
    {
     "data": {
      "text/html": [
       "<div>\n",
       "<style scoped>\n",
       "    .dataframe tbody tr th:only-of-type {\n",
       "        vertical-align: middle;\n",
       "    }\n",
       "\n",
       "    .dataframe tbody tr th {\n",
       "        vertical-align: top;\n",
       "    }\n",
       "\n",
       "    .dataframe thead th {\n",
       "        text-align: right;\n",
       "    }\n",
       "</style>\n",
       "<table border=\"1\" class=\"dataframe\">\n",
       "  <thead>\n",
       "    <tr style=\"text-align: right;\">\n",
       "      <th></th>\n",
       "      <th>zip</th>\n",
       "      <th>median_income</th>\n",
       "      <th>liquor_store_density</th>\n",
       "      <th>DUI_rate</th>\n",
       "    </tr>\n",
       "  </thead>\n",
       "  <tbody>\n",
       "    <tr>\n",
       "      <td>0</td>\n",
       "      <td>91911.0</td>\n",
       "      <td>52274</td>\n",
       "      <td>0.001518</td>\n",
       "      <td>0.000578</td>\n",
       "    </tr>\n",
       "    <tr>\n",
       "      <td>1</td>\n",
       "      <td>92024.0</td>\n",
       "      <td>103417</td>\n",
       "      <td>0.004153</td>\n",
       "      <td>0.001445</td>\n",
       "    </tr>\n",
       "    <tr>\n",
       "      <td>2</td>\n",
       "      <td>91910.0</td>\n",
       "      <td>59371</td>\n",
       "      <td>0.002441</td>\n",
       "      <td>0.000844</td>\n",
       "    </tr>\n",
       "    <tr>\n",
       "      <td>3</td>\n",
       "      <td>91913.0</td>\n",
       "      <td>87440</td>\n",
       "      <td>0.000342</td>\n",
       "      <td>0.000439</td>\n",
       "    </tr>\n",
       "    <tr>\n",
       "      <td>4</td>\n",
       "      <td>91915.0</td>\n",
       "      <td>106452</td>\n",
       "      <td>0.001744</td>\n",
       "      <td>0.000284</td>\n",
       "    </tr>\n",
       "  </tbody>\n",
       "</table>\n",
       "</div>"
      ],
      "text/plain": [
       "       zip  median_income  liquor_store_density  DUI_rate\n",
       "0  91911.0          52274              0.001518  0.000578\n",
       "1  92024.0         103417              0.004153  0.001445\n",
       "2  91910.0          59371              0.002441  0.000844\n",
       "3  91913.0          87440              0.000342  0.000439\n",
       "4  91915.0         106452              0.001744  0.000284"
      ]
     },
     "execution_count": 60,
     "metadata": {},
     "output_type": "execute_result"
    }
   ],
   "source": [
    "result_df.head(5)"
   ]
  },
  {
   "cell_type": "markdown",
   "metadata": {},
   "source": [
    "# Data Exploration"
   ]
  },
  {
   "cell_type": "code",
   "execution_count": 61,
   "metadata": {},
   "outputs": [
    {
     "data": {
      "text/plain": [
       "array([[<matplotlib.axes._subplots.AxesSubplot object at 0x1c19967bd0>,\n",
       "        <matplotlib.axes._subplots.AxesSubplot object at 0x1c19a9afd0>,\n",
       "        <matplotlib.axes._subplots.AxesSubplot object at 0x1c19b51710>,\n",
       "        <matplotlib.axes._subplots.AxesSubplot object at 0x1c19b81f10>],\n",
       "       [<matplotlib.axes._subplots.AxesSubplot object at 0x1c19bbe750>,\n",
       "        <matplotlib.axes._subplots.AxesSubplot object at 0x1c19bedf50>,\n",
       "        <matplotlib.axes._subplots.AxesSubplot object at 0x1c19c2c790>,\n",
       "        <matplotlib.axes._subplots.AxesSubplot object at 0x1c19c5bf90>],\n",
       "       [<matplotlib.axes._subplots.AxesSubplot object at 0x1c19c65b10>,\n",
       "        <matplotlib.axes._subplots.AxesSubplot object at 0x1c19ca14d0>,\n",
       "        <matplotlib.axes._subplots.AxesSubplot object at 0x1c19d05810>,\n",
       "        <matplotlib.axes._subplots.AxesSubplot object at 0x1c19d37f90>],\n",
       "       [<matplotlib.axes._subplots.AxesSubplot object at 0x1c19d7a850>,\n",
       "        <matplotlib.axes._subplots.AxesSubplot object at 0x1c19db8bd0>,\n",
       "        <matplotlib.axes._subplots.AxesSubplot object at 0x1c19df0890>,\n",
       "        <matplotlib.axes._subplots.AxesSubplot object at 0x1c19e2fc10>]],\n",
       "      dtype=object)"
      ]
     },
     "execution_count": 61,
     "metadata": {},
     "output_type": "execute_result"
    },
    {
     "data": {
      "image/png": "[encoded data removed]",
      "text/plain": [
       "<Figure size 432x288 with 16 Axes>"
      ]
     },
     "metadata": {
      "needs_background": "light"
     },
     "output_type": "display_data"
    }
   ],
   "source": [
    "pd.plotting.scatter_matrix(cumulative)"
   ]
  },
  {
   "cell_type": "code",
   "execution_count": 63,
   "metadata": {},
   "outputs": [
    {
     "data": {
      "text/plain": [
       "array([[<matplotlib.axes._subplots.AxesSubplot object at 0x1c19e6fc90>,\n",
       "        <matplotlib.axes._subplots.AxesSubplot object at 0x1c1a64ba90>,\n",
       "        <matplotlib.axes._subplots.AxesSubplot object at 0x1c1a7fefd0>,\n",
       "        <matplotlib.axes._subplots.AxesSubplot object at 0x1c1a833c90>],\n",
       "       [<matplotlib.axes._subplots.AxesSubplot object at 0x1c1a8c14d0>,\n",
       "        <matplotlib.axes._subplots.AxesSubplot object at 0x1c1aa37cd0>,\n",
       "        <matplotlib.axes._subplots.AxesSubplot object at 0x1c1ae31510>,\n",
       "        <matplotlib.axes._subplots.AxesSubplot object at 0x1c1ae65d10>],\n",
       "       [<matplotlib.axes._subplots.AxesSubplot object at 0x1c1ae70890>,\n",
       "        <matplotlib.axes._subplots.AxesSubplot object at 0x1c1b071250>,\n",
       "        <matplotlib.axes._subplots.AxesSubplot object at 0x1c1b21b590>,\n",
       "        <matplotlib.axes._subplots.AxesSubplot object at 0x1c1b24ed90>],\n",
       "       [<matplotlib.axes._subplots.AxesSubplot object at 0x1c1b28f5d0>,\n",
       "        <matplotlib.axes._subplots.AxesSubplot object at 0x1c1b2c3dd0>,\n",
       "        <matplotlib.axes._subplots.AxesSubplot object at 0x1c1b306610>,\n",
       "        <matplotlib.axes._subplots.AxesSubplot object at 0x1c1b33ae10>]],\n",
       "      dtype=object)"
      ]
     },
     "execution_count": 63,
     "metadata": {},
     "output_type": "execute_result"
    },
    {
     "data": {
      "image/png": "[encoded data removed]",
      "text/plain": [
       "<Figure size 432x288 with 16 Axes>"
      ]
     },
     "metadata": {
      "needs_background": "light"
     },
     "output_type": "display_data"
    }
   ],
   "source": [
    "pd.plotting.scatter_matrix(result_df)\n"
   ]
  },
  {
   "cell_type": "code",
   "execution_count": 64,
   "metadata": {},
   "outputs": [
    {
     "data": {
      "text/plain": [
       "array([[<matplotlib.axes._subplots.AxesSubplot object at 0x1c1a6949d0>]],\n",
       "      dtype=object)"
      ]
     },
     "execution_count": 64,
     "metadata": {},
     "output_type": "execute_result"
    },
    {
     "data": {
      "image/png": "[encoded data removed]",
      "text/plain": [
       "<Figure size 432x288 with 1 Axes>"
      ]
     },
     "metadata": {
      "needs_background": "light"
     },
     "output_type": "display_data"
    }
   ],
   "source": [
    "result_df.hist(column='liquor_store_density')"
   ]
  },
  {
   "cell_type": "code",
   "execution_count": 66,
   "metadata": {},
   "outputs": [
    {
     "data": {
      "text/plain": [
       "array([[<matplotlib.axes._subplots.AxesSubplot object at 0x1c1b745490>]],\n",
       "      dtype=object)"
      ]
     },
     "execution_count": 66,
     "metadata": {},
     "output_type": "execute_result"
    },
    {
     "data": {
      "image/png": "[encoded data removed]",
      "text/plain": [
       "<Figure size 432x288 with 1 Axes>"
      ]
     },
     "metadata": {
      "needs_background": "light"
     },
     "output_type": "display_data"
    }
   ],
   "source": [
    "result_df.hist(column='median_income')"
   ]
  },
  {
   "cell_type": "code",
   "execution_count": 65,
   "metadata": {},
   "outputs": [
    {
     "data": {
      "text/plain": [
       "array([[<matplotlib.axes._subplots.AxesSubplot object at 0x1c1b779810>]],\n",
       "      dtype=object)"
      ]
     },
     "execution_count": 65,
     "metadata": {},
     "output_type": "execute_result"
    },
    {
     "data": {
      "image/png": "[encoded data removed]",
      "text/plain": [
       "<Figure size 432x288 with 1 Axes>"
      ]
     },
     "metadata": {
      "needs_background": "light"
     },
     "output_type": "display_data"
    }
   ],
   "source": [
    "result_df.hist(column='DUI_rate')\n"
   ]
  },
  {
   "cell_type": "markdown",
   "metadata": {},
   "source": [
    "Now that we have done some visual exploration of the data, lets do some statistical exploration of the different columns, such as median_income, liquor_store_density, and DUI_rate"
   ]
  },
  {
   "cell_type": "code",
   "execution_count": 78,
   "metadata": {},
   "outputs": [
    {
     "name": "stdout",
     "output_type": "stream",
     "text": [
      "Median 72208.5\n",
      "Mean 78352.30769230769\n",
      "Min 33125\n",
      "Max 141926\n",
      "Range 108801\n"
     ]
    },
    {
     "data": {
      "text/html": [
       "<div>\n",
       "<style scoped>\n",
       "    .dataframe tbody tr th:only-of-type {\n",
       "        vertical-align: middle;\n",
       "    }\n",
       "\n",
       "    .dataframe tbody tr th {\n",
       "        vertical-align: top;\n",
       "    }\n",
       "\n",
       "    .dataframe thead th {\n",
       "        text-align: right;\n",
       "    }\n",
       "</style>\n",
       "<table border=\"1\" class=\"dataframe\">\n",
       "  <thead>\n",
       "    <tr style=\"text-align: right;\">\n",
       "      <th></th>\n",
       "      <th>zip</th>\n",
       "      <th>median_income</th>\n",
       "      <th>liquor_store_density</th>\n",
       "      <th>DUI_rate</th>\n",
       "    </tr>\n",
       "  </thead>\n",
       "  <tbody>\n",
       "    <tr>\n",
       "      <td>47</td>\n",
       "      <td>92130.0</td>\n",
       "      <td>141926</td>\n",
       "      <td>0.002227</td>\n",
       "      <td>0.000286</td>\n",
       "    </tr>\n",
       "  </tbody>\n",
       "</table>\n",
       "</div>"
      ],
      "text/plain": [
       "        zip  median_income  liquor_store_density  DUI_rate\n",
       "47  92130.0         141926              0.002227  0.000286"
      ]
     },
     "execution_count": 78,
     "metadata": {},
     "output_type": "execute_result"
    }
   ],
   "source": [
    "income_dist = list(result_df[\"median_income\"])\n",
    "print(\"Median\", np.median(income_dist))\n",
    "print(\"Mean\", np.mean(income_dist))\n",
    "print(\"Min\", min(income_dist))\n",
    "print(\"Max\", max(income_dist))\n",
    "print(\"Range\", max(income_dist) - min(income_dist))\n",
    "result_df[result_df[\"median_income\"] == max(income_dist)]"
   ]
  },
  {
   "cell_type": "markdown",
   "metadata": {},
   "source": [
    "This statistical data matches the bar chart we have above for median_income for the zipcodes. It seems the zipcodes median incomes have an average of around 78k and a median of 72k. The max has a median income of 141,926 dollars! We were curious what this zipcode was, and it happens to be 92130, which is a rich area to the East of Del Mar which makes sense"
   ]
  },
  {
   "cell_type": "code",
   "execution_count": 79,
   "metadata": {},
   "outputs": [
    {
     "name": "stdout",
     "output_type": "stream",
     "text": [
      "Median 0.002212094191613473\n",
      "Mean 0.0035340265892453973\n",
      "Min 0.0\n",
      "Max 0.03469729600382867\n",
      "Range 0.03469729600382867\n"
     ]
    },
    {
     "data": {
      "text/html": [
       "<div>\n",
       "<style scoped>\n",
       "    .dataframe tbody tr th:only-of-type {\n",
       "        vertical-align: middle;\n",
       "    }\n",
       "\n",
       "    .dataframe tbody tr th {\n",
       "        vertical-align: top;\n",
       "    }\n",
       "\n",
       "    .dataframe thead th {\n",
       "        text-align: right;\n",
       "    }\n",
       "</style>\n",
       "<table border=\"1\" class=\"dataframe\">\n",
       "  <thead>\n",
       "    <tr style=\"text-align: right;\">\n",
       "      <th></th>\n",
       "      <th>zip</th>\n",
       "      <th>median_income</th>\n",
       "      <th>liquor_store_density</th>\n",
       "      <th>DUI_rate</th>\n",
       "    </tr>\n",
       "  </thead>\n",
       "  <tbody>\n",
       "    <tr>\n",
       "      <td>52</td>\n",
       "      <td>92121.0</td>\n",
       "      <td>103953</td>\n",
       "      <td>0.034697</td>\n",
       "      <td>0.001436</td>\n",
       "    </tr>\n",
       "  </tbody>\n",
       "</table>\n",
       "</div>"
      ],
      "text/plain": [
       "        zip  median_income  liquor_store_density  DUI_rate\n",
       "52  92121.0         103953              0.034697  0.001436"
      ]
     },
     "execution_count": 79,
     "metadata": {},
     "output_type": "execute_result"
    }
   ],
   "source": [
    "liquor_dist = list(result_df[\"liquor_store_density\"])\n",
    "print(\"Median\", np.median(liquor_dist))\n",
    "print(\"Mean\", np.mean(liquor_dist))\n",
    "print(\"Min\", min(liquor_dist))\n",
    "print(\"Max\", max(liquor_dist))\n",
    "print(\"Range\", max(liquor_dist) - min(liquor_dist))\n",
    "result_df[result_df[\"liquor_store_density\"] == max(liquor_dist)]"
   ]
  },
  {
   "cell_type": "markdown",
   "metadata": {},
   "source": [
    "This statistical data matches the bar chart we have above for liquor_store_density distribution for the zipcodes. The median seemes to be around .0022, with mean being around .0033. From the chart, we see we have one extreme zipcode with alot of liquor stores! From the code, we see that zipcode is 92121, with a density of .0346, meaning around 35 liquor stores for every 1000 people! This Zipcode is near UCSD around sorrento valley, so it makes sense that ther are alot of liquor stores near a college."
   ]
  },
  {
   "cell_type": "code",
   "execution_count": 80,
   "metadata": {},
   "outputs": [
    {
     "name": "stdout",
     "output_type": "stream",
     "text": [
      "Median 0.0006325487850205444\n",
      "Mean 0.0008192115573141351\n",
      "Min 1.713267543859649e-05\n",
      "Max 0.004376288473362509\n",
      "Range 0.004359155797923913\n"
     ]
    },
    {
     "data": {
      "text/html": [
       "<div>\n",
       "<style scoped>\n",
       "    .dataframe tbody tr th:only-of-type {\n",
       "        vertical-align: middle;\n",
       "    }\n",
       "\n",
       "    .dataframe tbody tr th {\n",
       "        vertical-align: top;\n",
       "    }\n",
       "\n",
       "    .dataframe thead th {\n",
       "        text-align: right;\n",
       "    }\n",
       "</style>\n",
       "<table border=\"1\" class=\"dataframe\">\n",
       "  <thead>\n",
       "    <tr style=\"text-align: right;\">\n",
       "      <th></th>\n",
       "      <th>zip</th>\n",
       "      <th>median_income</th>\n",
       "      <th>liquor_store_density</th>\n",
       "      <th>DUI_rate</th>\n",
       "    </tr>\n",
       "  </thead>\n",
       "  <tbody>\n",
       "    <tr>\n",
       "      <td>12</td>\n",
       "      <td>92008.0</td>\n",
       "      <td>81073</td>\n",
       "      <td>0.00698</td>\n",
       "      <td>0.004376</td>\n",
       "    </tr>\n",
       "  </tbody>\n",
       "</table>\n",
       "</div>"
      ],
      "text/plain": [
       "        zip  median_income  liquor_store_density  DUI_rate\n",
       "12  92008.0          81073               0.00698  0.004376"
      ]
     },
     "execution_count": 80,
     "metadata": {},
     "output_type": "execute_result"
    }
   ],
   "source": [
    "dui_dist = list(result_df[\"DUI_rate\"])\n",
    "print(\"Median\", np.median(dui_dist))\n",
    "print(\"Mean\", np.mean(dui_dist))\n",
    "print(\"Min\", min(dui_dist))\n",
    "print(\"Max\", max(dui_dist))\n",
    "print(\"Range\", max(dui_dist) - min(dui_dist))\n",
    "result_df[result_df[\"DUI_rate\"] == max(dui_dist)]"
   ]
  },
  {
   "cell_type": "markdown",
   "metadata": {},
   "source": [
    "This statistical data matches the bar chart we have above for DUI_rate for the zipcodes, Median DUI rate seems to be around .0006 with mean being .0008. Shockingly, the zipcode 92008 of carlsbad has a DUI rate of .004, meaning 10x the average DUI rate for the population compared to rest of SD zipcodes."
   ]
  },
  {
   "cell_type": "markdown",
   "metadata": {},
   "source": [
    "# Data Analysis & Results"
   ]
  },
  {
   "cell_type": "markdown",
   "metadata": {},
   "source": [
    "Include cells that describe the steps in your data analysis."
   ]
  },
  {
   "cell_type": "code",
   "execution_count": null,
   "metadata": {},
   "outputs": [],
   "source": [
    "## YOUR CODE HERE\n",
    "## FEEL FREE TO ADD MULTIPLE CELLS PER SECTION"
   ]
  },
  {
   "cell_type": "markdown",
   "metadata": {},
   "source": [
    "# Ethics & Privacy"
   ]
  },
  {
   "cell_type": "markdown",
   "metadata": {},
   "source": [
    "*Fill in your ethics & privacy discussion here*"
   ]
  },
  {
   "cell_type": "markdown",
   "metadata": {},
   "source": [
    "# Conclusion & Discussion"
   ]
  },
  {
   "cell_type": "markdown",
   "metadata": {},
   "source": [
    "*Fill in your discussion information here*"
   ]
  }
 ],
 "metadata": {
  "kernelspec": {
   "display_name": "Python 3",
   "language": "python",
   "name": "python3"
  }
 },
 "nbformat": 4,
 "nbformat_minor": 2
}
