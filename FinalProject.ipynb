{
 "cells": [
  {
   "cell_type": "markdown",
   "metadata": {},
   "source": [
    "# COGS 108 - Final Project "
   ]
  },
  {
   "cell_type": "markdown",
   "metadata": {},
   "source": [
    "# Overview"
   ]
  },
  {
   "cell_type": "markdown",
   "metadata": {},
   "source": [
    "TBD"
   ]
  },
  {
   "cell_type": "markdown",
   "metadata": {},
   "source": [
    "# Names\n",
    "\n",
    "- Ankur Gupta\n",
    "- Aditya Sampath\n",
    "- Pedro Talancon\n",
    "- Koodrut Panesar"
   ]
  },
  {
   "cell_type": "markdown",
   "metadata": {},
   "source": [
    "# Group Members IDs\n",
    "\n",
    "- A13877512\n",
    "- A13441492\n",
    "- A14400378\n",
    "- A13561263"
   ]
  },
  {
   "cell_type": "markdown",
   "metadata": {},
   "source": [
    "# Research Question"
   ]
  },
  {
   "cell_type": "markdown",
   "metadata": {},
   "source": [
    "Income or Density of Liquor Stores"
   ]
  },
  {
   "cell_type": "markdown",
   "metadata": {},
   "source": [
    "## Background and Prior Work"
   ]
  },
  {
   "cell_type": "markdown",
   "metadata": {},
   "source": [
    "*Fill in your background and prior work here* \n",
    "\n",
    "References (include links):\n",
    "- 1)\n",
    "- 2)"
   ]
  },
  {
   "cell_type": "markdown",
   "metadata": {},
   "source": [
    "# Hypothesis\n"
   ]
  },
  {
   "cell_type": "markdown",
   "metadata": {},
   "source": [
    "*Fill in your hypotheses here*"
   ]
  },
  {
   "cell_type": "markdown",
   "metadata": {},
   "source": [
    "# Dataset(s)"
   ]
  },
  {
   "cell_type": "markdown",
   "metadata": {},
   "source": [
    "*Fill in your dataset information here*\n",
    "\n",
    "(Copy this information for each dataset)\n",
    "- Dataset Name:\n",
    "- Link to the dataset:\n",
    "- Number of observations:\n",
    "\n",
    "1-2 sentences describing each dataset. \n",
    "\n",
    "If you plan to use multiple datasets, add 1-2 sentences about how you plan to combine these datasets."
   ]
  },
  {
   "cell_type": "markdown",
   "metadata": {},
   "source": [
    "# Setup"
   ]
  },
  {
   "cell_type": "code",
   "execution_count": 2,
   "metadata": {},
   "outputs": [],
   "source": [
    "import pandas as pd\n",
    "import numpy as np\n"
   ]
  },
  {
   "cell_type": "markdown",
   "metadata": {},
   "source": [
    "# Data Cleaning"
   ]
  },
  {
   "cell_type": "markdown",
   "metadata": {},
   "source": [
    "Describe your data cleaning steps here."
   ]
  },
  {
   "cell_type": "code",
   "execution_count": 30,
   "metadata": {},
   "outputs": [],
   "source": [
    "df = pd.read_csv('ARJISPublicCrime112019.txt')"
   ]
  },
  {
   "cell_type": "markdown",
   "metadata": {},
   "source": [
    "Checking the values of the crimes, and making sure DUI doesn't have different spellings"
   ]
  },
  {
   "cell_type": "code",
   "execution_count": 31,
   "metadata": {},
   "outputs": [
    {
     "data": {
      "text/plain": [
       "array(['MOTOR VEHICLE THEFT', 'BURGLARY', 'THEFT/LARCENY', 'ASSAULT',\n",
       "       'ROBBERY', 'VANDALISM', 'DRUGS/ALCOHOL VIOLATIONS', 'WEAPONS',\n",
       "       'DUI', 'FRAUD', 'VEHICLE BREAK-IN/THEFT', 'SEX CRIMES', 'ARSON',\n",
       "       'HOMICIDE'], dtype=object)"
      ]
     },
     "execution_count": 31,
     "metadata": {},
     "output_type": "execute_result"
    }
   ],
   "source": [
    "df.CM_LEGEND.unique()"
   ]
  },
  {
   "cell_type": "markdown",
   "metadata": {},
   "source": [
    "Now we know that there aren't different variations of the DUI spelling, so we can make a dataframe of just DUIs. "
   ]
  },
  {
   "cell_type": "code",
   "execution_count": 32,
   "metadata": {},
   "outputs": [],
   "source": [
    "df = df[df['CM_LEGEND']=='DUI']"
   ]
  },
  {
   "cell_type": "code",
   "execution_count": 33,
   "metadata": {},
   "outputs": [
    {
     "data": {
      "text/plain": [
       "array([91911., 92024., 91910., 91913., 91915., 92064., 92114., 92009.,\n",
       "       92109., 92118., 92075., 92083., 92008., 91941., 92027., 92084.,\n",
       "       92025., 92111., 92103., 92078., 91932., 92010., 92069., 92123.,\n",
       "       91942., 91950., 92110., 92065., 92102., 91914., 92126., 92081.,\n",
       "       92011., 92056., 91901.,    nan, 92117., 92120., 92054., 92105.,\n",
       "       92113., 20650., 92154., 92057., 92029., 92116., 92101., 92058.,\n",
       "       92026., 92130., 92173., 92139., 92124., 92107., 92121., 92104.,\n",
       "       92106., 92115., 92108., 92128., 92071., 92131., 92037., 92129.,\n",
       "       92122., 92100., 92182., 92021., 92007., 92127., 92020., 92014.,\n",
       "       92140., 92019., 91978., 91951., 91945., 92155., 92040., 91977.,\n",
       "       91902., 92003., 92119., 92028., 90284., 92145.])"
      ]
     },
     "execution_count": 33,
     "metadata": {},
     "output_type": "execute_result"
    }
   ],
   "source": [
    "df[\"ZipCode\"].unique()"
   ]
  },
  {
   "cell_type": "code",
   "execution_count": 34,
   "metadata": {},
   "outputs": [],
   "source": [
    "assert(sum(np.isnan(df[\"ZipCode\"].unique())) == 1)"
   ]
  },
  {
   "cell_type": "markdown",
   "metadata": {},
   "source": [
    "Lets drop the entries that have NaN values in the ZipCode region. "
   ]
  },
  {
   "cell_type": "code",
   "execution_count": 35,
   "metadata": {},
   "outputs": [],
   "source": [
    "df = df.dropna(subset=['ZipCode'])"
   ]
  },
  {
   "cell_type": "code",
   "execution_count": 36,
   "metadata": {},
   "outputs": [],
   "source": [
    "assert(sum(np.isnan(df[\"ZipCode\"].unique())) == 0)"
   ]
  },
  {
   "cell_type": "code",
   "execution_count": 37,
   "metadata": {},
   "outputs": [
    {
     "data": {
      "text/html": [
       "<div>\n",
       "<style scoped>\n",
       "    .dataframe tbody tr th:only-of-type {\n",
       "        vertical-align: middle;\n",
       "    }\n",
       "\n",
       "    .dataframe tbody tr th {\n",
       "        vertical-align: top;\n",
       "    }\n",
       "\n",
       "    .dataframe thead th {\n",
       "        text-align: right;\n",
       "    }\n",
       "</style>\n",
       "<table border=\"1\" class=\"dataframe\">\n",
       "  <thead>\n",
       "    <tr style=\"text-align: right;\">\n",
       "      <th></th>\n",
       "      <th>CM_LEGEND</th>\n",
       "      <th>agency</th>\n",
       "      <th>Charge_Description_Orig</th>\n",
       "      <th>activityDate</th>\n",
       "      <th>BLOCK_ADDRESS</th>\n",
       "      <th>ZipCode</th>\n",
       "      <th>community</th>\n",
       "    </tr>\n",
       "  </thead>\n",
       "  <tbody>\n",
       "    <tr>\n",
       "      <td>27</td>\n",
       "      <td>DUI</td>\n",
       "      <td>CHULA VISTA</td>\n",
       "      <td>DUI ALC/0.08 PERCENT (M)</td>\n",
       "      <td>7/27/2019 2:56:25</td>\n",
       "      <td>400 E  BLOCK PALOMAR STREET</td>\n",
       "      <td>91911.0</td>\n",
       "      <td>CHULA VISTA</td>\n",
       "    </tr>\n",
       "    <tr>\n",
       "      <td>41</td>\n",
       "      <td>DUI</td>\n",
       "      <td>SHERIFF</td>\n",
       "      <td>DUI ALCOHOL (M)</td>\n",
       "      <td>10/3/2019 23:37:00</td>\n",
       "      <td>GLASGOW AVENUE &amp; LIVERPOOL DRIVE</td>\n",
       "      <td>92024.0</td>\n",
       "      <td>ENCINITAS</td>\n",
       "    </tr>\n",
       "    <tr>\n",
       "      <td>68</td>\n",
       "      <td>DUI</td>\n",
       "      <td>CHULA VISTA</td>\n",
       "      <td>DUI ALC/0.08 PERCENT (M)</td>\n",
       "      <td>8/12/2019 1:06:00</td>\n",
       "      <td>300  BLOCK 04TH AVENUE</td>\n",
       "      <td>91910.0</td>\n",
       "      <td>CHULA VISTA</td>\n",
       "    </tr>\n",
       "    <tr>\n",
       "      <td>86</td>\n",
       "      <td>DUI</td>\n",
       "      <td>CHULA VISTA</td>\n",
       "      <td>DUI ALCOHOL (M)</td>\n",
       "      <td>8/15/2019 12:43:00</td>\n",
       "      <td>600  BLOCK BROADWAY</td>\n",
       "      <td>91910.0</td>\n",
       "      <td>CHULA VISTA</td>\n",
       "    </tr>\n",
       "    <tr>\n",
       "      <td>102</td>\n",
       "      <td>DUI</td>\n",
       "      <td>CHULA VISTA</td>\n",
       "      <td>DUI ALC/0.08 PERCENT (M)</td>\n",
       "      <td>8/3/2019 5:05:06</td>\n",
       "      <td>SANTA VENETIAST &amp; WINDCHIME AVENUE</td>\n",
       "      <td>91913.0</td>\n",
       "      <td>NaN</td>\n",
       "    </tr>\n",
       "    <tr>\n",
       "      <td>103</td>\n",
       "      <td>DUI</td>\n",
       "      <td>CHULA VISTA</td>\n",
       "      <td>DUI ALCOHOL (M)</td>\n",
       "      <td>8/4/2019 8:15:00</td>\n",
       "      <td>LA MEDIA ROAD &amp; E PALOMAR STREET</td>\n",
       "      <td>91915.0</td>\n",
       "      <td>CHULA VISTA</td>\n",
       "    </tr>\n",
       "    <tr>\n",
       "      <td>120</td>\n",
       "      <td>DUI</td>\n",
       "      <td>SHERIFF</td>\n",
       "      <td>DUI ALCOHOL (M)</td>\n",
       "      <td>7/29/2019 20:07:00</td>\n",
       "      <td>13500  BLOCK KENTFIELD DRIVE</td>\n",
       "      <td>92064.0</td>\n",
       "      <td>POWAY</td>\n",
       "    </tr>\n",
       "    <tr>\n",
       "      <td>155</td>\n",
       "      <td>DUI</td>\n",
       "      <td>CHULA VISTA</td>\n",
       "      <td>DUI ALCOHOL (M)</td>\n",
       "      <td>9/7/2019 1:06:00</td>\n",
       "      <td>0  BLOCK J STREET ( 200 BLOCK )</td>\n",
       "      <td>91910.0</td>\n",
       "      <td>NaN</td>\n",
       "    </tr>\n",
       "    <tr>\n",
       "      <td>156</td>\n",
       "      <td>DUI</td>\n",
       "      <td>CHULA VISTA</td>\n",
       "      <td>DUI ALC/0.08 PERCENT (M)</td>\n",
       "      <td>9/8/2019 0:56:00</td>\n",
       "      <td>PASEO ENTRADA &amp; PASEO LADERA</td>\n",
       "      <td>91910.0</td>\n",
       "      <td>CHULA VISTA</td>\n",
       "    </tr>\n",
       "    <tr>\n",
       "      <td>157</td>\n",
       "      <td>DUI</td>\n",
       "      <td>CHULA VISTA</td>\n",
       "      <td>DUI ALC/0.08 PERCENT (M)</td>\n",
       "      <td>9/7/2019 22:55:00</td>\n",
       "      <td>BONITA ROAD &amp; PLAZA BONITA ROAD</td>\n",
       "      <td>91910.0</td>\n",
       "      <td>CHULA VISTA</td>\n",
       "    </tr>\n",
       "  </tbody>\n",
       "</table>\n",
       "</div>"
      ],
      "text/plain": [
       "    CM_LEGEND       agency   Charge_Description_Orig        activityDate  \\\n",
       "27        DUI  CHULA VISTA  DUI ALC/0.08 PERCENT (M)   7/27/2019 2:56:25   \n",
       "41        DUI      SHERIFF           DUI ALCOHOL (M)  10/3/2019 23:37:00   \n",
       "68        DUI  CHULA VISTA  DUI ALC/0.08 PERCENT (M)   8/12/2019 1:06:00   \n",
       "86        DUI  CHULA VISTA           DUI ALCOHOL (M)  8/15/2019 12:43:00   \n",
       "102       DUI  CHULA VISTA  DUI ALC/0.08 PERCENT (M)    8/3/2019 5:05:06   \n",
       "103       DUI  CHULA VISTA           DUI ALCOHOL (M)    8/4/2019 8:15:00   \n",
       "120       DUI      SHERIFF           DUI ALCOHOL (M)  7/29/2019 20:07:00   \n",
       "155       DUI  CHULA VISTA           DUI ALCOHOL (M)    9/7/2019 1:06:00   \n",
       "156       DUI  CHULA VISTA  DUI ALC/0.08 PERCENT (M)    9/8/2019 0:56:00   \n",
       "157       DUI  CHULA VISTA  DUI ALC/0.08 PERCENT (M)   9/7/2019 22:55:00   \n",
       "\n",
       "                          BLOCK_ADDRESS  ZipCode    community  \n",
       "27          400 E  BLOCK PALOMAR STREET  91911.0  CHULA VISTA  \n",
       "41     GLASGOW AVENUE & LIVERPOOL DRIVE  92024.0    ENCINITAS  \n",
       "68               300  BLOCK 04TH AVENUE  91910.0  CHULA VISTA  \n",
       "86                  600  BLOCK BROADWAY  91910.0  CHULA VISTA  \n",
       "102  SANTA VENETIAST & WINDCHIME AVENUE  91913.0          NaN  \n",
       "103    LA MEDIA ROAD & E PALOMAR STREET  91915.0  CHULA VISTA  \n",
       "120        13500  BLOCK KENTFIELD DRIVE  92064.0        POWAY  \n",
       "155     0  BLOCK J STREET ( 200 BLOCK )  91910.0          NaN  \n",
       "156        PASEO ENTRADA & PASEO LADERA  91910.0  CHULA VISTA  \n",
       "157     BONITA ROAD & PLAZA BONITA ROAD  91910.0  CHULA VISTA  "
      ]
     },
     "execution_count": 37,
     "metadata": {},
     "output_type": "execute_result"
    }
   ],
   "source": [
    "df.head(10)"
   ]
  },
  {
   "cell_type": "markdown",
   "metadata": {},
   "source": [
    "Now, Lets apply safe harbor and drop some columns"
   ]
  },
  {
   "cell_type": "code",
   "execution_count": 38,
   "metadata": {},
   "outputs": [],
   "source": [
    "df = df.drop(['activityDate', 'BLOCK_ADDRESS', 'community'], axis = 1)"
   ]
  },
  {
   "cell_type": "code",
   "execution_count": 40,
   "metadata": {},
   "outputs": [],
   "source": [
    "#We also dont need agency, so we will drop that column\n",
    "df = df.drop(['agency'], axis = 1)"
   ]
  },
  {
   "cell_type": "markdown",
   "metadata": {},
   "source": [
    "Now lets analyze the zipcodes and see if we need to clean the data\n"
   ]
  },
  {
   "cell_type": "code",
   "execution_count": 50,
   "metadata": {},
   "outputs": [
    {
     "name": "stdout",
     "output_type": "stream",
     "text": [
      "85\n",
      "[91911. 92024. 91910. 91913. 91915. 92064. 92114. 92009. 92109. 92118.\n",
      " 92075. 92083. 92008. 91941. 92027. 92084. 92025. 92111. 92103. 92078.\n",
      " 91932. 92010. 92069. 92123. 91942. 91950. 92110. 92065. 92102. 91914.\n",
      " 92126. 92081. 92011. 92056. 91901. 92117. 92120. 92054. 92105. 92113.\n",
      " 20650. 92154. 92057. 92029. 92116. 92101. 92058. 92026. 92130. 92173.\n",
      " 92139. 92124. 92107. 92121. 92104. 92106. 92115. 92108. 92128. 92071.\n",
      " 92131. 92037. 92129. 92122. 92100. 92182. 92021. 92007. 92127. 92020.\n",
      " 92014. 92140. 92019. 91978. 91951. 91945. 92155. 92040. 91977. 91902.\n",
      " 92003. 92119. 92028. 90284. 92145.]\n",
      "      CM_LEGEND Charge_Description_Orig  ZipCode\n",
      "1968        DUI         DUI ALCOHOL (M)  20650.0\n",
      "2108        DUI         DUI ALCOHOL (M)  20650.0\n",
      "10001       DUI         DUI ALCOHOL (M)  20650.0\n"
     ]
    }
   ],
   "source": [
    "print(len(df.ZipCode.unique()))\n",
    "print(df.ZipCode.unique())\n",
    "print(df[df[\"ZipCode\"] == 20650])"
   ]
  },
  {
   "cell_type": "markdown",
   "metadata": {},
   "source": [
    "As you can see, all of the zipcodes were socal zipcodes except for 20650, so we will drop those entries"
   ]
  },
  {
   "cell_type": "code",
   "execution_count": 52,
   "metadata": {},
   "outputs": [],
   "source": [
    "df = df.drop(df[df[\"ZipCode\"] == 20650].index)"
   ]
  },
  {
   "cell_type": "code",
   "execution_count": 55,
   "metadata": {},
   "outputs": [],
   "source": [
    "assert(len(df[df[\"ZipCode\"] == 20650]) == 0)"
   ]
  },
  {
   "cell_type": "markdown",
   "metadata": {},
   "source": [
    "# Data Analysis & Results"
   ]
  },
  {
   "cell_type": "markdown",
   "metadata": {},
   "source": [
    "Include cells that describe the steps in your data analysis."
   ]
  },
  {
   "cell_type": "code",
   "execution_count": 5,
   "metadata": {},
   "outputs": [],
   "source": [
    "## YOUR CODE HERE\n",
    "## FEEL FREE TO ADD MULTIPLE CELLS PER SECTION"
   ]
  },
  {
   "cell_type": "markdown",
   "metadata": {},
   "source": [
    "# Ethics & Privacy"
   ]
  },
  {
   "cell_type": "markdown",
   "metadata": {},
   "source": [
    "*Fill in your ethics & privacy discussion here*"
   ]
  },
  {
   "cell_type": "markdown",
   "metadata": {},
   "source": [
    "# Conclusion & Discussion"
   ]
  },
  {
   "cell_type": "markdown",
   "metadata": {},
   "source": [
    "*Fill in your discussion information here*"
   ]
  }
 ],
 "metadata": {
  "kernelspec": {
   "display_name": "Python 3",
   "language": "python",
   "name": "python3"
  },
  "language_info": {
   "codemirror_mode": {
    "name": "ipython",
    "version": 3
   },
   "file_extension": ".py",
   "mimetype": "text/x-python",
   "name": "python",
   "nbconvert_exporter": "python",
   "pygments_lexer": "ipython3",
   "version": "3.7.4"
  }
 },
 "nbformat": 4,
 "nbformat_minor": 2
}
