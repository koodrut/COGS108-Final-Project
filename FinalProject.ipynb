{
 "cells": [
  {
   "cell_type": "markdown",
   "metadata": {},
   "source": [
    "# COGS 108 - Final Project "
   ]
  },
  {
   "cell_type": "markdown",
   "metadata": {},
   "source": [
    "# Overview"
   ]
  },
  {
   "cell_type": "markdown",
   "metadata": {},
   "source": [
    "TBD"
   ]
  },
  {
   "cell_type": "markdown",
   "metadata": {},
   "source": [
    "# Names\n",
    "\n",
    "- Ankur Gupta\n",
    "- Aditya Sampath\n",
    "- Pedro Talancon\n",
    "- Koodrut Panesar"
   ]
  },
  {
   "cell_type": "markdown",
   "metadata": {},
   "source": [
    "# Group Members IDs\n",
    "\n",
    "- A13877512\n",
    "- A13441492\n",
    "- A14400378\n",
    "- A13561263"
   ]
  },
  {
   "cell_type": "markdown",
   "metadata": {},
   "source": [
    "# Research Question"
   ]
  },
  {
   "cell_type": "markdown",
   "metadata": {},
   "source": [
    "Does the average income and/or density of liquor-selling businesses in a neighborhood influence the amount of DUI tickets given in the area? Which one has a stronger correlation to DUI rates?"
   ]
  },
  {
   "cell_type": "markdown",
   "metadata": {},
   "source": [
    "## Background and Prior Work"
   ]
  },
  {
   "cell_type": "markdown",
   "metadata": {},
   "source": [
    "*Fill in your background and prior work here* \n",
    "\n",
    "References (include links):\n",
    "- 1)\n",
    "- 2)"
   ]
  },
  {
   "cell_type": "markdown",
   "metadata": {},
   "source": [
    "# Hypothesis\n"
   ]
  },
  {
   "cell_type": "markdown",
   "metadata": {},
   "source": [
    "Yes, the income has a negative correlation and the density of liquor-selling businesses have a positive correlation, with the latter having a stronger correlation, to the DUI rates of a neighborhood. \n",
    "\n",
    "Since DUI rates of a neighborhood would be more dependent on the amount of people drinking and driving in the vicinity, areas with more bars, clubs, or restaurants (all which have lots of intoxicated people) would likely be the more correlated factor to DUI rates. “Nicer”, i.e. richer, neighborhoods are usually thought to be quiet and to have lower crime rates, thus the DUI rates in higher income neighborhoods is low, however the sheer amount of drunk people in areas like PB or gaslamp must have a higher influence on DUI rates. \n"
   ]
  },
  {
   "cell_type": "markdown",
   "metadata": {},
   "source": [
    "# Dataset(s)"
   ]
  },
  {
   "cell_type": "markdown",
   "metadata": {},
   "source": [
    "Name: SDPublicCrimeData112019.txt\n",
    "\n",
    "Description: All crimes documented in the last 180 days in San Diego. We are interested in the CM_LEGEND (only the DUI from the column), and the respective ZipCodes\n",
    "\n",
    "Link: https://www.sandag.org/index.asp?classid=14&subclassid=21&projectid=446&fuseaction=projects.detail\n",
    "Number of observations: 63806 entries \n",
    "\n",
    "Columns: CM_LEGEND, agency, Charge_Description_Orig, activityDate, BLOCK_ADDRESS, ZipCode, community \n",
    "    \n",
    "Name: zip_pop.csv\n",
    "\n",
    "Description: population per zipcode. We are only interested in the zip codes of the greater San Diego region\n",
    "\n",
    "Number of observations: 33092 entries \n",
    "\n",
    "Columns: zip code and population of that zip code \n",
    "\n",
    "Link: 2010 Census data from COGS108 Fall'19 Assignment 3 \n",
    "\n",
    "!!!NEEDS TO BE COMPLETED!!!\n",
    "\n",
    "Name: zip_income.csv\n",
    "\n",
    "Description: \n",
    "\n",
    "Number of observations: \n",
    "\n",
    "Columns: \n",
    "\n",
    "Link: https://factfinder.census.gov/faces/tableservices/jsf/pages/productview.xhtml?src=bkmk\n",
    "\n",
    "Name: ABC_Licenses.csv\n",
    "\n",
    "Description: All businesses that own Alcoholic Beverage Licenses in San Diego \n",
    "\n",
    "Number of observations: 9737 entries\n",
    "\n",
    "Columns: Lic_type, Lic_No, Lic_App, Status, Iss_Date, Exp_Date, Master, Term, GeoCode,  Name, Site_Addr1, Site_Addr2, Site_City, Site_State, Site_Zip, DBA_Name, Site_Cnty, Site_Tract, POINT_X, POINT_Y \n",
    "\n",
    "Link: https://hub.arcgis.com/datasets/6b6a0fe71f3f44b8b80f71151ae40de6_0/data?geometry=-118.474%2C32.196%2C-114.970%2C33.808 "
   ]
  },
  {
   "cell_type": "markdown",
   "metadata": {},
   "source": [
    "# Setup"
   ]
  },
  {
   "cell_type": "code",
   "execution_count": 1,
   "metadata": {},
   "outputs": [],
   "source": [
    "# Imports \n",
    "%matplotlib inline\n",
    "\n",
    "import pandas as pd\n",
    "import numpy as np\n",
    "import matplotlib.pyplot as plt\n",
    "import seaborn as sns\n",
    "\n",
    "import patsy\n",
    "import statsmodels.api as sm\n",
    "import scipy.stats as stats\n",
    "from scipy.stats import ttest_ind, chisquare, normaltest\n",
    "\n"
   ]
  },
  {
   "cell_type": "markdown",
   "metadata": {},
   "source": [
    "# Data Cleaning"
   ]
  },
  {
   "cell_type": "markdown",
   "metadata": {},
   "source": [
    "Import the 4 data sets into pandas dataframes"
   ]
  },
  {
   "cell_type": "code",
   "execution_count": 2,
   "metadata": {},
   "outputs": [],
   "source": [
    "crime_df = pd.read_csv('SDPublicCrimeData112019.txt')\n",
    "zip_df = pd.read_csv('zip_pop.csv')\n",
    "income_df = pd.read_csv('zip_income.csv')\n",
    "liquor_stores_df = pd.read_csv('ABC_Licenses.csv')"
   ]
  },
  {
   "cell_type": "markdown",
   "metadata": {},
   "source": [
    "liquor_stores_df: keep name, status, and zip \n",
    "    1. Check that they’re all either 5 or 10 digits to make sure they’re all valid\n",
    "    2. Drop the last 4 digits of the zip code if its a 9 digit zip code  \n",
    "    3. Convert zips to floats"
   ]
  },
  {
   "cell_type": "code",
   "execution_count": 3,
   "metadata": {},
   "outputs": [],
   "source": [
    "liquor_stores_df = liquor_stores_df[['Status', 'DBA_Name', 'Site_ZIP']]\n",
    "liquor_stores_df = liquor_stores_df[liquor_stores_df['Status'] == 'ACTIVE']\n",
    "liquor_stores_df.columns = ['Status', 'Name', 'zip']"
   ]
  },
  {
   "cell_type": "code",
   "execution_count": 4,
   "metadata": {},
   "outputs": [],
   "source": [
    "for zip_code in liquor_stores_df['zip']:\n",
    "    if len(zip_code) != 5 and len(zip_code) != 10:\n",
    "        print(zip_code)"
   ]
  },
  {
   "cell_type": "code",
   "execution_count": 5,
   "metadata": {},
   "outputs": [],
   "source": [
    "liquor_stores_df['zip'] = liquor_stores_df['zip'].str[:5]\n",
    "liquor_stores_df['zip'] = liquor_stores_df['zip'].astype(float)"
   ]
  },
  {
   "cell_type": "markdown",
   "metadata": {},
   "source": [
    "income_df: keep zip, median income\n",
    "    1. Remove all rows that lack data or are not an int \n",
    "    2. Remove all other columns as they’re not necessary for our analysis \n",
    "    3. Convert appropriate columns to floats "
   ]
  },
  {
   "cell_type": "code",
   "execution_count": 6,
   "metadata": {},
   "outputs": [],
   "source": [
    "income_df = income_df[['GEO.id2', 'HC03_EST_VC02', 'HC03_MOE_VC02']]\n",
    "income_df.columns = ['zip', 'median_income', 'median_income_moe']"
   ]
  },
  {
   "cell_type": "code",
   "execution_count": 7,
   "metadata": {},
   "outputs": [],
   "source": [
    "income_df = income_df.drop(income_df[income_df['median_income_moe'] == '**'].index)\n",
    "income_df = income_df.drop(income_df[income_df['median_income_moe'] == '***'].index)\n",
    "income_df = income_df.drop(income_df.index[0])\n",
    "income_df = income_df[['zip', 'median_income']]"
   ]
  },
  {
   "cell_type": "code",
   "execution_count": 8,
   "metadata": {},
   "outputs": [],
   "source": [
    "income_df['zip'] = income_df['zip'].astype(float)\n",
    "income_df['median_income'] = income_df['median_income'].astype(float)"
   ]
  },
  {
   "cell_type": "markdown",
   "metadata": {},
   "source": [
    "crime_df: keep only the rows whose CM_LEGEND is DUI, drop all other columns  \n",
    "    1. First checked to see if there were variations of ‘DUI’ such as ‘driving under the influence’, etc. \n",
    "    2. Drop entries that didn’t have a valid zip code (e.g. Nan)\n",
    "    3. Drop activityDate, BLOCK_ADDRESS, community due to the Safe Harbor Method \n",
    "    4. Drop agency because its not needed for our analysis \n",
    "    5. Rename columns to easier names \n"
   ]
  },
  {
   "cell_type": "code",
   "execution_count": 9,
   "metadata": {},
   "outputs": [
    {
     "data": {
      "text/plain": [
       "array(['MOTOR VEHICLE THEFT', 'BURGLARY', 'THEFT/LARCENY', 'ASSAULT',\n",
       "       'ROBBERY', 'VANDALISM', 'DRUGS/ALCOHOL VIOLATIONS', 'WEAPONS',\n",
       "       'DUI', 'FRAUD', 'VEHICLE BREAK-IN/THEFT', 'SEX CRIMES', 'ARSON',\n",
       "       'HOMICIDE'], dtype=object)"
      ]
     },
     "execution_count": 9,
     "metadata": {},
     "output_type": "execute_result"
    }
   ],
   "source": [
    "crime_df.CM_LEGEND.unique()"
   ]
  },
  {
   "cell_type": "code",
   "execution_count": 10,
   "metadata": {},
   "outputs": [],
   "source": [
    "crime_df = crime_df[crime_df['CM_LEGEND']=='DUI']"
   ]
  },
  {
   "cell_type": "code",
   "execution_count": 11,
   "metadata": {
    "scrolled": false
   },
   "outputs": [
    {
     "data": {
      "text/plain": [
       "array([91911., 92024., 91910., 91913., 91915., 92064., 92114., 92009.,\n",
       "       92109., 92118., 92075., 92083., 92008., 91941., 92027., 92084.,\n",
       "       92025., 92111., 92103., 92078., 91932., 92010., 92069., 92123.,\n",
       "       91942., 91950., 92110., 92065., 92102., 91914., 92126., 92081.,\n",
       "       92011., 92056., 91901.,    nan, 92117., 92120., 92054., 92105.,\n",
       "       92113., 20650., 92154., 92057., 92029., 92116., 92101., 92058.,\n",
       "       92026., 92130., 92173., 92139., 92124., 92107., 92121., 92104.,\n",
       "       92106., 92115., 92108., 92128., 92071., 92131., 92037., 92129.,\n",
       "       92122., 92100., 92182., 92021., 92007., 92127., 92020., 92014.,\n",
       "       92140., 92019., 91978., 91951., 91945., 92155., 92040., 91977.,\n",
       "       91902., 92003., 92119., 92028., 90284., 92145.])"
      ]
     },
     "execution_count": 11,
     "metadata": {},
     "output_type": "execute_result"
    }
   ],
   "source": [
    "crime_df[\"ZipCode\"].unique()"
   ]
  },
  {
   "cell_type": "code",
   "execution_count": 12,
   "metadata": {},
   "outputs": [],
   "source": [
    "assert(sum(np.isnan(crime_df[\"ZipCode\"].unique())) == 1)"
   ]
  },
  {
   "cell_type": "code",
   "execution_count": 13,
   "metadata": {},
   "outputs": [],
   "source": [
    "crime_df = crime_df.dropna(subset=['ZipCode'])"
   ]
  },
  {
   "cell_type": "code",
   "execution_count": 14,
   "metadata": {},
   "outputs": [],
   "source": [
    "assert(sum(np.isnan(crime_df[\"ZipCode\"].unique())) == 0)"
   ]
  },
  {
   "cell_type": "code",
   "execution_count": 15,
   "metadata": {},
   "outputs": [
    {
     "data": {
      "text/html": [
       "<div>\n",
       "<style scoped>\n",
       "    .dataframe tbody tr th:only-of-type {\n",
       "        vertical-align: middle;\n",
       "    }\n",
       "\n",
       "    .dataframe tbody tr th {\n",
       "        vertical-align: top;\n",
       "    }\n",
       "\n",
       "    .dataframe thead th {\n",
       "        text-align: right;\n",
       "    }\n",
       "</style>\n",
       "<table border=\"1\" class=\"dataframe\">\n",
       "  <thead>\n",
       "    <tr style=\"text-align: right;\">\n",
       "      <th></th>\n",
       "      <th>CM_LEGEND</th>\n",
       "      <th>agency</th>\n",
       "      <th>Charge_Description_Orig</th>\n",
       "      <th>activityDate</th>\n",
       "      <th>BLOCK_ADDRESS</th>\n",
       "      <th>ZipCode</th>\n",
       "      <th>community</th>\n",
       "    </tr>\n",
       "  </thead>\n",
       "  <tbody>\n",
       "    <tr>\n",
       "      <td>27</td>\n",
       "      <td>DUI</td>\n",
       "      <td>CHULA VISTA</td>\n",
       "      <td>DUI ALC/0.08 PERCENT (M)</td>\n",
       "      <td>7/27/2019 2:56:25</td>\n",
       "      <td>400 E  BLOCK PALOMAR STREET</td>\n",
       "      <td>91911.0</td>\n",
       "      <td>CHULA VISTA</td>\n",
       "    </tr>\n",
       "    <tr>\n",
       "      <td>41</td>\n",
       "      <td>DUI</td>\n",
       "      <td>SHERIFF</td>\n",
       "      <td>DUI ALCOHOL (M)</td>\n",
       "      <td>10/3/2019 23:37:00</td>\n",
       "      <td>GLASGOW AVENUE &amp; LIVERPOOL DRIVE</td>\n",
       "      <td>92024.0</td>\n",
       "      <td>ENCINITAS</td>\n",
       "    </tr>\n",
       "    <tr>\n",
       "      <td>68</td>\n",
       "      <td>DUI</td>\n",
       "      <td>CHULA VISTA</td>\n",
       "      <td>DUI ALC/0.08 PERCENT (M)</td>\n",
       "      <td>8/12/2019 1:06:00</td>\n",
       "      <td>300  BLOCK 04TH AVENUE</td>\n",
       "      <td>91910.0</td>\n",
       "      <td>CHULA VISTA</td>\n",
       "    </tr>\n",
       "    <tr>\n",
       "      <td>86</td>\n",
       "      <td>DUI</td>\n",
       "      <td>CHULA VISTA</td>\n",
       "      <td>DUI ALCOHOL (M)</td>\n",
       "      <td>8/15/2019 12:43:00</td>\n",
       "      <td>600  BLOCK BROADWAY</td>\n",
       "      <td>91910.0</td>\n",
       "      <td>CHULA VISTA</td>\n",
       "    </tr>\n",
       "    <tr>\n",
       "      <td>102</td>\n",
       "      <td>DUI</td>\n",
       "      <td>CHULA VISTA</td>\n",
       "      <td>DUI ALC/0.08 PERCENT (M)</td>\n",
       "      <td>8/3/2019 5:05:06</td>\n",
       "      <td>SANTA VENETIAST &amp; WINDCHIME AVENUE</td>\n",
       "      <td>91913.0</td>\n",
       "      <td>NaN</td>\n",
       "    </tr>\n",
       "    <tr>\n",
       "      <td>103</td>\n",
       "      <td>DUI</td>\n",
       "      <td>CHULA VISTA</td>\n",
       "      <td>DUI ALCOHOL (M)</td>\n",
       "      <td>8/4/2019 8:15:00</td>\n",
       "      <td>LA MEDIA ROAD &amp; E PALOMAR STREET</td>\n",
       "      <td>91915.0</td>\n",
       "      <td>CHULA VISTA</td>\n",
       "    </tr>\n",
       "    <tr>\n",
       "      <td>120</td>\n",
       "      <td>DUI</td>\n",
       "      <td>SHERIFF</td>\n",
       "      <td>DUI ALCOHOL (M)</td>\n",
       "      <td>7/29/2019 20:07:00</td>\n",
       "      <td>13500  BLOCK KENTFIELD DRIVE</td>\n",
       "      <td>92064.0</td>\n",
       "      <td>POWAY</td>\n",
       "    </tr>\n",
       "    <tr>\n",
       "      <td>155</td>\n",
       "      <td>DUI</td>\n",
       "      <td>CHULA VISTA</td>\n",
       "      <td>DUI ALCOHOL (M)</td>\n",
       "      <td>9/7/2019 1:06:00</td>\n",
       "      <td>0  BLOCK J STREET ( 200 BLOCK )</td>\n",
       "      <td>91910.0</td>\n",
       "      <td>NaN</td>\n",
       "    </tr>\n",
       "    <tr>\n",
       "      <td>156</td>\n",
       "      <td>DUI</td>\n",
       "      <td>CHULA VISTA</td>\n",
       "      <td>DUI ALC/0.08 PERCENT (M)</td>\n",
       "      <td>9/8/2019 0:56:00</td>\n",
       "      <td>PASEO ENTRADA &amp; PASEO LADERA</td>\n",
       "      <td>91910.0</td>\n",
       "      <td>CHULA VISTA</td>\n",
       "    </tr>\n",
       "    <tr>\n",
       "      <td>157</td>\n",
       "      <td>DUI</td>\n",
       "      <td>CHULA VISTA</td>\n",
       "      <td>DUI ALC/0.08 PERCENT (M)</td>\n",
       "      <td>9/7/2019 22:55:00</td>\n",
       "      <td>BONITA ROAD &amp; PLAZA BONITA ROAD</td>\n",
       "      <td>91910.0</td>\n",
       "      <td>CHULA VISTA</td>\n",
       "    </tr>\n",
       "  </tbody>\n",
       "</table>\n",
       "</div>"
      ],
      "text/plain": [
       "    CM_LEGEND       agency   Charge_Description_Orig        activityDate  \\\n",
       "27        DUI  CHULA VISTA  DUI ALC/0.08 PERCENT (M)   7/27/2019 2:56:25   \n",
       "41        DUI      SHERIFF           DUI ALCOHOL (M)  10/3/2019 23:37:00   \n",
       "68        DUI  CHULA VISTA  DUI ALC/0.08 PERCENT (M)   8/12/2019 1:06:00   \n",
       "86        DUI  CHULA VISTA           DUI ALCOHOL (M)  8/15/2019 12:43:00   \n",
       "102       DUI  CHULA VISTA  DUI ALC/0.08 PERCENT (M)    8/3/2019 5:05:06   \n",
       "103       DUI  CHULA VISTA           DUI ALCOHOL (M)    8/4/2019 8:15:00   \n",
       "120       DUI      SHERIFF           DUI ALCOHOL (M)  7/29/2019 20:07:00   \n",
       "155       DUI  CHULA VISTA           DUI ALCOHOL (M)    9/7/2019 1:06:00   \n",
       "156       DUI  CHULA VISTA  DUI ALC/0.08 PERCENT (M)    9/8/2019 0:56:00   \n",
       "157       DUI  CHULA VISTA  DUI ALC/0.08 PERCENT (M)   9/7/2019 22:55:00   \n",
       "\n",
       "                          BLOCK_ADDRESS  ZipCode    community  \n",
       "27          400 E  BLOCK PALOMAR STREET  91911.0  CHULA VISTA  \n",
       "41     GLASGOW AVENUE & LIVERPOOL DRIVE  92024.0    ENCINITAS  \n",
       "68               300  BLOCK 04TH AVENUE  91910.0  CHULA VISTA  \n",
       "86                  600  BLOCK BROADWAY  91910.0  CHULA VISTA  \n",
       "102  SANTA VENETIAST & WINDCHIME AVENUE  91913.0          NaN  \n",
       "103    LA MEDIA ROAD & E PALOMAR STREET  91915.0  CHULA VISTA  \n",
       "120        13500  BLOCK KENTFIELD DRIVE  92064.0        POWAY  \n",
       "155     0  BLOCK J STREET ( 200 BLOCK )  91910.0          NaN  \n",
       "156        PASEO ENTRADA & PASEO LADERA  91910.0  CHULA VISTA  \n",
       "157     BONITA ROAD & PLAZA BONITA ROAD  91910.0  CHULA VISTA  "
      ]
     },
     "execution_count": 15,
     "metadata": {},
     "output_type": "execute_result"
    }
   ],
   "source": [
    "crime_df.head(10)"
   ]
  },
  {
   "cell_type": "code",
   "execution_count": 16,
   "metadata": {},
   "outputs": [],
   "source": [
    "crime_df = crime_df.drop(['activityDate', 'BLOCK_ADDRESS', 'community'], axis = 1)"
   ]
  },
  {
   "cell_type": "code",
   "execution_count": 17,
   "metadata": {},
   "outputs": [],
   "source": [
    "crime_df = crime_df.drop(['agency'], axis = 1)"
   ]
  },
  {
   "cell_type": "code",
   "execution_count": 18,
   "metadata": {},
   "outputs": [],
   "source": [
    "crime_df.columns = ['crime', 'charge_description', 'zip']"
   ]
  },
  {
   "cell_type": "markdown",
   "metadata": {},
   "source": [
    "income_df: \n",
    "1. Check for any invalid / outlying zip codes: Dropped 20650 zip code because it was in maryland - it had 3 DUI points with that zip and after looking at the 3 entries, they looked like duplicates of each other"
   ]
  },
  {
   "cell_type": "code",
   "execution_count": 19,
   "metadata": {},
   "outputs": [
    {
     "name": "stdout",
     "output_type": "stream",
     "text": [
      "85\n",
      "[91911. 92024. 91910. 91913. 91915. 92064. 92114. 92009. 92109. 92118.\n",
      " 92075. 92083. 92008. 91941. 92027. 92084. 92025. 92111. 92103. 92078.\n",
      " 91932. 92010. 92069. 92123. 91942. 91950. 92110. 92065. 92102. 91914.\n",
      " 92126. 92081. 92011. 92056. 91901. 92117. 92120. 92054. 92105. 92113.\n",
      " 20650. 92154. 92057. 92029. 92116. 92101. 92058. 92026. 92130. 92173.\n",
      " 92139. 92124. 92107. 92121. 92104. 92106. 92115. 92108. 92128. 92071.\n",
      " 92131. 92037. 92129. 92122. 92100. 92182. 92021. 92007. 92127. 92020.\n",
      " 92014. 92140. 92019. 91978. 91951. 91945. 92155. 92040. 91977. 91902.\n",
      " 92003. 92119. 92028. 90284. 92145.]\n",
      "      crime charge_description      zip\n",
      "1968    DUI    DUI ALCOHOL (M)  20650.0\n",
      "2108    DUI    DUI ALCOHOL (M)  20650.0\n",
      "10001   DUI    DUI ALCOHOL (M)  20650.0\n"
     ]
    }
   ],
   "source": [
    "print(len(crime_df[\"zip\"].unique()))\n",
    "print(crime_df[\"zip\"].unique())\n",
    "print(crime_df[crime_df[\"zip\"] == 20650])"
   ]
  },
  {
   "cell_type": "code",
   "execution_count": 20,
   "metadata": {},
   "outputs": [],
   "source": [
    "crime_df = crime_df.drop(crime_df[crime_df[\"zip\"] == 20650].index)"
   ]
  },
  {
   "cell_type": "code",
   "execution_count": 21,
   "metadata": {},
   "outputs": [],
   "source": [
    "assert(len(crime_df[crime_df[\"zip\"] == 20650]) == 0)"
   ]
  },
  {
   "cell_type": "markdown",
   "metadata": {},
   "source": [
    "Merge the 4 df’s, dropping any columns that don’t have all 4 values (crime, zip, population, or median income) appropriately filled out - always do a left merge\n",
    "1. Merge crime with population \n",
    "2. Zip codes 92100, 92182, 91951, and 90284 were dropped as their 2010 census information wasn’t collected \n",
    "3. Merge income with cumalative_df \n",
    "4. Zip codes 92140 and 92155 were dropped because they’re military bases thus lack an average income\n",
    "5. Merge liquor_stores with cumulative_df \n",
    "6. Zip code 92145 was not dropped even though it was a military base with no liquor stores \n",
    "7. Make sure each zip code is only once in each dataframe "
   ]
  },
  {
   "cell_type": "code",
   "execution_count": 22,
   "metadata": {},
   "outputs": [],
   "source": [
    "cumulative_df = pd.merge(crime_df, zip_df, on='zip', how='left')"
   ]
  },
  {
   "cell_type": "code",
   "execution_count": 23,
   "metadata": {
    "scrolled": true
   },
   "outputs": [
    {
     "data": {
      "text/html": [
       "<div>\n",
       "<style scoped>\n",
       "    .dataframe tbody tr th:only-of-type {\n",
       "        vertical-align: middle;\n",
       "    }\n",
       "\n",
       "    .dataframe tbody tr th {\n",
       "        vertical-align: top;\n",
       "    }\n",
       "\n",
       "    .dataframe thead th {\n",
       "        text-align: right;\n",
       "    }\n",
       "</style>\n",
       "<table border=\"1\" class=\"dataframe\">\n",
       "  <thead>\n",
       "    <tr style=\"text-align: right;\">\n",
       "      <th></th>\n",
       "      <th>crime</th>\n",
       "      <th>charge_description</th>\n",
       "      <th>zip</th>\n",
       "      <th>population</th>\n",
       "    </tr>\n",
       "  </thead>\n",
       "  <tbody>\n",
       "    <tr>\n",
       "      <td>469</td>\n",
       "      <td>DUI</td>\n",
       "      <td>DUI ALC/0.08 PERCENT (M)</td>\n",
       "      <td>92100.0</td>\n",
       "      <td>NaN</td>\n",
       "    </tr>\n",
       "    <tr>\n",
       "      <td>515</td>\n",
       "      <td>DUI</td>\n",
       "      <td>DUI ALC/0.08 PERCENT (M)</td>\n",
       "      <td>92182.0</td>\n",
       "      <td>NaN</td>\n",
       "    </tr>\n",
       "    <tr>\n",
       "      <td>830</td>\n",
       "      <td>DUI</td>\n",
       "      <td>DUI ALCOHOL (M)</td>\n",
       "      <td>91951.0</td>\n",
       "      <td>NaN</td>\n",
       "    </tr>\n",
       "    <tr>\n",
       "      <td>1561</td>\n",
       "      <td>DUI</td>\n",
       "      <td>DUI ALCOHOL (M)</td>\n",
       "      <td>90284.0</td>\n",
       "      <td>NaN</td>\n",
       "    </tr>\n",
       "  </tbody>\n",
       "</table>\n",
       "</div>"
      ],
      "text/plain": [
       "     crime        charge_description      zip  population\n",
       "469    DUI  DUI ALC/0.08 PERCENT (M)  92100.0         NaN\n",
       "515    DUI  DUI ALC/0.08 PERCENT (M)  92182.0         NaN\n",
       "830    DUI           DUI ALCOHOL (M)  91951.0         NaN\n",
       "1561   DUI           DUI ALCOHOL (M)  90284.0         NaN"
      ]
     },
     "execution_count": 23,
     "metadata": {},
     "output_type": "execute_result"
    }
   ],
   "source": [
    "cumulative_df[cumulative_df['population'].isnull() == True]"
   ]
  },
  {
   "cell_type": "code",
   "execution_count": 24,
   "metadata": {},
   "outputs": [],
   "source": [
    "cumulative_df = cumulative_df.drop(cumulative_df[cumulative_df[\"zip\"] == 92100].index)\n",
    "cumulative_df = cumulative_df.drop(cumulative_df[cumulative_df[\"zip\"] == 92182].index)\n",
    "cumulative_df = cumulative_df.drop(cumulative_df[cumulative_df[\"zip\"] == 91951].index)\n",
    "cumulative_df = cumulative_df.drop(cumulative_df[cumulative_df[\"zip\"] == 90284].index)"
   ]
  },
  {
   "cell_type": "code",
   "execution_count": 25,
   "metadata": {},
   "outputs": [],
   "source": [
    "assert(len(cumulative_df[cumulative_df[\"zip\"] == 92100]) == 0)\n",
    "assert(len(cumulative_df[cumulative_df[\"zip\"] == 92182]) == 0)\n",
    "assert(len(cumulative_df[cumulative_df[\"zip\"] == 91951]) == 0)\n",
    "assert(len(cumulative_df[cumulative_df[\"zip\"] == 90284]) == 0)"
   ]
  },
  {
   "cell_type": "code",
   "execution_count": 26,
   "metadata": {},
   "outputs": [],
   "source": [
    "cumulative_df = pd.merge(cumulative_df, income_df, on='zip', how='left')"
   ]
  },
  {
   "cell_type": "code",
   "execution_count": 27,
   "metadata": {},
   "outputs": [
    {
     "data": {
      "text/html": [
       "<div>\n",
       "<style scoped>\n",
       "    .dataframe tbody tr th:only-of-type {\n",
       "        vertical-align: middle;\n",
       "    }\n",
       "\n",
       "    .dataframe tbody tr th {\n",
       "        vertical-align: top;\n",
       "    }\n",
       "\n",
       "    .dataframe thead th {\n",
       "        text-align: right;\n",
       "    }\n",
       "</style>\n",
       "<table border=\"1\" class=\"dataframe\">\n",
       "  <thead>\n",
       "    <tr style=\"text-align: right;\">\n",
       "      <th></th>\n",
       "      <th>crime</th>\n",
       "      <th>charge_description</th>\n",
       "      <th>zip</th>\n",
       "      <th>population</th>\n",
       "      <th>median_income</th>\n",
       "    </tr>\n",
       "  </thead>\n",
       "  <tbody>\n",
       "    <tr>\n",
       "      <td>699</td>\n",
       "      <td>DUI</td>\n",
       "      <td>DUI ALCOHOL (M)</td>\n",
       "      <td>92140.0</td>\n",
       "      <td>3435.0</td>\n",
       "      <td>NaN</td>\n",
       "    </tr>\n",
       "    <tr>\n",
       "      <td>1016</td>\n",
       "      <td>DUI</td>\n",
       "      <td>DUI ALCOHOL</td>\n",
       "      <td>92155.0</td>\n",
       "      <td>550.0</td>\n",
       "      <td>NaN</td>\n",
       "    </tr>\n",
       "    <tr>\n",
       "      <td>1993</td>\n",
       "      <td>DUI</td>\n",
       "      <td>USE WATERCRAFT WHILE UNDER INFLUENCE OF ALCOHO...</td>\n",
       "      <td>92155.0</td>\n",
       "      <td>550.0</td>\n",
       "      <td>NaN</td>\n",
       "    </tr>\n",
       "  </tbody>\n",
       "</table>\n",
       "</div>"
      ],
      "text/plain": [
       "     crime                                 charge_description      zip  \\\n",
       "699    DUI                                    DUI ALCOHOL (M)  92140.0   \n",
       "1016   DUI                                        DUI ALCOHOL  92155.0   \n",
       "1993   DUI  USE WATERCRAFT WHILE UNDER INFLUENCE OF ALCOHO...  92155.0   \n",
       "\n",
       "      population  median_income  \n",
       "699       3435.0            NaN  \n",
       "1016       550.0            NaN  \n",
       "1993       550.0            NaN  "
      ]
     },
     "execution_count": 27,
     "metadata": {},
     "output_type": "execute_result"
    }
   ],
   "source": [
    "cumulative_df[cumulative_df['median_income'].isnull() == True]"
   ]
  },
  {
   "cell_type": "code",
   "execution_count": 28,
   "metadata": {},
   "outputs": [],
   "source": [
    "cumulative_df = cumulative_df.drop(cumulative_df[cumulative_df[\"zip\"] == 92140].index)\n",
    "cumulative_df = cumulative_df.drop(cumulative_df[cumulative_df[\"zip\"] == 92155].index)"
   ]
  },
  {
   "cell_type": "code",
   "execution_count": 29,
   "metadata": {},
   "outputs": [],
   "source": [
    "assert(len(cumulative_df[cumulative_df[\"zip\"] == 92140]) == 0)\n",
    "assert(len(cumulative_df[cumulative_df[\"zip\"] == 92155]) == 0)"
   ]
  },
  {
   "cell_type": "code",
   "execution_count": 30,
   "metadata": {
    "scrolled": true
   },
   "outputs": [
    {
     "name": "stdout",
     "output_type": "stream",
     "text": [
      "{92145.0}\n"
     ]
    }
   ],
   "source": [
    "unique_crime_zips = cumulative_df['zip']\n",
    "liquor_zips = set(liquor_stores_df['zip'])\n",
    "zips_with_no_liquor_stores = set()\n",
    "\n",
    "for crime_zip in unique_crime_zips:\n",
    "    if crime_zip not in liquor_zips:\n",
    "        zips_with_no_liquor_stores.add(crime_zip)\n",
    "\n",
    "print(zips_with_no_liquor_stores)"
   ]
  },
  {
   "cell_type": "code",
   "execution_count": 31,
   "metadata": {
    "scrolled": true
   },
   "outputs": [
    {
     "data": {
      "text/plain": [
       "78"
      ]
     },
     "execution_count": 31,
     "metadata": {},
     "output_type": "execute_result"
    }
   ],
   "source": [
    "len(cumulative_df['zip'].unique())"
   ]
  },
  {
   "cell_type": "markdown",
   "metadata": {},
   "source": [
    "Create a dataframe that uses the analysis that we derive from the cumulative df\n",
    "1. Make sure we have each zip code once in the final dataframe.\n",
    "2. Add the median income for each zip code to each row\n",
    "3. For each zip code in the final df, calculate the number of liquor stores divided by the population of that zip code. This yields liquor_store_density in each zip code.\n",
    "4. For each zip code in the final df, calculate the number of DUIs in that zip code divided by the population of that zip code. This yields DUI_rate in each zip code. "
   ]
  },
  {
   "cell_type": "code",
   "execution_count": 32,
   "metadata": {},
   "outputs": [],
   "source": [
    "result_df = pd.DataFrame(columns=['zip','median_income','liquor_store_density','DUI_rate'])"
   ]
  },
  {
   "cell_type": "code",
   "execution_count": 33,
   "metadata": {},
   "outputs": [],
   "source": [
    "all_zips = cumulative_df['zip'].unique()\n",
    "result_df['zip'] = all_zips"
   ]
  },
  {
   "cell_type": "code",
   "execution_count": 34,
   "metadata": {},
   "outputs": [],
   "source": [
    "for zip_code in all_zips:\n",
    "    zip_income = income_df[income_df['zip'] == zip_code]['median_income'].values[0]\n",
    "    result_df.loc[result_df['zip'] == zip_code, \"median_income\"] = zip_income"
   ]
  },
  {
   "cell_type": "code",
   "execution_count": 35,
   "metadata": {},
   "outputs": [],
   "source": [
    "for zip_code in all_zips:\n",
    "    num_stores_in_zip = liquor_stores_df[liquor_stores_df['zip'] == zip_code]['zip'].count()\n",
    "    zip_pop = cumulative_df[cumulative_df['zip'] == zip_code].iloc[0]['population']\n",
    "    density = num_stores_in_zip / zip_pop\n",
    "    result_df.loc[result_df['zip'] == zip_code, \"liquor_store_density\"] = density"
   ]
  },
  {
   "cell_type": "code",
   "execution_count": 36,
   "metadata": {},
   "outputs": [
    {
     "data": {
      "text/html": [
       "<div>\n",
       "<style scoped>\n",
       "    .dataframe tbody tr th:only-of-type {\n",
       "        vertical-align: middle;\n",
       "    }\n",
       "\n",
       "    .dataframe tbody tr th {\n",
       "        vertical-align: top;\n",
       "    }\n",
       "\n",
       "    .dataframe thead th {\n",
       "        text-align: right;\n",
       "    }\n",
       "</style>\n",
       "<table border=\"1\" class=\"dataframe\">\n",
       "  <thead>\n",
       "    <tr style=\"text-align: right;\">\n",
       "      <th></th>\n",
       "      <th>zip</th>\n",
       "      <th>median_income</th>\n",
       "      <th>liquor_store_density</th>\n",
       "      <th>DUI_rate</th>\n",
       "    </tr>\n",
       "  </thead>\n",
       "  <tbody>\n",
       "    <tr>\n",
       "      <td>0</td>\n",
       "      <td>91911.0</td>\n",
       "      <td>52274</td>\n",
       "      <td>0.00151809</td>\n",
       "      <td>0.00057832</td>\n",
       "    </tr>\n",
       "    <tr>\n",
       "      <td>1</td>\n",
       "      <td>92024.0</td>\n",
       "      <td>103417</td>\n",
       "      <td>0.00415301</td>\n",
       "      <td>0.00144541</td>\n",
       "    </tr>\n",
       "    <tr>\n",
       "      <td>2</td>\n",
       "      <td>91910.0</td>\n",
       "      <td>59371</td>\n",
       "      <td>0.00244057</td>\n",
       "      <td>0.000844305</td>\n",
       "    </tr>\n",
       "    <tr>\n",
       "      <td>3</td>\n",
       "      <td>91913.0</td>\n",
       "      <td>87440</td>\n",
       "      <td>0.000341705</td>\n",
       "      <td>0.000439335</td>\n",
       "    </tr>\n",
       "    <tr>\n",
       "      <td>4</td>\n",
       "      <td>91915.0</td>\n",
       "      <td>106452</td>\n",
       "      <td>0.00174379</td>\n",
       "      <td>0.000283872</td>\n",
       "    </tr>\n",
       "  </tbody>\n",
       "</table>\n",
       "</div>"
      ],
      "text/plain": [
       "       zip  median_income liquor_store_density     DUI_rate\n",
       "0  91911.0          52274           0.00151809   0.00057832\n",
       "1  92024.0         103417           0.00415301   0.00144541\n",
       "2  91910.0          59371           0.00244057  0.000844305\n",
       "3  91913.0          87440          0.000341705  0.000439335\n",
       "4  91915.0         106452           0.00174379  0.000283872"
      ]
     },
     "execution_count": 36,
     "metadata": {},
     "output_type": "execute_result"
    }
   ],
   "source": [
    "total_DUIs = 0\n",
    "for zip_code in all_zips:\n",
    "    num_DUIs_in_zip = cumulative_df[cumulative_df['zip'] == zip_code]['crime'].count()\n",
    "    zip_pop = cumulative_df[cumulative_df['zip'] == zip_code].iloc[0]['population']\n",
    "    \n",
    "    total_DUIs += num_DUIs_in_zip\n",
    "    DUI_rate = num_DUIs_in_zip / zip_pop\n",
    "    result_df.loc[result_df['zip'] == zip_code, \"DUI_rate\"] = DUI_rate\n",
    "result_df.head(5)"
   ]
  },
  {
   "cell_type": "code",
   "execution_count": 37,
   "metadata": {},
   "outputs": [],
   "source": [
    "assert(total_DUIs == cumulative_df.shape[0])"
   ]
  },
  {
   "cell_type": "code",
   "execution_count": 38,
   "metadata": {},
   "outputs": [],
   "source": [
    "result_df[\"liquor_store_density\"] = pd.to_numeric(result_df[\"liquor_store_density\"])\n",
    "result_df[\"DUI_rate\"] = pd.to_numeric(result_df[\"DUI_rate\"])"
   ]
  },
  {
   "cell_type": "code",
   "execution_count": 39,
   "metadata": {
    "scrolled": true
   },
   "outputs": [
    {
     "data": {
      "text/html": [
       "<div>\n",
       "<style scoped>\n",
       "    .dataframe tbody tr th:only-of-type {\n",
       "        vertical-align: middle;\n",
       "    }\n",
       "\n",
       "    .dataframe tbody tr th {\n",
       "        vertical-align: top;\n",
       "    }\n",
       "\n",
       "    .dataframe thead th {\n",
       "        text-align: right;\n",
       "    }\n",
       "</style>\n",
       "<table border=\"1\" class=\"dataframe\">\n",
       "  <thead>\n",
       "    <tr style=\"text-align: right;\">\n",
       "      <th></th>\n",
       "      <th>zip</th>\n",
       "      <th>median_income</th>\n",
       "      <th>liquor_store_density</th>\n",
       "      <th>DUI_rate</th>\n",
       "    </tr>\n",
       "  </thead>\n",
       "  <tbody>\n",
       "    <tr>\n",
       "      <td>0</td>\n",
       "      <td>91911.0</td>\n",
       "      <td>52274</td>\n",
       "      <td>0.001518</td>\n",
       "      <td>0.000578</td>\n",
       "    </tr>\n",
       "    <tr>\n",
       "      <td>1</td>\n",
       "      <td>92024.0</td>\n",
       "      <td>103417</td>\n",
       "      <td>0.004153</td>\n",
       "      <td>0.001445</td>\n",
       "    </tr>\n",
       "    <tr>\n",
       "      <td>2</td>\n",
       "      <td>91910.0</td>\n",
       "      <td>59371</td>\n",
       "      <td>0.002441</td>\n",
       "      <td>0.000844</td>\n",
       "    </tr>\n",
       "    <tr>\n",
       "      <td>3</td>\n",
       "      <td>91913.0</td>\n",
       "      <td>87440</td>\n",
       "      <td>0.000342</td>\n",
       "      <td>0.000439</td>\n",
       "    </tr>\n",
       "    <tr>\n",
       "      <td>4</td>\n",
       "      <td>91915.0</td>\n",
       "      <td>106452</td>\n",
       "      <td>0.001744</td>\n",
       "      <td>0.000284</td>\n",
       "    </tr>\n",
       "  </tbody>\n",
       "</table>\n",
       "</div>"
      ],
      "text/plain": [
       "       zip  median_income  liquor_store_density  DUI_rate\n",
       "0  91911.0          52274              0.001518  0.000578\n",
       "1  92024.0         103417              0.004153  0.001445\n",
       "2  91910.0          59371              0.002441  0.000844\n",
       "3  91913.0          87440              0.000342  0.000439\n",
       "4  91915.0         106452              0.001744  0.000284"
      ]
     },
     "execution_count": 39,
     "metadata": {},
     "output_type": "execute_result"
    }
   ],
   "source": [
    "result_df.head(5)"
   ]
  },
  {
   "cell_type": "markdown",
   "metadata": {},
   "source": [
    "# Data Exploration"
   ]
  },
  {
   "cell_type": "markdown",
   "metadata": {},
   "source": [
    "Let's get some basic visualizations: below we have 2 scatter matrices of the cumalative_df and result_df.  "
   ]
  },
  {
   "cell_type": "code",
   "execution_count": 40,
   "metadata": {},
   "outputs": [
    {
     "data": {
      "text/plain": [
       "array([[<matplotlib.axes._subplots.AxesSubplot object at 0x1c21bc84d0>,\n",
       "        <matplotlib.axes._subplots.AxesSubplot object at 0x1c20ff9690>,\n",
       "        <matplotlib.axes._subplots.AxesSubplot object at 0x1c21b711d0>],\n",
       "       [<matplotlib.axes._subplots.AxesSubplot object at 0x1c21b47b50>,\n",
       "        <matplotlib.axes._subplots.AxesSubplot object at 0x1c21ad9250>,\n",
       "        <matplotlib.axes._subplots.AxesSubplot object at 0x1c20769a90>],\n",
       "       [<matplotlib.axes._subplots.AxesSubplot object at 0x1c20788f10>,\n",
       "        <matplotlib.axes._subplots.AxesSubplot object at 0x1c21004550>,\n",
       "        <matplotlib.axes._subplots.AxesSubplot object at 0x1c210039d0>]],\n",
       "      dtype=object)"
      ]
     },
     "execution_count": 40,
     "metadata": {},
     "output_type": "execute_result"
    },
    {
     "data": {
      "image/png": "[encoded data removed]",
      "text/plain": [
       "<Figure size 432x288 with 9 Axes>"
      ]
     },
     "metadata": {
      "needs_background": "light"
     },
     "output_type": "display_data"
    }
   ],
   "source": [
    "pd.plotting.scatter_matrix(cumulative_df)"
   ]
  },
  {
   "cell_type": "code",
   "execution_count": 41,
   "metadata": {},
   "outputs": [
    {
     "data": {
      "text/plain": [
       "array([[<matplotlib.axes._subplots.AxesSubplot object at 0x1c1e256250>,\n",
       "        <matplotlib.axes._subplots.AxesSubplot object at 0x1c20c66090>,\n",
       "        <matplotlib.axes._subplots.AxesSubplot object at 0x1c1e229510>,\n",
       "        <matplotlib.axes._subplots.AxesSubplot object at 0x1c20175d90>],\n",
       "       [<matplotlib.axes._subplots.AxesSubplot object at 0x1c2015f190>,\n",
       "        <matplotlib.axes._subplots.AxesSubplot object at 0x1c20738950>,\n",
       "        <matplotlib.axes._subplots.AxesSubplot object at 0x1c2071e490>,\n",
       "        <matplotlib.axes._subplots.AxesSubplot object at 0x1c20e41110>],\n",
       "       [<matplotlib.axes._subplots.AxesSubplot object at 0x1c20e2b050>,\n",
       "        <matplotlib.axes._subplots.AxesSubplot object at 0x1c20dcf8d0>,\n",
       "        <matplotlib.axes._subplots.AxesSubplot object at 0x1c20d82450>,\n",
       "        <matplotlib.axes._subplots.AxesSubplot object at 0x1c20d7af90>],\n",
       "       [<matplotlib.axes._subplots.AxesSubplot object at 0x1c20d4d550>,\n",
       "        <matplotlib.axes._subplots.AxesSubplot object at 0x1c20d20050>,\n",
       "        <matplotlib.axes._subplots.AxesSubplot object at 0x1c20bcfc90>,\n",
       "        <matplotlib.axes._subplots.AxesSubplot object at 0x1c20ba4410>]],\n",
       "      dtype=object)"
      ]
     },
     "execution_count": 41,
     "metadata": {},
     "output_type": "execute_result"
    },
    {
     "data": {
      "image/png": "[encoded data removed]",
      "text/plain": [
       "<Figure size 432x288 with 16 Axes>"
      ]
     },
     "metadata": {
      "needs_background": "light"
     },
     "output_type": "display_data"
    }
   ],
   "source": [
    "pd.plotting.scatter_matrix(result_df)\n"
   ]
  },
  {
   "cell_type": "markdown",
   "metadata": {},
   "source": [
    "Next we have 3 charts to show the distributions of number of zio codes with a certain liquor store denstity, income, and DUI rate"
   ]
  },
  {
   "cell_type": "code",
   "execution_count": 42,
   "metadata": {},
   "outputs": [
    {
     "data": {
      "text/plain": [
       "array([[<matplotlib.axes._subplots.AxesSubplot object at 0x1c20c86c50>]],\n",
       "      dtype=object)"
      ]
     },
     "execution_count": 42,
     "metadata": {},
     "output_type": "execute_result"
    },
    {
     "data": {
      "image/png": "[encoded data removed]",
      "text/plain": [
       "<Figure size 432x288 with 1 Axes>"
      ]
     },
     "metadata": {
      "needs_background": "light"
     },
     "output_type": "display_data"
    }
   ],
   "source": [
    "result_df.hist(column='liquor_store_density')"
   ]
  },
  {
   "cell_type": "code",
   "execution_count": 43,
   "metadata": {},
   "outputs": [
    {
     "data": {
      "text/plain": [
       "array([[<matplotlib.axes._subplots.AxesSubplot object at 0x1c1fe32a10>]],\n",
       "      dtype=object)"
      ]
     },
     "execution_count": 43,
     "metadata": {},
     "output_type": "execute_result"
    },
    {
     "data": {
      "image/png": "[encoded data removed]",
      "text/plain": [
       "<Figure size 432x288 with 1 Axes>"
      ]
     },
     "metadata": {
      "needs_background": "light"
     },
     "output_type": "display_data"
    }
   ],
   "source": [
    "result_df.hist(column='median_income')"
   ]
  },
  {
   "cell_type": "code",
   "execution_count": 44,
   "metadata": {},
   "outputs": [
    {
     "data": {
      "text/plain": [
       "array([[<matplotlib.axes._subplots.AxesSubplot object at 0x1c1fd5ab50>]],\n",
       "      dtype=object)"
      ]
     },
     "execution_count": 44,
     "metadata": {},
     "output_type": "execute_result"
    },
    {
     "data": {
      "image/png": "[encoded data removed]",
      "text/plain": [
       "<Figure size 432x288 with 1 Axes>"
      ]
     },
     "metadata": {
      "needs_background": "light"
     },
     "output_type": "display_data"
    }
   ],
   "source": [
    "result_df.hist(column='DUI_rate')\n"
   ]
  },
  {
   "cell_type": "markdown",
   "metadata": {},
   "source": [
    "Next is some basic statistical data on median_income, liquor_store_density, and DUI_rate. Values included are: median, mean, min, max, and range. "
   ]
  },
  {
   "cell_type": "code",
   "execution_count": 45,
   "metadata": {},
   "outputs": [
    {
     "name": "stdout",
     "output_type": "stream",
     "text": [
      "Median 72208.5\n",
      "Mean 78352.30769230769\n",
      "Min 33125\n",
      "Max 141926\n",
      "Range 108801\n"
     ]
    },
    {
     "data": {
      "text/html": [
       "<div>\n",
       "<style scoped>\n",
       "    .dataframe tbody tr th:only-of-type {\n",
       "        vertical-align: middle;\n",
       "    }\n",
       "\n",
       "    .dataframe tbody tr th {\n",
       "        vertical-align: top;\n",
       "    }\n",
       "\n",
       "    .dataframe thead th {\n",
       "        text-align: right;\n",
       "    }\n",
       "</style>\n",
       "<table border=\"1\" class=\"dataframe\">\n",
       "  <thead>\n",
       "    <tr style=\"text-align: right;\">\n",
       "      <th></th>\n",
       "      <th>zip</th>\n",
       "      <th>median_income</th>\n",
       "      <th>liquor_store_density</th>\n",
       "      <th>DUI_rate</th>\n",
       "    </tr>\n",
       "  </thead>\n",
       "  <tbody>\n",
       "    <tr>\n",
       "      <td>47</td>\n",
       "      <td>92130.0</td>\n",
       "      <td>141926</td>\n",
       "      <td>0.002227</td>\n",
       "      <td>0.000286</td>\n",
       "    </tr>\n",
       "  </tbody>\n",
       "</table>\n",
       "</div>"
      ],
      "text/plain": [
       "        zip  median_income  liquor_store_density  DUI_rate\n",
       "47  92130.0         141926              0.002227  0.000286"
      ]
     },
     "execution_count": 45,
     "metadata": {},
     "output_type": "execute_result"
    }
   ],
   "source": [
    "income_dist = list(result_df[\"median_income\"])\n",
    "median_zip_income = np.median(income_dist)\n",
    "\n",
    "print(\"Median\", median_zip_income)\n",
    "print(\"Mean\", np.mean(income_dist))\n",
    "print(\"Min\", min(income_dist))\n",
    "print(\"Max\", max(income_dist))\n",
    "print(\"Range\", max(income_dist) - min(income_dist))\n",
    "result_df[result_df[\"median_income\"] == max(income_dist)]"
   ]
  },
  {
   "cell_type": "code",
   "execution_count": 46,
   "metadata": {},
   "outputs": [
    {
     "name": "stdout",
     "output_type": "stream",
     "text": [
      "Median 0.002212094191613473\n",
      "Mean 0.0035340265892453973\n",
      "Min 0.0\n",
      "Max 0.03469729600382867\n",
      "Range 0.03469729600382867\n"
     ]
    },
    {
     "data": {
      "text/html": [
       "<div>\n",
       "<style scoped>\n",
       "    .dataframe tbody tr th:only-of-type {\n",
       "        vertical-align: middle;\n",
       "    }\n",
       "\n",
       "    .dataframe tbody tr th {\n",
       "        vertical-align: top;\n",
       "    }\n",
       "\n",
       "    .dataframe thead th {\n",
       "        text-align: right;\n",
       "    }\n",
       "</style>\n",
       "<table border=\"1\" class=\"dataframe\">\n",
       "  <thead>\n",
       "    <tr style=\"text-align: right;\">\n",
       "      <th></th>\n",
       "      <th>zip</th>\n",
       "      <th>median_income</th>\n",
       "      <th>liquor_store_density</th>\n",
       "      <th>DUI_rate</th>\n",
       "    </tr>\n",
       "  </thead>\n",
       "  <tbody>\n",
       "    <tr>\n",
       "      <td>52</td>\n",
       "      <td>92121.0</td>\n",
       "      <td>103953</td>\n",
       "      <td>0.034697</td>\n",
       "      <td>0.001436</td>\n",
       "    </tr>\n",
       "  </tbody>\n",
       "</table>\n",
       "</div>"
      ],
      "text/plain": [
       "        zip  median_income  liquor_store_density  DUI_rate\n",
       "52  92121.0         103953              0.034697  0.001436"
      ]
     },
     "execution_count": 46,
     "metadata": {},
     "output_type": "execute_result"
    }
   ],
   "source": [
    "liquor_dist = list(result_df[\"liquor_store_density\"])\n",
    "median_liquor_density = np.median(liquor_dist)\n",
    "\n",
    "print(\"Median\", median_liquor_density)\n",
    "print(\"Mean\", np.mean(liquor_dist))\n",
    "print(\"Min\", min(liquor_dist))\n",
    "print(\"Max\", max(liquor_dist))\n",
    "print(\"Range\", max(liquor_dist) - min(liquor_dist))\n",
    "result_df[result_df[\"liquor_store_density\"] == max(liquor_dist)]"
   ]
  },
  {
   "cell_type": "code",
   "execution_count": 47,
   "metadata": {},
   "outputs": [
    {
     "name": "stdout",
     "output_type": "stream",
     "text": [
      "Median 0.0006325487850205444\n",
      "Mean 0.0008192115573141351\n",
      "Min 1.713267543859649e-05\n",
      "Max 0.004376288473362509\n",
      "Range 0.004359155797923913\n"
     ]
    },
    {
     "data": {
      "text/html": [
       "<div>\n",
       "<style scoped>\n",
       "    .dataframe tbody tr th:only-of-type {\n",
       "        vertical-align: middle;\n",
       "    }\n",
       "\n",
       "    .dataframe tbody tr th {\n",
       "        vertical-align: top;\n",
       "    }\n",
       "\n",
       "    .dataframe thead th {\n",
       "        text-align: right;\n",
       "    }\n",
       "</style>\n",
       "<table border=\"1\" class=\"dataframe\">\n",
       "  <thead>\n",
       "    <tr style=\"text-align: right;\">\n",
       "      <th></th>\n",
       "      <th>zip</th>\n",
       "      <th>median_income</th>\n",
       "      <th>liquor_store_density</th>\n",
       "      <th>DUI_rate</th>\n",
       "    </tr>\n",
       "  </thead>\n",
       "  <tbody>\n",
       "    <tr>\n",
       "      <td>12</td>\n",
       "      <td>92008.0</td>\n",
       "      <td>81073</td>\n",
       "      <td>0.00698</td>\n",
       "      <td>0.004376</td>\n",
       "    </tr>\n",
       "  </tbody>\n",
       "</table>\n",
       "</div>"
      ],
      "text/plain": [
       "        zip  median_income  liquor_store_density  DUI_rate\n",
       "12  92008.0          81073               0.00698  0.004376"
      ]
     },
     "execution_count": 47,
     "metadata": {},
     "output_type": "execute_result"
    }
   ],
   "source": [
    "dui_dist = list(result_df[\"DUI_rate\"])\n",
    "print(\"Median\", np.median(dui_dist))\n",
    "print(\"Mean\", np.mean(dui_dist))\n",
    "print(\"Min\", min(dui_dist))\n",
    "print(\"Max\", max(dui_dist))\n",
    "print(\"Range\", max(dui_dist) - min(dui_dist))\n",
    "result_df[result_df[\"DUI_rate\"] == max(dui_dist)]"
   ]
  },
  {
   "cell_type": "markdown",
   "metadata": {},
   "source": [
    "# Data Analysis & Results"
   ]
  },
  {
   "cell_type": "markdown",
   "metadata": {},
   "source": [
    "## Correlation"
   ]
  },
  {
   "cell_type": "markdown",
   "metadata": {},
   "source": [
    "1. First we looked at correlations between DUI rate and liquor store density and median income\n",
    "2. Use polyfit to determine the relationship between DUI rate and median income in terms of slope and offset\n",
    "3. Use polyfit to determine the relationship between DUI rate and liquor store density in terms of slope and offset"
   ]
  },
  {
   "cell_type": "code",
   "execution_count": 48,
   "metadata": {
    "scrolled": true
   },
   "outputs": [
    {
     "data": {
      "text/html": [
       "<div>\n",
       "<style scoped>\n",
       "    .dataframe tbody tr th:only-of-type {\n",
       "        vertical-align: middle;\n",
       "    }\n",
       "\n",
       "    .dataframe tbody tr th {\n",
       "        vertical-align: top;\n",
       "    }\n",
       "\n",
       "    .dataframe thead th {\n",
       "        text-align: right;\n",
       "    }\n",
       "</style>\n",
       "<table border=\"1\" class=\"dataframe\">\n",
       "  <thead>\n",
       "    <tr style=\"text-align: right;\">\n",
       "      <th></th>\n",
       "      <th>zip</th>\n",
       "      <th>median_income</th>\n",
       "      <th>liquor_store_density</th>\n",
       "      <th>DUI_rate</th>\n",
       "    </tr>\n",
       "  </thead>\n",
       "  <tbody>\n",
       "    <tr>\n",
       "      <td>zip</td>\n",
       "      <td>1.000000</td>\n",
       "      <td>0.019662</td>\n",
       "      <td>0.147925</td>\n",
       "      <td>-0.025641</td>\n",
       "    </tr>\n",
       "    <tr>\n",
       "      <td>median_income</td>\n",
       "      <td>0.019662</td>\n",
       "      <td>1.000000</td>\n",
       "      <td>0.094757</td>\n",
       "      <td>-0.091820</td>\n",
       "    </tr>\n",
       "    <tr>\n",
       "      <td>liquor_store_density</td>\n",
       "      <td>0.147925</td>\n",
       "      <td>0.094757</td>\n",
       "      <td>1.000000</td>\n",
       "      <td>0.327651</td>\n",
       "    </tr>\n",
       "    <tr>\n",
       "      <td>DUI_rate</td>\n",
       "      <td>-0.025641</td>\n",
       "      <td>-0.091820</td>\n",
       "      <td>0.327651</td>\n",
       "      <td>1.000000</td>\n",
       "    </tr>\n",
       "  </tbody>\n",
       "</table>\n",
       "</div>"
      ],
      "text/plain": [
       "                           zip  median_income  liquor_store_density  DUI_rate\n",
       "zip                   1.000000       0.019662              0.147925 -0.025641\n",
       "median_income         0.019662       1.000000              0.094757 -0.091820\n",
       "liquor_store_density  0.147925       0.094757              1.000000  0.327651\n",
       "DUI_rate             -0.025641      -0.091820              0.327651  1.000000"
      ]
     },
     "execution_count": 48,
     "metadata": {},
     "output_type": "execute_result"
    }
   ],
   "source": [
    "result_df.corr()"
   ]
  },
  {
   "cell_type": "markdown",
   "metadata": {},
   "source": [
    "There is a positive correlation between liquor store density and DUI rate, and a weak negative correlation between DUI rate and median income of a zip code."
   ]
  },
  {
   "cell_type": "code",
   "execution_count": 49,
   "metadata": {},
   "outputs": [],
   "source": [
    "a_income, b_income = np.polyfit(result_df['median_income'], result_df['DUI_rate'], 1)"
   ]
  },
  {
   "cell_type": "code",
   "execution_count": 50,
   "metadata": {},
   "outputs": [
    {
     "data": {
      "text/plain": [
       "(-2.799312114338822e-09, 0.0010385441214236148)"
      ]
     },
     "execution_count": 50,
     "metadata": {},
     "output_type": "execute_result"
    }
   ],
   "source": [
    "a_income, b_income"
   ]
  },
  {
   "cell_type": "code",
   "execution_count": 51,
   "metadata": {},
   "outputs": [],
   "source": [
    "a_density, b_density = np.polyfit(result_df['liquor_store_density'], result_df['DUI_rate'], 1)"
   ]
  },
  {
   "cell_type": "code",
   "execution_count": 52,
   "metadata": {
    "scrolled": true
   },
   "outputs": [
    {
     "data": {
      "text/plain": [
       "(0.05286957980441174, 0.0006323690565231124)"
      ]
     },
     "execution_count": 52,
     "metadata": {},
     "output_type": "execute_result"
    }
   ],
   "source": [
    "a_density, b_density"
   ]
  },
  {
   "cell_type": "code",
   "execution_count": 53,
   "metadata": {},
   "outputs": [],
   "source": [
    "pred_income = np.zeros(115)\n",
    "\n",
    "for i in range(30, 145):\n",
    "    pred_income[i - 30] = a_income * (i * 1000) + b_income"
   ]
  },
  {
   "cell_type": "markdown",
   "metadata": {},
   "source": [
    "Scatter plots: \n",
    "1. Predicted DUI rates based off income using polyfit values\n",
    "2. Plot it: y-axis being DUI rate and the x-axis being median zip code income\n",
    "3. Predicted DUI rate based off liquor store density using polyfit values\n",
    "4. Plot it: y-axis being DUI rate and the x-axis being liquor store density in a zip code"
   ]
  },
  {
   "cell_type": "code",
   "execution_count": 54,
   "metadata": {},
   "outputs": [
    {
     "data": {
      "image/png": "[encoded data removed]",
      "text/plain": [
       "<Figure size 432x288 with 1 Axes>"
      ]
     },
     "metadata": {
      "needs_background": "light"
     },
     "output_type": "display_data"
    }
   ],
   "source": [
    "# TODO add axis labels\n",
    "x_income = np.arange(30000, 145000, 1000)\n",
    "\n",
    "# Limit the y-axis to positive values because there's no negative DUI rate\n",
    "axes = plt.gca()\n",
    "axes.set_ylim([0,0.005])\n",
    "\n",
    "plt.scatter(result_df['median_income'], result_df['DUI_rate'])\n",
    "plt.plot(x_income, pred_income, c='red')\n",
    "\n",
    "f5 = plt.gcf()"
   ]
  },
  {
   "cell_type": "code",
   "execution_count": 55,
   "metadata": {},
   "outputs": [],
   "source": [
    "pred_density = np.zeros(36)\n",
    "\n",
    "for i in range(36):\n",
    "    pred_density[i] = a_density * (i * 0.001) + b_density"
   ]
  },
  {
   "cell_type": "code",
   "execution_count": 56,
   "metadata": {},
   "outputs": [
    {
     "data": {
      "image/png": "[encoded data removed]",
      "text/plain": [
       "<Figure size 432x288 with 1 Axes>"
      ]
     },
     "metadata": {
      "needs_background": "light"
     },
     "output_type": "display_data"
    }
   ],
   "source": [
    "x_density = np.arange(0, 0.036, 0.001)\n",
    "\n",
    "# Limit the y-axis to positive values because there's no negative DUI rate\n",
    "axes = plt.gca()\n",
    "axes.set_ylim([0, 0.005])\n",
    "\n",
    "plt.scatter(result_df['liquor_store_density'], result_df['DUI_rate'])\n",
    "plt.plot(x_density, pred_density, c='red')\n",
    "\n",
    "f5 = plt.gcf()"
   ]
  },
  {
   "cell_type": "markdown",
   "metadata": {},
   "source": [
    "## Significance"
   ]
  },
  {
   "cell_type": "markdown",
   "metadata": {},
   "source": [
    "After looking at correlations between DUI rate and median income/liquor store density, we wanted to check if either factor was statistically signifcant in determining DUI rate. For the purposes of our analysis, we are using a *0.05 alpha significance threshold*."
   ]
  },
  {
   "cell_type": "markdown",
   "metadata": {},
   "source": [
    "1. Create brackets for both liquor store density and median income by splitting both at the median into two separate categories. As a result, we have two groups, low and high, for the median income and liquor store density.\n",
    "2. For all zip codes in the result_df, classify each zip_code's median_income as RICH or POOR based on whether or not it's higher than the median zip_code income in San Diego. Add this income type-classification to the result_df.\n",
    "3. For all zip codes in the result_df, classify each zip_code's liquor store density as HIGH or LOW based on whether or not it's higher than the median zip_code liquor story density in San Diego. Add this density type-classification to the result_df."
   ]
  },
  {
   "cell_type": "code",
   "execution_count": 57,
   "metadata": {},
   "outputs": [],
   "source": [
    "result_df[\"income_type\"] = \"\"\n",
    "result_df[\"density_type\"] = \"\""
   ]
  },
  {
   "cell_type": "code",
   "execution_count": 58,
   "metadata": {},
   "outputs": [
    {
     "data": {
      "text/html": [
       "<div>\n",
       "<style scoped>\n",
       "    .dataframe tbody tr th:only-of-type {\n",
       "        vertical-align: middle;\n",
       "    }\n",
       "\n",
       "    .dataframe tbody tr th {\n",
       "        vertical-align: top;\n",
       "    }\n",
       "\n",
       "    .dataframe thead th {\n",
       "        text-align: right;\n",
       "    }\n",
       "</style>\n",
       "<table border=\"1\" class=\"dataframe\">\n",
       "  <thead>\n",
       "    <tr style=\"text-align: right;\">\n",
       "      <th></th>\n",
       "      <th>zip</th>\n",
       "      <th>median_income</th>\n",
       "      <th>liquor_store_density</th>\n",
       "      <th>DUI_rate</th>\n",
       "      <th>income_type</th>\n",
       "      <th>density_type</th>\n",
       "    </tr>\n",
       "  </thead>\n",
       "  <tbody>\n",
       "    <tr>\n",
       "      <td>0</td>\n",
       "      <td>91911.0</td>\n",
       "      <td>52274</td>\n",
       "      <td>0.001518</td>\n",
       "      <td>0.000578</td>\n",
       "      <td></td>\n",
       "      <td></td>\n",
       "    </tr>\n",
       "    <tr>\n",
       "      <td>1</td>\n",
       "      <td>92024.0</td>\n",
       "      <td>103417</td>\n",
       "      <td>0.004153</td>\n",
       "      <td>0.001445</td>\n",
       "      <td></td>\n",
       "      <td></td>\n",
       "    </tr>\n",
       "    <tr>\n",
       "      <td>2</td>\n",
       "      <td>91910.0</td>\n",
       "      <td>59371</td>\n",
       "      <td>0.002441</td>\n",
       "      <td>0.000844</td>\n",
       "      <td></td>\n",
       "      <td></td>\n",
       "    </tr>\n",
       "    <tr>\n",
       "      <td>3</td>\n",
       "      <td>91913.0</td>\n",
       "      <td>87440</td>\n",
       "      <td>0.000342</td>\n",
       "      <td>0.000439</td>\n",
       "      <td></td>\n",
       "      <td></td>\n",
       "    </tr>\n",
       "    <tr>\n",
       "      <td>4</td>\n",
       "      <td>91915.0</td>\n",
       "      <td>106452</td>\n",
       "      <td>0.001744</td>\n",
       "      <td>0.000284</td>\n",
       "      <td></td>\n",
       "      <td></td>\n",
       "    </tr>\n",
       "  </tbody>\n",
       "</table>\n",
       "</div>"
      ],
      "text/plain": [
       "       zip  median_income  liquor_store_density  DUI_rate income_type  \\\n",
       "0  91911.0          52274              0.001518  0.000578               \n",
       "1  92024.0         103417              0.004153  0.001445               \n",
       "2  91910.0          59371              0.002441  0.000844               \n",
       "3  91913.0          87440              0.000342  0.000439               \n",
       "4  91915.0         106452              0.001744  0.000284               \n",
       "\n",
       "  density_type  \n",
       "0               \n",
       "1               \n",
       "2               \n",
       "3               \n",
       "4               "
      ]
     },
     "execution_count": 58,
     "metadata": {},
     "output_type": "execute_result"
    }
   ],
   "source": [
    "result_df.head(5)"
   ]
  },
  {
   "cell_type": "code",
   "execution_count": 59,
   "metadata": {},
   "outputs": [],
   "source": [
    "result_zips = result_df['zip'].unique()"
   ]
  },
  {
   "cell_type": "code",
   "execution_count": 60,
   "metadata": {},
   "outputs": [],
   "source": [
    "for zip_code in result_zips:\n",
    "    current_zip = result_df[result_df['zip'] == zip_code]\n",
    "    income = current_zip['median_income'].values[0]\n",
    "    income_type = ''\n",
    "    \n",
    "    if income > median_zip_income:\n",
    "        income_type = 'RICH'\n",
    "    else:\n",
    "        income_type = 'POOR'\n",
    "    \n",
    "    result_df.loc[result_df['zip'] == zip_code, \"income_type\"] = income_type"
   ]
  },
  {
   "cell_type": "code",
   "execution_count": 61,
   "metadata": {},
   "outputs": [
    {
     "data": {
      "text/html": [
       "<div>\n",
       "<style scoped>\n",
       "    .dataframe tbody tr th:only-of-type {\n",
       "        vertical-align: middle;\n",
       "    }\n",
       "\n",
       "    .dataframe tbody tr th {\n",
       "        vertical-align: top;\n",
       "    }\n",
       "\n",
       "    .dataframe thead th {\n",
       "        text-align: right;\n",
       "    }\n",
       "</style>\n",
       "<table border=\"1\" class=\"dataframe\">\n",
       "  <thead>\n",
       "    <tr style=\"text-align: right;\">\n",
       "      <th></th>\n",
       "      <th>zip</th>\n",
       "      <th>median_income</th>\n",
       "      <th>liquor_store_density</th>\n",
       "      <th>DUI_rate</th>\n",
       "      <th>income_type</th>\n",
       "      <th>density_type</th>\n",
       "    </tr>\n",
       "  </thead>\n",
       "  <tbody>\n",
       "    <tr>\n",
       "      <td>0</td>\n",
       "      <td>91911.0</td>\n",
       "      <td>52274</td>\n",
       "      <td>0.001518</td>\n",
       "      <td>0.000578</td>\n",
       "      <td>POOR</td>\n",
       "      <td>LOW</td>\n",
       "    </tr>\n",
       "    <tr>\n",
       "      <td>1</td>\n",
       "      <td>92024.0</td>\n",
       "      <td>103417</td>\n",
       "      <td>0.004153</td>\n",
       "      <td>0.001445</td>\n",
       "      <td>RICH</td>\n",
       "      <td>HIGH</td>\n",
       "    </tr>\n",
       "    <tr>\n",
       "      <td>2</td>\n",
       "      <td>91910.0</td>\n",
       "      <td>59371</td>\n",
       "      <td>0.002441</td>\n",
       "      <td>0.000844</td>\n",
       "      <td>POOR</td>\n",
       "      <td>HIGH</td>\n",
       "    </tr>\n",
       "    <tr>\n",
       "      <td>3</td>\n",
       "      <td>91913.0</td>\n",
       "      <td>87440</td>\n",
       "      <td>0.000342</td>\n",
       "      <td>0.000439</td>\n",
       "      <td>RICH</td>\n",
       "      <td>LOW</td>\n",
       "    </tr>\n",
       "    <tr>\n",
       "      <td>4</td>\n",
       "      <td>91915.0</td>\n",
       "      <td>106452</td>\n",
       "      <td>0.001744</td>\n",
       "      <td>0.000284</td>\n",
       "      <td>RICH</td>\n",
       "      <td>LOW</td>\n",
       "    </tr>\n",
       "  </tbody>\n",
       "</table>\n",
       "</div>"
      ],
      "text/plain": [
       "       zip  median_income  liquor_store_density  DUI_rate income_type  \\\n",
       "0  91911.0          52274              0.001518  0.000578        POOR   \n",
       "1  92024.0         103417              0.004153  0.001445        RICH   \n",
       "2  91910.0          59371              0.002441  0.000844        POOR   \n",
       "3  91913.0          87440              0.000342  0.000439        RICH   \n",
       "4  91915.0         106452              0.001744  0.000284        RICH   \n",
       "\n",
       "  density_type  \n",
       "0          LOW  \n",
       "1         HIGH  \n",
       "2         HIGH  \n",
       "3          LOW  \n",
       "4          LOW  "
      ]
     },
     "execution_count": 61,
     "metadata": {},
     "output_type": "execute_result"
    }
   ],
   "source": [
    "for zip_code in result_zips:\n",
    "    current_zip = result_df[result_df['zip'] == zip_code]\n",
    "    density = current_zip['liquor_store_density'].values[0]\n",
    "    density_type = ''\n",
    "    \n",
    "    if density > median_liquor_density:\n",
    "        density_type = 'HIGH'\n",
    "    else:\n",
    "        density_type = 'LOW'\n",
    "    \n",
    "    result_df.loc[result_df['zip'] == zip_code, \"density_type\"] = density_type\n",
    "\n",
    "result_df.head(5)"
   ]
  },
  {
   "cell_type": "markdown",
   "metadata": {},
   "source": [
    "Get DUI_rates for all zip_codes, grouped by income type."
   ]
  },
  {
   "cell_type": "code",
   "execution_count": 62,
   "metadata": {},
   "outputs": [],
   "source": [
    "income_poor = result_df[result_df['income_type'] == 'POOR']['DUI_rate'].values\n",
    "income_rich = result_df[result_df['income_type'] == 'RICH']['DUI_rate'].values"
   ]
  },
  {
   "cell_type": "markdown",
   "metadata": {},
   "source": [
    "Run a t-test on the DUI rates when separated into the income types."
   ]
  },
  {
   "cell_type": "code",
   "execution_count": 63,
   "metadata": {},
   "outputs": [
    {
     "data": {
      "text/plain": [
       "(0.19465469942537508, 0.8461826866567435)"
      ]
     },
     "execution_count": 63,
     "metadata": {},
     "output_type": "execute_result"
    }
   ],
   "source": [
    "t_val_income, p_val_income = ttest_ind(income_poor, income_rich)\n",
    "t_val_income, p_val_income"
   ]
  },
  {
   "cell_type": "code",
   "execution_count": 64,
   "metadata": {},
   "outputs": [
    {
     "name": "stdout",
     "output_type": "stream",
     "text": [
      "There was not a significant difference.\n"
     ]
    }
   ],
   "source": [
    "if p_val_income < 0.05:\n",
    "    print(\"There was a significant difference\")\n",
    "else:\n",
    "    print(\"There was not a significant difference.\")"
   ]
  },
  {
   "cell_type": "markdown",
   "metadata": {},
   "source": [
    "Get DUI_rates for all zip_codes, grouped by liquor store density classification."
   ]
  },
  {
   "cell_type": "code",
   "execution_count": 65,
   "metadata": {},
   "outputs": [],
   "source": [
    "density_high = result_df[result_df['density_type'] == 'HIGH']['DUI_rate'].values\n",
    "density_low = result_df[result_df['density_type'] == 'LOW']['DUI_rate'].values"
   ]
  },
  {
   "cell_type": "markdown",
   "metadata": {},
   "source": [
    "Run a t-test on the DUI rates when separated into the density types."
   ]
  },
  {
   "cell_type": "code",
   "execution_count": 66,
   "metadata": {},
   "outputs": [
    {
     "data": {
      "text/plain": [
       "(2.426871856331739, 0.017598587993861343)"
      ]
     },
     "execution_count": 66,
     "metadata": {},
     "output_type": "execute_result"
    }
   ],
   "source": [
    "t_val_density, p_val_density = ttest_ind(density_high, density_low)\n",
    "t_val_density, p_val_density"
   ]
  },
  {
   "cell_type": "code",
   "execution_count": 67,
   "metadata": {},
   "outputs": [
    {
     "name": "stdout",
     "output_type": "stream",
     "text": [
      "There was a significant difference\n"
     ]
    }
   ],
   "source": [
    "if p_val_density < 0.05:\n",
    "    print(\"There was a significant difference\")\n",
    "else:\n",
    "    print(\"There was not a significant difference.\")"
   ]
  },
  {
   "cell_type": "markdown",
   "metadata": {},
   "source": [
    "Create a pivot table to see if there are confounding variables when determining significance."
   ]
  },
  {
   "cell_type": "code",
   "execution_count": 68,
   "metadata": {},
   "outputs": [
    {
     "data": {
      "text/html": [
       "<div>\n",
       "<style scoped>\n",
       "    .dataframe tbody tr th:only-of-type {\n",
       "        vertical-align: middle;\n",
       "    }\n",
       "\n",
       "    .dataframe tbody tr th {\n",
       "        vertical-align: top;\n",
       "    }\n",
       "\n",
       "    .dataframe thead th {\n",
       "        text-align: right;\n",
       "    }\n",
       "</style>\n",
       "<table border=\"1\" class=\"dataframe\">\n",
       "  <thead>\n",
       "    <tr style=\"text-align: right;\">\n",
       "      <th></th>\n",
       "      <th></th>\n",
       "      <th>DUI_rate</th>\n",
       "    </tr>\n",
       "    <tr>\n",
       "      <th>income_type</th>\n",
       "      <th>density_type</th>\n",
       "      <th></th>\n",
       "    </tr>\n",
       "  </thead>\n",
       "  <tbody>\n",
       "    <tr>\n",
       "      <td rowspan=\"2\" valign=\"top\">POOR</td>\n",
       "      <td>HIGH</td>\n",
       "      <td>0.001113</td>\n",
       "    </tr>\n",
       "    <tr>\n",
       "      <td>LOW</td>\n",
       "      <td>0.000681</td>\n",
       "    </tr>\n",
       "    <tr>\n",
       "      <td rowspan=\"2\" valign=\"top\">RICH</td>\n",
       "      <td>HIGH</td>\n",
       "      <td>0.000975</td>\n",
       "    </tr>\n",
       "    <tr>\n",
       "      <td>LOW</td>\n",
       "      <td>0.000494</td>\n",
       "    </tr>\n",
       "  </tbody>\n",
       "</table>\n",
       "</div>"
      ],
      "text/plain": [
       "                          DUI_rate\n",
       "income_type density_type          \n",
       "POOR        HIGH          0.001113\n",
       "            LOW           0.000681\n",
       "RICH        HIGH          0.000975\n",
       "            LOW           0.000494"
      ]
     },
     "execution_count": 68,
     "metadata": {},
     "output_type": "execute_result"
    }
   ],
   "source": [
    "pv = pd.pivot_table(result_df, values=['DUI_rate'], index=['income_type', 'density_type'])\n",
    "pv"
   ]
  },
  {
   "cell_type": "markdown",
   "metadata": {},
   "source": [
    "Here, we use OLS (Ordinary Least Squares) Regression to see what variable(s) have the highest impact on DUI rate."
   ]
  },
  {
   "cell_type": "markdown",
   "metadata": {},
   "source": [
    "First, we make a model that only compares DUI rate to income type."
   ]
  },
  {
   "cell_type": "code",
   "execution_count": 69,
   "metadata": {},
   "outputs": [],
   "source": [
    "outcome_1, predictors_1 = patsy.dmatrices('DUI_rate ~ income_type', result_df)\n",
    "mod_1 = sm.OLS(outcome_1, predictors_1)\n",
    "res_1 = mod_1.fit()"
   ]
  },
  {
   "cell_type": "code",
   "execution_count": 70,
   "metadata": {},
   "outputs": [
    {
     "name": "stdout",
     "output_type": "stream",
     "text": [
      "                            OLS Regression Results                            \n",
      "==============================================================================\n",
      "Dep. Variable:               DUI_rate   R-squared:                       0.000\n",
      "Model:                            OLS   Adj. R-squared:                 -0.013\n",
      "Method:                 Least Squares   F-statistic:                   0.03789\n",
      "Date:                Tue, 10 Dec 2019   Prob (F-statistic):              0.846\n",
      "Time:                        20:39:18   Log-Likelihood:                 449.08\n",
      "No. Observations:                  78   AIC:                            -894.2\n",
      "Df Residuals:                      76   BIC:                            -889.4\n",
      "Df Model:                           1                                         \n",
      "Covariance Type:            nonrobust                                         \n",
      "=======================================================================================\n",
      "                          coef    std err          t      P>|t|      [0.025      0.975]\n",
      "---------------------------------------------------------------------------------------\n",
      "Intercept               0.0008      0.000      6.744      0.000       0.001       0.001\n",
      "income_type[T.RICH] -3.414e-05      0.000     -0.195      0.846      -0.000       0.000\n",
      "==============================================================================\n",
      "Omnibus:                       47.742   Durbin-Watson:                   1.597\n",
      "Prob(Omnibus):                  0.000   Jarque-Bera (JB):              148.487\n",
      "Skew:                           2.027   Prob(JB):                     5.71e-33\n",
      "Kurtosis:                       8.409   Cond. No.                         2.62\n",
      "==============================================================================\n",
      "\n",
      "Warnings:\n",
      "[1] Standard Errors assume that the covariance matrix of the errors is correctly specified.\n"
     ]
    }
   ],
   "source": [
    "print(res_1.summary())"
   ]
  },
  {
   "cell_type": "markdown",
   "metadata": {},
   "source": [
    "The p-value was 0.846, which means income is not stastically signifcant in causing DUIs."
   ]
  },
  {
   "cell_type": "markdown",
   "metadata": {},
   "source": [
    "Second, we make a model that only compares DUI rate to density type."
   ]
  },
  {
   "cell_type": "code",
   "execution_count": 71,
   "metadata": {},
   "outputs": [],
   "source": [
    "outcome_2, predictors_2 = patsy.dmatrices('DUI_rate ~ density_type', result_df)\n",
    "mod_2 = sm.OLS(outcome_2, predictors_2)\n",
    "res_2 = mod_2.fit()"
   ]
  },
  {
   "cell_type": "code",
   "execution_count": 72,
   "metadata": {},
   "outputs": [
    {
     "name": "stdout",
     "output_type": "stream",
     "text": [
      "                            OLS Regression Results                            \n",
      "==============================================================================\n",
      "Dep. Variable:               DUI_rate   R-squared:                       0.072\n",
      "Model:                            OLS   Adj. R-squared:                  0.060\n",
      "Method:                 Least Squares   F-statistic:                     5.890\n",
      "Date:                Tue, 10 Dec 2019   Prob (F-statistic):             0.0176\n",
      "Time:                        20:39:18   Log-Likelihood:                 451.97\n",
      "No. Observations:                  78   AIC:                            -899.9\n",
      "Df Residuals:                      76   BIC:                            -895.2\n",
      "Df Model:                           1                                         \n",
      "Covariance Type:            nonrobust                                         \n",
      "=======================================================================================\n",
      "                          coef    std err          t      P>|t|      [0.025      0.975]\n",
      "---------------------------------------------------------------------------------------\n",
      "Intercept               0.0010      0.000      8.572      0.000       0.001       0.001\n",
      "density_type[T.LOW]    -0.0004      0.000     -2.427      0.018      -0.001   -7.35e-05\n",
      "==============================================================================\n",
      "Omnibus:                       43.535   Durbin-Watson:                   1.636\n",
      "Prob(Omnibus):                  0.000   Jarque-Bera (JB):              120.248\n",
      "Skew:                           1.882   Prob(JB):                     7.74e-27\n",
      "Kurtosis:                       7.779   Cond. No.                         2.62\n",
      "==============================================================================\n",
      "\n",
      "Warnings:\n",
      "[1] Standard Errors assume that the covariance matrix of the errors is correctly specified.\n"
     ]
    }
   ],
   "source": [
    "print(res_2.summary())"
   ]
  },
  {
   "cell_type": "markdown",
   "metadata": {},
   "source": [
    "The p-value was 0.018, which means liquor store density is stastically signifcant in causing DUIs."
   ]
  },
  {
   "cell_type": "markdown",
   "metadata": {},
   "source": [
    "Last, we make a model that only compares DUI rate to income type and density type."
   ]
  },
  {
   "cell_type": "code",
   "execution_count": 73,
   "metadata": {},
   "outputs": [],
   "source": [
    "outcome_3, predictors_3 = patsy.dmatrices('DUI_rate ~ income_type + density_type', result_df)\n",
    "mod_3 = sm.OLS(outcome_3, predictors_3)\n",
    "res_3 = mod_3.fit()"
   ]
  },
  {
   "cell_type": "code",
   "execution_count": 74,
   "metadata": {},
   "outputs": [
    {
     "name": "stdout",
     "output_type": "stream",
     "text": [
      "                            OLS Regression Results                            \n",
      "==============================================================================\n",
      "Dep. Variable:               DUI_rate   R-squared:                       0.082\n",
      "Model:                            OLS   Adj. R-squared:                  0.058\n",
      "Method:                 Least Squares   F-statistic:                     3.365\n",
      "Date:                Tue, 10 Dec 2019   Prob (F-statistic):             0.0398\n",
      "Time:                        20:39:18   Log-Likelihood:                 452.41\n",
      "No. Observations:                  78   AIC:                            -898.8\n",
      "Df Residuals:                      75   BIC:                            -891.8\n",
      "Df Model:                           2                                         \n",
      "Covariance Type:            nonrobust                                         \n",
      "=======================================================================================\n",
      "                          coef    std err          t      P>|t|      [0.025      0.975]\n",
      "---------------------------------------------------------------------------------------\n",
      "Intercept               0.0011      0.000      6.858      0.000       0.001       0.001\n",
      "income_type[T.RICH]    -0.0002      0.000     -0.923      0.359      -0.001       0.000\n",
      "density_type[T.LOW]    -0.0005      0.000     -2.586      0.012      -0.001      -0.000\n",
      "==============================================================================\n",
      "Omnibus:                       46.179   Durbin-Watson:                   1.644\n",
      "Prob(Omnibus):                  0.000   Jarque-Bera (JB):              141.366\n",
      "Skew:                           1.953   Prob(JB):                     2.01e-31\n",
      "Kurtosis:                       8.315   Cond. No.                         3.69\n",
      "==============================================================================\n",
      "\n",
      "Warnings:\n",
      "[1] Standard Errors assume that the covariance matrix of the errors is correctly specified.\n"
     ]
    }
   ],
   "source": [
    "print(res_3.summary())"
   ]
  },
  {
   "cell_type": "markdown",
   "metadata": {},
   "source": [
    "Here, we do OLS on both variables which show which one is more important when deciding DUI rate. P value is .359 for income type, which shows its not statistically significant, but P value is .012 for density type, which is statistically significant."
   ]
  },
  {
   "cell_type": "markdown",
   "metadata": {},
   "source": [
    "# Ethics & Privacy"
   ]
  },
  {
   "cell_type": "markdown",
   "metadata": {},
   "source": [
    "We followed the Safe Harbor Method for protecting people whose information were in the datasets we used. However, we didn’t group the zip codes based on the first 3 digits of the zip because its one of the main groups/factors of analysis and grouping 85 zips into 3-4 groups would make out project analysis quite ineffective. In addition to this, the data we got was not data collected by our group, but from a public, government website which already dropped many of the personal identifiers. Also, the zip code from the DUI list is of where the DUI occurred and not the zipcode of the residence of the offender, so there is less of a chance of someone being recognized from the zip code of the location of a DUI ticket.\n",
    "\n",
    "Through our analysis, we do not wish to anger or offend any groups, including different income brackets, alcoholics, criminals, etc. We understand that finances and drinking can be sensitive and private topics to people. "
   ]
  },
  {
   "cell_type": "markdown",
   "metadata": {},
   "source": [
    "# Conclusion & Discussion"
   ]
  },
  {
   "cell_type": "markdown",
   "metadata": {},
   "source": [
    "In conclusion, density of liquor stores of a neighborhood is statistically significant in predicting DUI rate! More liquor stores per person in a zipcode means more DUIs. While there a small negative correlation to income and DUI rate, it wasn't statistically significant, so we cannot say that income has an influence on DUI rates of an area. \n",
    "\n"
   ]
  },
  {
   "cell_type": "code",
   "execution_count": null,
   "metadata": {},
   "outputs": [],
   "source": []
  }
 ],
 "metadata": {
  "kernelspec": {
   "display_name": "Python 3",
   "language": "python",
   "name": "python3"
  },
  "language_info": {
   "codemirror_mode": {
    "name": "ipython",
    "version": 3
   },
   "file_extension": ".py",
   "mimetype": "text/x-python",
   "name": "python",
   "nbconvert_exporter": "python",
   "pygments_lexer": "ipython3",
   "version": "3.7.4"
  }
 },
 "nbformat": 4,
 "nbformat_minor": 2
}
